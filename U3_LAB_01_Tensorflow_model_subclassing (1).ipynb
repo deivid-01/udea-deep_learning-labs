{
  "nbformat": 4,
  "nbformat_minor": 0,
  "metadata": {
    "kernelspec": {
      "display_name": "p38",
      "language": "python",
      "name": "p38"
    },
    "language_info": {
      "codemirror_mode": {
        "name": "ipython",
        "version": 3
      },
      "file_extension": ".py",
      "mimetype": "text/x-python",
      "name": "python",
      "nbconvert_exporter": "python",
      "pygments_lexer": "ipython3",
      "version": "3.8.3"
    },
    "colab": {
      "name": "U3_LAB_01_Tensorflow_model_subclassing.ipynb",
      "provenance": [],
      "collapsed_sections": []
    }
  },
  "cells": [
    {
      "cell_type": "markdown",
      "metadata": {
        "id": "M1qWNISVzGu7"
      },
      "source": [
        "# LAB 3.1 - TF model subclassing"
      ]
    },
    {
      "cell_type": "code",
      "metadata": {
        "id": "1OWOr9_qzGvC",
        "colab": {
          "base_uri": "https://localhost:8080/"
        },
        "outputId": "c4ebec3c-636c-4d54-d3b6-ace15d6938c6"
      },
      "source": [
        "!wget -nc --no-cache -O init.py -q https://raw.githubusercontent.com/rramosp/2021.deeplearning/main/content/init.py\n",
        "import init; init.init(force_download=False); "
      ],
      "execution_count": 1,
      "outputs": [
        {
          "output_type": "stream",
          "text": [
            "replicating local resources\n"
          ],
          "name": "stdout"
        }
      ]
    },
    {
      "cell_type": "code",
      "metadata": {
        "scrolled": true,
        "id": "-QOSo6HZzGvD",
        "colab": {
          "base_uri": "https://localhost:8080/"
        },
        "outputId": "fe747df1-6897-414e-fbe4-773f37d47e5c"
      },
      "source": [
        "from local.lib.rlxmoocapi import submit, session\n",
        "import inspect\n",
        "student = session.Session(init.endpoint).login( course_id=init.course_id, lab_id=\"L03.01\" )"
      ],
      "execution_count": 136,
      "outputs": [
        {
          "output_type": "stream",
          "text": [
            "username: davida.torres@udea.edu.co\n",
            "password: ··········\n",
            "using session UDEA\n"
          ],
          "name": "stdout"
        }
      ]
    },
    {
      "cell_type": "code",
      "metadata": {
        "id": "SOnSelfnzGvD",
        "colab": {
          "base_uri": "https://localhost:8080/",
          "height": 69
        },
        "outputId": "af8b05b7-30b1-427e-f8ca-ab6d6020408c"
      },
      "source": [
        "import numpy as np\n",
        "import os\n",
        "os.environ['TF_CPP_MIN_LOG_LEVEL'] = '3' \n",
        "import tensorflow as tf\n",
        "import matplotlib.pyplot as plt\n",
        "%matplotlib inline\n",
        "%load_ext tensorboard\n",
        "\n",
        "from sklearn.datasets import *\n",
        "from local.lib import mlutils\n",
        "tf.__version__"
      ],
      "execution_count": 4,
      "outputs": [
        {
          "output_type": "stream",
          "text": [
            "The tensorboard extension is already loaded. To reload it, use:\n",
            "  %reload_ext tensorboard\n"
          ],
          "name": "stdout"
        },
        {
          "output_type": "execute_result",
          "data": {
            "application/vnd.google.colaboratory.intrinsic+json": {
              "type": "string"
            },
            "text/plain": [
              "'2.4.1'"
            ]
          },
          "metadata": {
            "tags": []
          },
          "execution_count": 4
        }
      ]
    },
    {
      "cell_type": "markdown",
      "metadata": {
        "id": "vn8QNCO_zGvE"
      },
      "source": [
        "\n",
        "\n",
        "**A multilayer perceptron**\n",
        "\n",
        "assuming $n$ layers, the output at layer $i$\n",
        "\n",
        "$$\\mathbf{a}_i = \\text{activation}(\\mathbf{a}_{i-1} \\cdot \\mathbf{W}_i + \\mathbf{b}_i)$$\n",
        "\n",
        "at the first layer\n",
        "\n",
        "$$\\mathbf{a}_0 = \\text{activation}(\\mathbf{X} \\cdot \\mathbf{W}_0 + \\mathbf{b}_0)$$\n",
        "\n",
        "and the layer prediction is the output of the last layer:\n",
        "\n",
        "$$\\hat{\\mathbf{y}} = \\mathbf{a}_{n-1}$$ \n",
        "\n",
        "with $\\text{activation}$ being an activation function, such as $\\text{sigmoid}(z) = \\frac{1}{1+e^{-z}}$, $\\text{tanh}$, $\\text{ReLU}$, etc.\n",
        "\n",
        "\n",
        "**Cost (with regularization)**\n",
        "\n",
        "\n",
        "$$J(\\mathbf{b}_1, b_2, \\mathbf{W}_1, \\mathbf{W}_2) = \\frac{1}{m}\\sum_{i=0}^{m-1} (\\hat{y}-y)^2 + \\lambda \\sum_{i=0}^{n-1} \\bigg[ \\| \\mathbf{b}_i\\|^2 + \\|\\mathbf{W}_i\\|^2 \\bigg]$$\n",
        "\n",
        "\n",
        "$\\lambda$ regulates the participation of the regularization terms. Given a vector or matrix $\\mathbf{T}$, its squared norm is denoted by $||\\mathbf{T}||^2 \\in \\mathbb{R}$ and it's computed by squaring all its elements and summing them all up. \n"
      ]
    },
    {
      "cell_type": "markdown",
      "metadata": {
        "id": "UC0qmDFBzGvE"
      },
      "source": [
        "## TASK 1: Model `build` \n",
        "\n",
        "Observe the class template below which is used to build a multilayer perceptron with a specific number of layers. In the constructor.\n",
        "\n",
        "- `neurons` must be a list of integers specifying the number of neurons of each hidden layer and the output layer.\n",
        "- `activations` must be a list of strings specifying  the activations of the neurons of each layer.\n",
        "\n",
        "Both `neurons` and `activations` must have the same number of elements. Observe how in the class constructor (`__init__`) we check for this and transform the list of activation strings to actual TF funcions.\n",
        "\n",
        "**YOU MUST** complete the `build` method in the class below so that `self.W` and `self.b` contain a list of tensors with randomly initialized weights for each layer. Create the weights by calling the `self.add_weights` function for each layer, both for the weights (add them to list `self.W`) and the biases (add them to list `b`). Call `self.add_weights` with parameters `initializer='random_normal', trainable=True, dtype=tf.float32`.\n",
        "\n",
        "Note that the shape of the first layer weights are not known until the `build` method is called which is when the `input_shape` for the input data is known. For instance, the following invokations\n",
        "\n",
        "\n",
        "    >> mlp = MLP_class(neurons=[10,5,1], activations=[\"tanh\",\"tanh\", \"sigmoid\"])\n",
        "    >> mlp.build([None, 2])\n",
        "    >> print (\"W shapes\", [i.shape for i in mlp.W])\n",
        "    \n",
        "should produce the following output\n",
        "    \n",
        "    W shapes [TensorShape([2, 10]), TensorShape([10, 5]), TensorShape([5, 1])]\n",
        "    b shapes [TensorShape([10]), TensorShape([5]), TensorShape([1])]"
      ]
    },
    {
      "cell_type": "code",
      "metadata": {
        "id": "bYxJ_G_NzGvF"
      },
      "source": [
        "def MLP(neurons, activations, reg=0.):\n",
        "\n",
        "    from tensorflow.keras import Model\n",
        "    from tensorflow.keras.activations import relu, sigmoid, tanh, linear\n",
        "    import numpy as np\n",
        "    import tensorflow as tf    \n",
        "\n",
        "    class MLP_class(Model):\n",
        "        def __init__(self, neurons, activations, reg=0.):\n",
        "            super().__init__()\n",
        "            self.activation_map = {\"linear\": linear, \"relu\": relu, \"tanh\":tanh, \"sigmoid\": sigmoid}\n",
        "            \n",
        "            assert len(neurons)==len(activations), \\\n",
        "                        \"must have the same number of neurons and activations\"\n",
        "                \n",
        "            assert np.alltrue([i in self.activation_map.keys() for i in activations]), \\\n",
        "                                \"activation string not recognized\"\n",
        "            \n",
        "            self.neurons = neurons\n",
        "            self.reg = reg\n",
        "            self.activations = [self.activation_map[i] for i in activations]\n",
        "\n",
        "            super().__init__()\n",
        "\n",
        "        def build(self, input_shape):\n",
        "                    \n",
        "            self.W = []\n",
        "            self.b = []\n",
        "            \n",
        "            for i,neuron in enumerate(self.neurons):\n",
        "\n",
        "              idx = input_shape[-1] if i == 0 else self.neurons[i-1]\n",
        " \n",
        "              layer_weights = self.add_weight(shape=(idx, neuron), initializer='random_normal',\n",
        "                                              trainable=True, dtype=tf.float32)\n",
        "              layer_bias= self.add_weight(shape=(neuron,), initializer='random_normal',\n",
        "                                           trainable=True, dtype=tf.float32)         \n",
        "\n",
        "              self.W.append( layer_weights)\n",
        "              self.b.append( layer_bias)\n",
        "            \n",
        "    return MLP_class(neurons, activations, reg)\n"
      ],
      "execution_count": 59,
      "outputs": []
    },
    {
      "cell_type": "markdown",
      "metadata": {
        "id": "EGW_l3R_zGvF"
      },
      "source": [
        "test manually your code"
      ]
    },
    {
      "cell_type": "code",
      "metadata": {
        "id": "5kZMYaoUzGvG",
        "colab": {
          "base_uri": "https://localhost:8080/"
        },
        "outputId": "adc655ee-53f7-48fe-9af4-aa673402803c"
      },
      "source": [
        "mlp = MLP(neurons=[10,5,1], activations=[\"tanh\",\"tanh\", \"sigmoid\"])\n",
        "mlp.build([None, 2])\n",
        "print (\"W shapes\", [i.shape for i in mlp.W])\n",
        "print (\"b shapes\", [i.shape for i in mlp.b])"
      ],
      "execution_count": 61,
      "outputs": [
        {
          "output_type": "stream",
          "text": [
            "W shapes [TensorShape([2, 10]), TensorShape([10, 5]), TensorShape([5, 1])]\n",
            "b shapes [TensorShape([10]), TensorShape([5]), TensorShape([1])]\n"
          ],
          "name": "stdout"
        }
      ]
    },
    {
      "cell_type": "markdown",
      "metadata": {
        "id": "BP-GrQl4zGvH"
      },
      "source": [
        "**Registra tu solución en linea**"
      ]
    },
    {
      "cell_type": "code",
      "metadata": {
        "scrolled": false,
        "id": "0S2L7Q1NzGvH",
        "colab": {
          "base_uri": "https://localhost:8080/",
          "height": 157
        },
        "outputId": "99cd0777-2c82-49ea-b401-8f2e92747e24"
      },
      "source": [
        "student.submit_task(namespace=globals(), task_id='T1');"
      ],
      "execution_count": 64,
      "outputs": [
        {
          "output_type": "display_data",
          "data": {
            "text/html": [
              "\n",
              "                    <b>T1 submitted.</b> <b><font color=\"blue\">your grade is 5</font></b> \n",
              "                    <p/><pre>----- grader message -------</pre>testing your code with 100 random calls<br/><b>correct</b><pre>----------------------------</pre>\n",
              "                    <p/><p/>\n",
              "                    <div style=\"font-size:10px\"><b>SUBMISSION CODE</b> /Ou3kkBEv57SSiiA1wHWCeQAOQEAV2oRmVrCfUr7KDZjmRQ23VRBO1CT1FlvtS7RUmIee/NWAjJJ1teCHBbZ6ODkSKgi96mBKw8W+wBfYSmi/5t+ZWSescCPqckvBywRRKAA4tWU0cSOMR6NKyo6iw==</div>\n",
              "                    "
            ],
            "text/plain": [
              "<IPython.core.display.HTML object>"
            ]
          },
          "metadata": {
            "tags": []
          }
        }
      ]
    },
    {
      "cell_type": "markdown",
      "metadata": {
        "id": "TzcTd-CgzGvH"
      },
      "source": [
        "## Task 2: Model `call` \n",
        "\n",
        "Complete the `call` method below so that it computes the output of the configured MLP with the input `X` as\n",
        "\n",
        "$$\\hat{\\mathbf{y}} = \\mathbf{a}_{n-1}$$ \n",
        "\n",
        "as described above. Use `self.W`, `self.b` and `self.activations` as constructed previously on the `build` and `__init__` methods."
      ]
    },
    {
      "cell_type": "code",
      "metadata": {
        "id": "GyvxCBK7zGvI"
      },
      "source": [
        "def MLP2(neurons, activations, reg=0.):\n",
        "    \n",
        "    from tensorflow.keras import Model\n",
        "    from tensorflow.keras.activations import relu, sigmoid, tanh, linear   \n",
        "\n",
        "    class MLP_class(Model):\n",
        "        def __init__(self, neurons, activations, reg=0.):\n",
        "            super().__init__()\n",
        "            self.activation_map = {\"linear\": linear, \"relu\": relu, \"tanh\":tanh, \"sigmoid\": sigmoid}\n",
        "            \n",
        "            assert len(neurons)==len(activations), \\\n",
        "                        \"must have the same number of neurons and activations\"\n",
        "                \n",
        "            assert np.alltrue([i in self.activation_map.keys() for i in activations]), \\\n",
        "                                \"activation string not recognized\"\n",
        "            \n",
        "            self.neurons = neurons\n",
        "            self.reg = reg\n",
        "            self.activations = [self.activation_map[i] for i in activations]\n",
        "\n",
        "            super().__init__()\n",
        "\n",
        "        def build(self, input_shape):\n",
        "          \n",
        "            self.W = []\n",
        "            self.b = []\n",
        "            \n",
        "            for i,neuron in enumerate(self.neurons):\n",
        "\n",
        "              idx = input_shape[-1] if i == 0 else self.neurons[i-1]\n",
        " \n",
        "              layer_weights = self.add_weight(shape=(idx, neuron), initializer='random_normal',\n",
        "                                              trainable=True, dtype=tf.float32)\n",
        "              layer_bias= self.add_weight(shape=(neuron,), initializer='random_normal',\n",
        "                                           trainable=True, dtype=tf.float32)         \n",
        "\n",
        "              self.W.append( layer_weights)\n",
        "              self.b.append( layer_bias)\n",
        "            \n",
        "        @tf.function\n",
        "        def call(self, X):\n",
        "      \n",
        "          a = self.activations[0](X@self.W[0]+self.b[0])\n",
        "          for  i,activation in  enumerate(self.activations[1:]):\n",
        "              a = activation(a@self.W[i+1]+self.b[i+1]) \n",
        "          return a\n",
        "        \n",
        "    return MLP_class(neurons, activations, reg)"
      ],
      "execution_count": 122,
      "outputs": []
    },
    {
      "cell_type": "markdown",
      "metadata": {
        "id": "H_O2u15izGvI"
      },
      "source": [
        "test manually your code, the following two cells must return the same value everytime you execute them. Observe your MLP will initialize to different random weights each time."
      ]
    },
    {
      "cell_type": "code",
      "metadata": {
        "id": "91qfsnz8zGvI",
        "colab": {
          "base_uri": "https://localhost:8080/"
        },
        "outputId": "0f029164-ba5b-4a58-a916-92aa910b0040"
      },
      "source": [
        "X = np.random.random(size=(4,2))\n",
        "neurons = [3,2]\n",
        "mlp = MLP2(neurons=[3,2], activations=[\"linear\", \"sigmoid\"])\n",
        "mlp(X)"
      ],
      "execution_count": 119,
      "outputs": [
        {
          "output_type": "execute_result",
          "data": {
            "text/plain": [
              "<tf.Tensor: shape=(4, 2), dtype=float32, numpy=\n",
              "array([[0.49994567, 0.50657564],\n",
              "       [0.49993595, 0.50623894],\n",
              "       [0.49896458, 0.5078684 ],\n",
              "       [0.49965987, 0.5069898 ]], dtype=float32)>"
            ]
          },
          "metadata": {
            "tags": []
          },
          "execution_count": 119
        }
      ]
    },
    {
      "cell_type": "code",
      "metadata": {
        "id": "no79OhtvzGvJ",
        "colab": {
          "base_uri": "https://localhost:8080/"
        },
        "outputId": "0b6061ad-5b64-4fb0-903a-5b9367749cb0"
      },
      "source": [
        "sigm = lambda x: 1/(1+np.exp(-x))\n",
        "W = [i.numpy() for i in mlp.W]\n",
        "b = [i.numpy() for i in mlp.b]\n",
        "sigm((X.dot(W[0])+b[0]).dot(W[1])+b[1])"
      ],
      "execution_count": 120,
      "outputs": [
        {
          "output_type": "execute_result",
          "data": {
            "text/plain": [
              "array([[0.49994567, 0.50657564],\n",
              "       [0.49993596, 0.50623892],\n",
              "       [0.49896458, 0.50786844],\n",
              "       [0.49965986, 0.50698976]])"
            ]
          },
          "metadata": {
            "tags": []
          },
          "execution_count": 120
        }
      ]
    },
    {
      "cell_type": "markdown",
      "metadata": {
        "id": "KiIH2xM6zGvJ"
      },
      "source": [
        "**Registra tu solución en linea**"
      ]
    },
    {
      "cell_type": "code",
      "metadata": {
        "scrolled": false,
        "id": "-TL8i7oJzGvJ",
        "colab": {
          "base_uri": "https://localhost:8080/",
          "height": 137
        },
        "outputId": "d29ed46c-0c20-417d-a527-47a0f2eb0791"
      },
      "source": [
        "student.submit_task(namespace=globals(), task_id='T2');"
      ],
      "execution_count": 123,
      "outputs": [
        {
          "output_type": "display_data",
          "data": {
            "text/html": [
              "\n",
              "                    <b>T2 submitted.</b> <b><font color=\"blue\">your grade is 5</font></b> \n",
              "                    <p/><pre>----- grader message -------</pre>testing your code with 100 random calls<br/><b>correct</b><pre>----------------------------</pre>\n",
              "                    <p/><p/>\n",
              "                    <div style=\"font-size:10px\"><b>SUBMISSION CODE</b> 0MsVDfLjvzq3IDcsdEJrwnVHXmPK4ajbNZi1jCGTx8xqYbxOQ8RgSBH3BSgpHvzRUXG16bMTv5E2jr+G1bDgt6eiIdHThWSC9ycGyJjhpWdy46HKgpRlXimapyt7uyY/9i9hoRya3nyjjdO8AcZFew==</div>\n",
              "                    "
            ],
            "text/plain": [
              "<IPython.core.display.HTML object>"
            ]
          },
          "metadata": {
            "tags": []
          }
        }
      ]
    },
    {
      "cell_type": "markdown",
      "metadata": {
        "id": "d4iK0FtszGvJ"
      },
      "source": [
        "## Task 3: Loss function\n",
        "\n",
        "Complete the `loss` method below so that it computes the loss of the `MLP` given predictions `y_pred` (as the output of the network) and desired output `y_true`.\n",
        "\n",
        "$$J(\\mathbf{b}_1, b_2, \\mathbf{W}_1, \\mathbf{W}_2) = \\frac{1}{m}\\sum_{i=0}^{m-1} (\\hat{y}-y)^2 + \\lambda \\sum_{i=0}^{n-1} \\bigg[ \\| \\mathbf{b}_i\\|^2_{mean} + \\|\\mathbf{W}_i\\|^2_{mean} \\bigg]$$\n",
        "\n",
        "\n",
        "observe the regularization term $\\lambda$ which is stored as `self.reg` in your class.\n",
        "\n",
        "For any weight or bias $\\mathbf{k}$, the expression $\\| \\mathbf{k}\\|^2_{mean}$ is the mean of all its elements squared."
      ]
    },
    {
      "cell_type": "code",
      "metadata": {
        "id": "lPijABNNzGvK"
      },
      "source": [
        "def MLP3(neurons, activations, reg=0.):\n",
        "    \n",
        "    from tensorflow.keras import Model\n",
        "    from tensorflow.keras.activations import relu, sigmoid, tanh, linear   \n",
        "\n",
        "    class MLP_class(Model):\n",
        "        def __init__(self, neurons, activations, reg=0.):\n",
        "            super().__init__()\n",
        "            self.activation_map = {\"linear\": linear, \"relu\": relu, \"tanh\":tanh, \"sigmoid\": sigmoid}\n",
        "            \n",
        "            assert len(neurons)==len(activations), \\\n",
        "                        \"must have the same number of neurons and activations\"\n",
        "                \n",
        "            assert np.alltrue([i in self.activation_map.keys() for i in activations]), \\\n",
        "                                \"activation string not recognized\"\n",
        "            \n",
        "            self.neurons = neurons\n",
        "            self.reg = reg\n",
        "            self.activations = [self.activation_map[i] for i in activations]\n",
        "\n",
        "            super().__init__()\n",
        "\n",
        "        def build(self, input_shape):\n",
        "            self.W = []\n",
        "            self.b = []\n",
        "            \n",
        "            for i,neuron in enumerate(self.neurons):\n",
        "\n",
        "              idx = input_shape[-1] if i == 0 else self.neurons[i-1]\n",
        " \n",
        "              layer_weights = self.add_weight(shape=(idx, neuron), initializer='random_normal',\n",
        "                                              trainable=True, dtype=tf.float32)\n",
        "              layer_bias= self.add_weight(shape=(neuron,), initializer='random_normal',\n",
        "                                           trainable=True, dtype=tf.float32)         \n",
        "\n",
        "              self.W.append( layer_weights)\n",
        "              self.b.append( layer_bias)\n",
        "            \n",
        "        @tf.function\n",
        "        def call(self, X):\n",
        "              \n",
        "            a = self.activations[0](X@self.W[0]+self.b[0])\n",
        "            for  i,activation in  enumerate(self.activations[1:]):\n",
        "                a = activation(a@self.W[i+1]+self.b[i+1]) \n",
        "            return a\n",
        "        \n",
        "        @tf.function\n",
        "        def loss(self, y_true, y_pred):\n",
        "            return  tf.reduce_mean( (y_pred - y_true)**2 ) + self.reg*tf.reduce_sum( [tf.reduce_mean((i**2)) for i in self.W+self.b])\n",
        "            \n",
        "        \n",
        "    return MLP_class(neurons, activations, reg)"
      ],
      "execution_count": 132,
      "outputs": []
    },
    {
      "cell_type": "markdown",
      "metadata": {
        "id": "7olXjC9EzGvK"
      },
      "source": [
        "test manually your code, the following two cells must return the same value everytime you execute them. Observe your MLP will initialize to different random weights each time."
      ]
    },
    {
      "cell_type": "code",
      "metadata": {
        "id": "hlvMJ6QHzGvK",
        "colab": {
          "base_uri": "https://localhost:8080/"
        },
        "outputId": "3bfa1b2e-0581-4310-fc61-f74277ecd554"
      },
      "source": [
        "X = np.random.random(size=(4,2)).astype(np.float32)\n",
        "y_true = np.random.randint(2, size=(len(X),1)).astype(np.float32)\n",
        "neurons = [3,2]\n",
        "mlp = MLP3(neurons=[3,1], activations=[\"linear\", \"sigmoid\"], reg=0.2)\n",
        "mlp.loss(mlp(X), y_true).numpy()"
      ],
      "execution_count": 133,
      "outputs": [
        {
          "output_type": "execute_result",
          "data": {
            "text/plain": [
              "0.25377706"
            ]
          },
          "metadata": {
            "tags": []
          },
          "execution_count": 133
        }
      ]
    },
    {
      "cell_type": "code",
      "metadata": {
        "id": "_Qf1VJ6ezGvL",
        "colab": {
          "base_uri": "https://localhost:8080/"
        },
        "outputId": "f541a745-010c-4428-9e96-e12d610f4a22"
      },
      "source": [
        "sigm = lambda x: 1/(1+np.exp(-x))\n",
        "W = [i.numpy() for i in mlp.W]\n",
        "b = [i.numpy() for i in mlp.b]\n",
        "y_pred = sigm((X.dot(W[0])+b[0]).dot(W[1])+b[1])\n",
        "((y_pred-y_true)**2).mean() + mlp.reg * np.sum([(i**2).numpy().mean() for i in mlp.W+mlp.b])"
      ],
      "execution_count": 134,
      "outputs": [
        {
          "output_type": "execute_result",
          "data": {
            "text/plain": [
              "0.2537770701572299"
            ]
          },
          "metadata": {
            "tags": []
          },
          "execution_count": 134
        }
      ]
    },
    {
      "cell_type": "markdown",
      "metadata": {
        "id": "qZJ6YBLtzGvL"
      },
      "source": [
        "**Registra tu solución en linea**"
      ]
    },
    {
      "cell_type": "code",
      "metadata": {
        "scrolled": true,
        "id": "lOLYsfPDzGvL",
        "colab": {
          "base_uri": "https://localhost:8080/",
          "height": 157
        },
        "outputId": "54e96815-eb13-4eb8-a8f8-b4e9af1a0de6"
      },
      "source": [
        "student.submit_task(namespace=globals(), task_id='T3');"
      ],
      "execution_count": 137,
      "outputs": [
        {
          "output_type": "display_data",
          "data": {
            "text/html": [
              "\n",
              "                    <b>T3 submitted.</b> <b><font color=\"blue\">your grade is 5</font></b> \n",
              "                    <p/><pre>----- grader message -------</pre>testing your code with 100 random calls<br/><b>correct</b><pre>----------------------------</pre>\n",
              "                    <p/><p/>\n",
              "                    <div style=\"font-size:10px\"><b>SUBMISSION CODE</b> /O4ZFeye12NWMBV6HWnYcWMGZ7EjKfIwNUsDlLbtP3DbwO5eDCcjDjUgyE4xbiodeaklhQ3ML9XdX2+aiBNugWdCpgjhOguc2hhFbiX4/mABHYCqD1eHGkW7xrBpchzf1oHltfelFzVpDi1d9WwU8g==</div>\n",
              "                    "
            ],
            "text/plain": [
              "<IPython.core.display.HTML object>"
            ]
          },
          "metadata": {
            "tags": []
          }
        }
      ]
    },
    {
      "cell_type": "markdown",
      "metadata": {
        "id": "BugMHeggzGvM"
      },
      "source": [
        "## Done!!\n",
        "\n",
        "now you can try your class with synthetic data"
      ]
    },
    {
      "cell_type": "code",
      "metadata": {
        "id": "QcCva7j-zGvM",
        "colab": {
          "base_uri": "https://localhost:8080/",
          "height": 282
        },
        "outputId": "00a7032a-eac3-4589-ab8d-38a03783fece"
      },
      "source": [
        "X, y = make_moons(200, noise=.35)\n",
        "X, y = X.astype(np.float32), y.astype(np.float32).reshape(-1,1)\n",
        "plt.scatter(X[:,0][y[:,0]==0], X[:,1][y[:,0]==0], color=\"red\", label=\"class 0\")\n",
        "plt.scatter(X[:,0][y[:,0]==1], X[:,1][y[:,0]==1], color=\"blue\", label=\"class 1\")"
      ],
      "execution_count": 138,
      "outputs": [
        {
          "output_type": "execute_result",
          "data": {
            "text/plain": [
              "<matplotlib.collections.PathCollection at 0x7fdffcf648d0>"
            ]
          },
          "metadata": {
            "tags": []
          },
          "execution_count": 138
        },
        {
          "output_type": "display_data",
          "data": {
            "image/png": "[encoded data removed]",
            "text/plain": [
              "<Figure size 432x288 with 1 Axes>"
            ]
          },
          "metadata": {
            "tags": [],
            "needs_background": "light"
          }
        }
      ]
    },
    {
      "cell_type": "markdown",
      "metadata": {
        "id": "-yYXB_2szGvM"
      },
      "source": [
        "create MLP and train!!"
      ]
    },
    {
      "cell_type": "code",
      "metadata": {
        "id": "8qe_VElzzGvM"
      },
      "source": [
        "mlp = MLP(neurons=[10,1], activations=[\"tanh\",\"sigmoid\"], reg=0.0)\n",
        "mlp.compile(optimizer=tf.keras.optimizers.Adam(learning_rate=0.1), loss=mlp.loss,\n",
        "           metrics=[tf.keras.metrics.mae, tf.keras.metrics.binary_accuracy])"
      ],
      "execution_count": null,
      "outputs": []
    },
    {
      "cell_type": "code",
      "metadata": {
        "id": "hQoWLCUszGvM"
      },
      "source": [
        "!rm -rf logs\n",
        "tensorboard_callback = tf.keras.callbacks.TensorBoard(log_dir=\"logs/no_regularization\")\n",
        "mlp.fit(X,y, epochs=400, batch_size=16, verbose=0, \n",
        "        callbacks=[tensorboard_callback])"
      ],
      "execution_count": null,
      "outputs": []
    },
    {
      "cell_type": "markdown",
      "metadata": {
        "id": "TvQKzI7HzGvN"
      },
      "source": [
        "observe the accuracy and classification frontier"
      ]
    },
    {
      "cell_type": "code",
      "metadata": {
        "id": "xfD_gosBzGvN"
      },
      "source": [
        "predict = lambda X: (mlp.predict(X)[:,0]>0.5).astype(int)\n",
        "mlutils.plot_2Ddata_with_boundary(predict, X, y.reshape(-1));\n",
        "plt.title(\"accuracy %.2f\"%np.mean(predict(X)==y.reshape(-1)));"
      ],
      "execution_count": null,
      "outputs": []
    },
    {
      "cell_type": "markdown",
      "metadata": {
        "id": "M1mc2Y_nzGvN"
      },
      "source": [
        "regularization must work!!!"
      ]
    },
    {
      "cell_type": "code",
      "metadata": {
        "id": "6noAgKZOzGvN"
      },
      "source": [
        "tensorboard_callback = tf.keras.callbacks.TensorBoard(log_dir=\"logs/with_regularization\")\n",
        "mlp = MLP(neurons=[10,1], activations=[\"tanh\",\"sigmoid\"], reg=0.005)\n",
        "\n",
        "mlp.compile(optimizer=tf.keras.optimizers.Adam(learning_rate=0.1), loss=mlp.loss,\n",
        "           metrics=[tf.keras.metrics.mae, tf.keras.metrics.binary_accuracy])\n",
        "\n",
        "mlp.fit(X,y, epochs=400, batch_size=10, verbose=0, callbacks=[tensorboard_callback])\n",
        "mlutils.plot_2Ddata_with_boundary(predict, X, y.reshape(-1))\n",
        "plt.title(\"accuracy %.2f\"%np.mean(predict(X)==y.reshape(-1)));"
      ],
      "execution_count": null,
      "outputs": []
    },
    {
      "cell_type": "markdown",
      "metadata": {
        "id": "lpZsRwTuzGvN"
      },
      "source": [
        "and inspect tensorboard"
      ]
    },
    {
      "cell_type": "code",
      "metadata": {
        "id": "BdZ8bQFKzGvO"
      },
      "source": [
        "%load_ext tensorboard\n",
        "%tensorboard --logdir logs\n"
      ],
      "execution_count": null,
      "outputs": []
    },
    {
      "cell_type": "code",
      "metadata": {
        "id": "mon59yENzGvO"
      },
      "source": [
        ""
      ],
      "execution_count": null,
      "outputs": []
    }
  ]
}