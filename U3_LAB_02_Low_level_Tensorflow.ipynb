{
  "nbformat": 4,
  "nbformat_minor": 0,
  "metadata": {
    "kernelspec": {
      "display_name": "p38",
      "language": "python",
      "name": "p38"
    },
    "language_info": {
      "codemirror_mode": {
        "name": "ipython",
        "version": 3
      },
      "file_extension": ".py",
      "mimetype": "text/x-python",
      "name": "python",
      "nbconvert_exporter": "python",
      "pygments_lexer": "ipython3",
      "version": "3.8.3"
    },
    "colab": {
      "name": "U3 LAB 02 - Low level Tensorflow.ipynb",
      "provenance": []
    }
  },
  "cells": [
    {
      "cell_type": "markdown",
      "metadata": {
        "id": "n8rzu46PTkGO"
      },
      "source": [
        "# LAB 3.2 - Low level `tensorflow`"
      ]
    },
    {
      "cell_type": "code",
      "metadata": {
        "colab": {
          "base_uri": "https://localhost:8080/"
        },
        "id": "cO4uFrkDTkGW",
        "outputId": "8ce5e424-a20c-4c4d-cf5c-9226f739ca2a"
      },
      "source": [
        "!wget -nc --no-cache -O init.py -q https://raw.githubusercontent.com/rramosp/2021.deeplearning/main/content/init.py\n",
        "import init; init.init(force_download=False); "
      ],
      "execution_count": 1,
      "outputs": [
        {
          "output_type": "stream",
          "text": [
            "replicating local resources\n"
          ],
          "name": "stdout"
        }
      ]
    },
    {
      "cell_type": "code",
      "metadata": {
        "scrolled": true,
        "colab": {
          "base_uri": "https://localhost:8080/"
        },
        "id": "7Ga8vW86TkGX",
        "outputId": "08d4ec5d-f241-4799-cac0-5040ae92a119"
      },
      "source": [
        "from local.lib.rlxmoocapi import submit, session\n",
        "import inspect\n",
        "student = session.Session(init.endpoint).login( course_id=init.course_id, lab_id=\"L03.02\" )"
      ],
      "execution_count": 2,
      "outputs": [
        {
          "output_type": "stream",
          "text": [
            "username: davida.torres@udea.edu.co\n",
            "password: ··········\n",
            "using session UDEA\n"
          ],
          "name": "stdout"
        }
      ]
    },
    {
      "cell_type": "code",
      "metadata": {
        "colab": {
          "base_uri": "https://localhost:8080/",
          "height": 35
        },
        "id": "5FpHQW2ITkGX",
        "outputId": "92fdd093-3ec3-47da-d9a2-fd82e63b8c7d"
      },
      "source": [
        "import numpy as np\n",
        "import os\n",
        "import tensorflow as tf\n",
        "from tensorflow.keras.models import Model, Sequential\n",
        "from tensorflow.keras.layers import Dense, BatchNormalization\n",
        "\n",
        "tf.__version__"
      ],
      "execution_count": 3,
      "outputs": [
        {
          "output_type": "execute_result",
          "data": {
            "application/vnd.google.colaboratory.intrinsic+json": {
              "type": "string"
            },
            "text/plain": [
              "'2.4.1'"
            ]
          },
          "metadata": {
            "tags": []
          },
          "execution_count": 3
        }
      ]
    },
    {
      "cell_type": "markdown",
      "metadata": {
        "id": "FWJs6h11TkGY"
      },
      "source": [
        "## TASK 1: Obtain layer output\n"
      ]
    },
    {
      "cell_type": "markdown",
      "metadata": {
        "id": "x9VCnQSnTkGY"
      },
      "source": [
        "**COMPLETE** the following function so that, when given a TF `model` and input  `X` returns the output of the model at layer `layer_name` when feeding `X` to the model.\n",
        "\n",
        "\n",
        "You **MUST RETURN** a `numpy` array, **NOT** a tensor.\n",
        "\n",
        "**HINT**: Use the [`tf.keras.Model`](https://www.tensorflow.org/api_docs/python/tf/keras/Model) class like in the functional API with `outputs` from the desired layer.\n",
        "\n",
        "**CHALLENGE**: Solve it with a single line of code (not counting the `import`)"
      ]
    },
    {
      "cell_type": "code",
      "metadata": {
        "id": "vcKtCicyTkGZ"
      },
      "source": [
        "def output_at_layer(X, model, layer_name):\n",
        "    from tensorflow.keras.models import Model\n",
        "    \n",
        "    for i,layer in enumerate( model.layers ):\n",
        "\n",
        "      a = model.layers[0](X) if i == 0 else model.get_layer(layer.name)(a)\n",
        "\n",
        "      if layer.name==layer_name:\n",
        "          break\n",
        "                       \n",
        "    return a.numpy()"
      ],
      "execution_count": null,
      "outputs": []
    },
    {
      "cell_type": "markdown",
      "metadata": {
        "id": "uSNqO7uZTkGZ"
      },
      "source": [
        "check your answer manually. With the following model and weights below you should get this answer:\n",
        "\n",
        "\n",
        "        >> output_at_layer(X, model, \"layer_A\")\n",
        "        array([[0.91274303, 0.69886017, 0.8832942 ],\n",
        "               [0.9311633 , 0.7634138 , 0.8924969 ],\n",
        "               [0.85661894, 0.5696809 , 0.8091405 ],\n",
        "               [0.8952345 , 0.6803274 , 0.8326857 ]], dtype=float32)\n",
        "\n",
        "        >> output_at_layer(X, model, \"layer_B\")\n",
        "        array([[0.87063193, 0.8240411 ],\n",
        "               [0.8774254 , 0.83376545],\n",
        "               [0.84875023, 0.7963983 ],\n",
        "               [0.86286545, 0.81590414]], dtype=float32)\n",
        "\n",
        "        >> output_at_layer(X, model, \"layer_C\")\n",
        "        array([[0.8959839 , 0.65980244],\n",
        "               [0.9032545 , 0.66435313],\n",
        "               [0.8733646 , 0.646801  ],\n",
        "               [0.8883195 , 0.6559416 ]], dtype=float32)"
      ]
    },
    {
      "cell_type": "code",
      "metadata": {
        "id": "IBDZWfhlTkGZ"
      },
      "source": [
        "def get_model(n1,n2,n3):\n",
        "    model = Sequential()\n",
        "    model.add(Dense(n1, name=\"layer_A\", activation=\"tanh\", input_dim=2))\n",
        "    model.add(Dense(n2, name=\"layer_B\", activation=\"sigmoid\"))\n",
        "    model.add(Dense(n3, name=\"layer_C\", activation=\"linear\"))\n",
        "    return model\n",
        "\n",
        "\n",
        "w = [np.array([[0.3336241 , 0.26024526, 0.37238857],\n",
        "               [0.6344426 , 0.67660165, 0.31070882]], dtype=np.float32),\n",
        "     np.array([0.97280777, 0.3447949 , 0.91722184], dtype=np.float32),\n",
        "     \n",
        "     np.array([[0.12999585, 0.31851983],\n",
        "               [0.7763866 , 0.8777575 ],\n",
        "               [0.99977154, 0.65771514]], dtype=np.float32),\n",
        "     np.array([0.36222705, 0.05885772], dtype=np.float32),\n",
        "\n",
        "     np.array([[0.75918376, 0.02541249],\n",
        "               [0.21730722, 0.45021895]], dtype=np.float32),\n",
        "     np.array([0.05594416, 0.26667854], dtype=np.float32)]\n",
        "\n",
        "\n",
        "X = np.array([[0.9269997 , 0.41239464],\n",
        "              [0.8461177 , 0.64935404],\n",
        "              [0.27092433, 0.34251866],\n",
        "              [0.22509325, 0.6301328 ]], dtype=np.float32)\n",
        "\n",
        "\n",
        "model=get_model(3,2,2)\n",
        "model.set_weights(w)"
      ],
      "execution_count": null,
      "outputs": []
    },
    {
      "cell_type": "code",
      "metadata": {
        "colab": {
          "base_uri": "https://localhost:8080/"
        },
        "id": "zyTgKxt5TkGc",
        "outputId": "2064c4b6-b7b1-4bfb-a3f0-a5a0154b8295"
      },
      "source": [
        "output_at_layer(X, model, \"layer_A\")"
      ],
      "execution_count": null,
      "outputs": [
        {
          "output_type": "execute_result",
          "data": {
            "text/plain": [
              "array([[0.9127429 , 0.69886017, 0.8832942 ],\n",
              "       [0.9311633 , 0.7634138 , 0.8924968 ],\n",
              "       [0.8566188 , 0.5696809 , 0.8091404 ],\n",
              "       [0.89523464, 0.6803274 , 0.8326857 ]], dtype=float32)"
            ]
          },
          "metadata": {
            "tags": []
          },
          "execution_count": 86
        }
      ]
    },
    {
      "cell_type": "code",
      "metadata": {
        "colab": {
          "base_uri": "https://localhost:8080/"
        },
        "id": "9jkAcV-HTkGe",
        "outputId": "8600067c-c498-4d05-cdde-9851bab7f6dc"
      },
      "source": [
        "# which corresponds to a tanh activation from the input data\n",
        "np.tanh(X.dot(w[0])+w[1])"
      ],
      "execution_count": null,
      "outputs": [
        {
          "output_type": "execute_result",
          "data": {
            "text/plain": [
              "array([[0.912743  , 0.69886017, 0.88329417],\n",
              "       [0.9311634 , 0.7634138 , 0.89249694],\n",
              "       [0.8566189 , 0.5696809 , 0.8091404 ],\n",
              "       [0.89523464, 0.6803274 , 0.8326857 ]], dtype=float32)"
            ]
          },
          "metadata": {
            "tags": []
          },
          "execution_count": 68
        }
      ]
    },
    {
      "cell_type": "code",
      "metadata": {
        "colab": {
          "base_uri": "https://localhost:8080/"
        },
        "id": "8oBA9UfoTkGf",
        "outputId": "a7d4ede5-f2c4-4590-c9df-66d417a296c5"
      },
      "source": [
        "output_at_layer(X, model, \"layer_B\")"
      ],
      "execution_count": null,
      "outputs": [
        {
          "output_type": "execute_result",
          "data": {
            "text/plain": [
              "array([[0.87063193, 0.8240411 ],\n",
              "       [0.8774254 , 0.83376545],\n",
              "       [0.84875023, 0.7963983 ],\n",
              "       [0.86286545, 0.81590414]], dtype=float32)"
            ]
          },
          "metadata": {
            "tags": []
          },
          "execution_count": 69
        }
      ]
    },
    {
      "cell_type": "code",
      "metadata": {
        "colab": {
          "base_uri": "https://localhost:8080/"
        },
        "id": "gXncjMB1TkGf",
        "outputId": "46e62c1c-d498-47d9-e641-9b0f285f8aca"
      },
      "source": [
        "# which corresponds to a sigmoid activation from the output of layer A\n",
        "sigm = lambda x: 1/(1+np.exp(-x))\n",
        "sigm(output_at_layer(X, model, \"layer_A\").dot(w[2])+w[3])"
      ],
      "execution_count": null,
      "outputs": [
        {
          "output_type": "execute_result",
          "data": {
            "text/plain": [
              "array([[0.870632  , 0.82404107],\n",
              "       [0.8774254 , 0.8337655 ],\n",
              "       [0.8487502 , 0.7963982 ],\n",
              "       [0.86286545, 0.81590414]], dtype=float32)"
            ]
          },
          "metadata": {
            "tags": []
          },
          "execution_count": 71
        }
      ]
    },
    {
      "cell_type": "code",
      "metadata": {
        "colab": {
          "base_uri": "https://localhost:8080/"
        },
        "id": "3eV24nvQTkGg",
        "outputId": "dcdba86c-2683-41d2-9215-fb64f01b2b8d"
      },
      "source": [
        "output_at_layer(X, model, \"layer_C\")"
      ],
      "execution_count": null,
      "outputs": [
        {
          "output_type": "execute_result",
          "data": {
            "text/plain": [
              "array([[0.8959839 , 0.6598024 ],\n",
              "       [0.90325445, 0.66435313],\n",
              "       [0.8733646 , 0.646801  ],\n",
              "       [0.8883195 , 0.6559416 ]], dtype=float32)"
            ]
          },
          "metadata": {
            "tags": []
          },
          "execution_count": 72
        }
      ]
    },
    {
      "cell_type": "code",
      "metadata": {
        "colab": {
          "base_uri": "https://localhost:8080/"
        },
        "id": "64RXy1USTkGh",
        "outputId": "d866d9ca-d23f-43bc-9e09-d10e66336595"
      },
      "source": [
        "# which corresponds to a linear activation from the output of layer B\n",
        "output_at_layer(X, model, \"layer_B\").dot(w[-2])+w[-1]"
      ],
      "execution_count": null,
      "outputs": [
        {
          "output_type": "execute_result",
          "data": {
            "text/plain": [
              "array([[0.8959839 , 0.65980244],\n",
              "       [0.9032545 , 0.66435313],\n",
              "       [0.8733646 , 0.646801  ],\n",
              "       [0.8883195 , 0.6559416 ]], dtype=float32)"
            ]
          },
          "metadata": {
            "tags": []
          },
          "execution_count": 73
        }
      ]
    },
    {
      "cell_type": "markdown",
      "metadata": {
        "id": "eBGtvroLTkGi"
      },
      "source": [
        "**Registra tu solución en linea**"
      ]
    },
    {
      "cell_type": "code",
      "metadata": {
        "scrolled": false,
        "colab": {
          "base_uri": "https://localhost:8080/",
          "height": 157
        },
        "id": "J6c2CKbWTkGi",
        "outputId": "582b4a73-e7b7-4bc9-deaf-28c6d88280b7"
      },
      "source": [
        "student.submit_task(namespace=globals(), task_id='T1');"
      ],
      "execution_count": null,
      "outputs": [
        {
          "output_type": "display_data",
          "data": {
            "text/html": [
              "\n",
              "                    <b>T1 submitted.</b> <b><font color=\"blue\">your grade is 5</font></b> \n",
              "                    <p/><pre>----- grader message -------</pre>testing your code with 100 random calls<br/><b>correct</b><pre>----------------------------</pre>\n",
              "                    <p/><p/>\n",
              "                    <div style=\"font-size:10px\"><b>SUBMISSION CODE</b> tvMpSkTU+GOq9qbhfPPO99s237HW2aNVDS1XG485+APS0GDxaofIgAgiEWpSEFWNL4B+hO37Q3pnwvMUwnhnbjXZX3ZXiE14mcIxy1tvdiY/9sJCN3C4ny8Vr6oev8lpNhc2Ed84vBxixCBfUtqgLg==</div>\n",
              "                    "
            ],
            "text/plain": [
              "<IPython.core.display.HTML object>"
            ]
          },
          "metadata": {
            "tags": []
          }
        }
      ]
    },
    {
      "cell_type": "code",
      "metadata": {
        "id": "_DYh-RBdTkGi"
      },
      "source": [
        ""
      ],
      "execution_count": null,
      "outputs": []
    },
    {
      "cell_type": "markdown",
      "metadata": {
        "id": "98NBlmgMTkGi"
      },
      "source": [
        "## TASK 2: Implement batch normalization\n",
        "\n",
        "Observe how we create a **ONE LAYER** model with **TANH** activation and batch normalization"
      ]
    },
    {
      "cell_type": "code",
      "metadata": {
        "id": "o1brezHgTkGj"
      },
      "source": [
        "def get_model(input_dim, n):\n",
        "    model = Sequential()\n",
        "    model.add(Dense(n, name=\"layer_A\", activation=\"tanh\", input_dim=input_dim))\n",
        "    model.add(BatchNormalization())\n",
        "    return model    "
      ],
      "execution_count": null,
      "outputs": []
    },
    {
      "cell_type": "markdown",
      "metadata": {
        "id": "LtyE4fIDTkGj"
      },
      "source": [
        "we manually initialize it with random weights and apply it to some random input"
      ]
    },
    {
      "cell_type": "code",
      "metadata": {
        "colab": {
          "base_uri": "https://localhost:8080/"
        },
        "id": "MkTDv9ahTkGj",
        "outputId": "805497b6-27e8-4969-b255-cfec2497370e"
      },
      "source": [
        "\n",
        "input_dim = np.random.randint(3)+2\n",
        "n = np.random.randint(5)+5\n",
        "X = np.random.random((6,input_dim)).astype(np.float32)\n",
        "print (\"input_dim\", input_dim, \", n\", n)\n"
      ],
      "execution_count": null,
      "outputs": [
        {
          "output_type": "stream",
          "text": [
            "input_dim 4 , n 6\n"
          ],
          "name": "stdout"
        }
      ]
    },
    {
      "cell_type": "code",
      "metadata": {
        "colab": {
          "base_uri": "https://localhost:8080/"
        },
        "id": "83s3IcTBTkGk",
        "outputId": "a69ee7e1-0a0f-4933-edfa-c5108baa7b55"
      },
      "source": [
        "\n",
        "model = get_model(input_dim=input_dim, n=n)\n",
        "model.set_weights([np.random.random(i.shape) for i in model.get_weights()])\n",
        "model.apply(X).numpy()\n"
      ],
      "execution_count": null,
      "outputs": [
        {
          "output_type": "stream",
          "text": [
            "/usr/local/lib/python3.7/dist-packages/tensorflow/python/keras/engine/base_layer.py:2273: UserWarning: `layer.apply` is deprecated and will be removed in a future version. Please use `layer.__call__` method instead.\n",
            "  warnings.warn('`layer.apply` is deprecated and '\n"
          ],
          "name": "stderr"
        },
        {
          "output_type": "execute_result",
          "data": {
            "text/plain": [
              "array([[0.22893018, 0.41086638, 0.8576787 , 0.3564769 , 0.9955812 ,\n",
              "        0.9897199 ],\n",
              "       [0.24666017, 0.46395177, 0.9829923 , 0.65205014, 1.1108847 ,\n",
              "        1.1835723 ],\n",
              "       [0.39588815, 0.43742144, 0.9470289 , 0.63492537, 1.1217229 ,\n",
              "        1.2082448 ],\n",
              "       [0.25846124, 0.45608285, 0.9688982 , 0.5995699 , 1.1096742 ,\n",
              "        1.1966488 ],\n",
              "       [0.06065613, 0.45017514, 0.9451901 , 0.43391573, 1.0089431 ,\n",
              "        0.96523315],\n",
              "       [0.12494808, 0.4531421 , 0.9475062 , 0.49323225, 1.0335097 ,\n",
              "        1.1180668 ]], dtype=float32)"
            ]
          },
          "metadata": {
            "tags": []
          },
          "execution_count": 89
        }
      ]
    },
    {
      "cell_type": "markdown",
      "metadata": {
        "id": "Qb18VZyyTkGl"
      },
      "source": [
        "and we can extract the weights of the dense layer and the batch normalization layer"
      ]
    },
    {
      "cell_type": "code",
      "metadata": {
        "colab": {
          "base_uri": "https://localhost:8080/"
        },
        "id": "-XmkM-KwTkGm",
        "outputId": "1dc0fed1-4942-4340-ba8f-1bfcee0d18ca"
      },
      "source": [
        "\n",
        "W, b, gamma, beta, moving_mean, moving_var = model.get_weights()\n",
        "W.shape, b.shape, beta.shape, moving_mean.shape, moving_var.shape\n"
      ],
      "execution_count": null,
      "outputs": [
        {
          "output_type": "execute_result",
          "data": {
            "text/plain": [
              "((4, 6), (6,), (6,), (6,), (6,))"
            ]
          },
          "metadata": {
            "tags": []
          },
          "execution_count": 90
        }
      ]
    },
    {
      "cell_type": "markdown",
      "metadata": {
        "id": "dEnq2cjZTkGm"
      },
      "source": [
        "**COMPLETE** the following function **WITHOUT USING TENSORFLOW** such that you get the same output as the model above, given the input and the weights.\n",
        "\n",
        "In specific, the Dense layer output must be\n",
        "\n",
        "$$A = \\text{tanh}(XW+b)$$\n",
        "\n",
        "And the batch normalization layer after that output is\n",
        "\n",
        "$$\\frac{A-m_\\mu}{\\sqrt{m_\\sigma+\\varepsilon}}\\gamma + \\beta$$\n",
        "\n",
        "You **MUST RETURN** a `numpy` array, **NOT** a tensor.\n",
        "\n",
        "**CHALLENGE**: Solve it with one single line of Python code."
      ]
    },
    {
      "cell_type": "code",
      "metadata": {
        "id": "AD1T-Zr4TkGm"
      },
      "source": [
        "def apply_model(X, W, b, gamma, beta, moving_mean, moving_var, epsilon=1e-3):\n",
        "     return  ( ( np.tanh( X @ W + b ) - moving_mean ) / np.sqrt( moving_var + epsilon) ) * gamma + beta"
      ],
      "execution_count": null,
      "outputs": []
    },
    {
      "cell_type": "markdown",
      "metadata": {
        "id": "phjrOnjaTkGn"
      },
      "source": [
        "check manually your code, the output should be the same as above."
      ]
    },
    {
      "cell_type": "code",
      "metadata": {
        "colab": {
          "base_uri": "https://localhost:8080/"
        },
        "id": "og5etIbvTkGn",
        "outputId": "de592d04-1058-4a61-cdc6-d41e0080777f"
      },
      "source": [
        "apply_model(X, W, b, gamma, beta, moving_mean, moving_var)"
      ],
      "execution_count": null,
      "outputs": [
        {
          "output_type": "execute_result",
          "data": {
            "text/plain": [
              "array([[0.22893009, 0.41086638, 0.8576787 , 0.35647684, 0.99558127,\n",
              "        0.98972005],\n",
              "       [0.24666017, 0.4639518 , 0.9829923 , 0.65205014, 1.1108848 ,\n",
              "        1.1835723 ],\n",
              "       [0.39588818, 0.43742147, 0.9470289 , 0.6349253 , 1.1217229 ,\n",
              "        1.208245  ],\n",
              "       [0.25846124, 0.45608288, 0.9688982 , 0.59956986, 1.1096742 ,\n",
              "        1.1966492 ],\n",
              "       [0.06065607, 0.45017514, 0.9451901 , 0.43391567, 1.0089432 ,\n",
              "        0.9652332 ],\n",
              "       [0.12494814, 0.45314217, 0.9475062 , 0.49323228, 1.0335097 ,\n",
              "        1.1180669 ]], dtype=float32)"
            ]
          },
          "metadata": {
            "tags": []
          },
          "execution_count": 107
        }
      ]
    },
    {
      "cell_type": "markdown",
      "metadata": {
        "id": "D5vjL-C2TkGn"
      },
      "source": [
        "**Registra tu solución en linea**"
      ]
    },
    {
      "cell_type": "code",
      "metadata": {
        "scrolled": false,
        "colab": {
          "base_uri": "https://localhost:8080/",
          "height": 157
        },
        "id": "f_HxI9DZTkGn",
        "outputId": "5f9400c2-5b4c-43eb-f586-312195d375ea"
      },
      "source": [
        "student.submit_task(namespace=globals(), task_id='T2');"
      ],
      "execution_count": null,
      "outputs": [
        {
          "output_type": "display_data",
          "data": {
            "text/html": [
              "\n",
              "                    <b>T2 submitted.</b> <b><font color=\"blue\">your grade is 5</font></b> \n",
              "                    <p/><pre>----- grader message -------</pre>testing your code with 100 random calls<br/><b>correct</b><pre>----------------------------</pre>\n",
              "                    <p/><p/>\n",
              "                    <div style=\"font-size:10px\"><b>SUBMISSION CODE</b> zQAyHyNeEH+Syt7r6CKwTiLWAJwHHo8Ck0V5n8zhpfQKrFlfHdc9WPGQI5c+OT3yDfieZR9vAl/jDMN7HTV0uhN9hgWIen1OIf/j96upJlM/UNvGpwl9FVZa/FnnYk8tAug/dhL1TUMSVQsuAgZIMw==</div>\n",
              "                    "
            ],
            "text/plain": [
              "<IPython.core.display.HTML object>"
            ]
          },
          "metadata": {
            "tags": []
          }
        }
      ]
    },
    {
      "cell_type": "markdown",
      "metadata": {
        "id": "RG4s9sRVTkGo"
      },
      "source": [
        "## TASK 3: Compute the Hessian\n",
        "\n",
        "Complete the function below so that computes the Hessian of a function with respect to a set of variables. Remember that the Hessian is the matrix with all combinations of double partial derivatives. See [https://en.wikipedia.org/wiki/Hessian_matrix](https://en.wikipedia.org/wiki/Hessian_matrix)\n",
        "\n",
        "\n",
        "The arguments for your code below:\n",
        "\n",
        "- `expression_fn`: is a Python function that, when executed, will return a Tensor depending on the variables in `svars`.\n",
        "- `svars`: a list of $n$ `tf.Variable`s against which  the derivatives are to be taken.\n",
        "\n",
        "The result:\n",
        "\n",
        "- a `numpy` array of dimension $n\\times n$, containing in each position the value of the corresponding double derivative evaluated with the value attached to each variable in `svars`.\n",
        "\n",
        "See the example call below to understand what you have to produce.\n",
        "\n",
        "**NOTE**: Observe that `expression_fn` is a function that you **must call** inside some `GradientTape` to obtain the expresion. This needs to be done this way because `GradientTape` needs to _watch_ how expressions are built to be able to access the computational graph and compute the gradient. This is a technique which is very often used in Tensorflow.\n",
        "\n",
        "\n",
        "\n",
        "**WARN**: You cannot use `tf.hessian` or `GradientTape.jacobian` or `sympy`. Do not use the name `hessian` to name any variable within your code.\n",
        "\n",
        "**HINT 1**: use a `GradientTape` inside another `GradientTape`.\n",
        "\n",
        "**HINT 2**: use `unconnected_gradients=tf.UnconnectedGradients.ZERO` as argument to `GradientTape.gradient` to have the variables not participating in an expresion result in gradient zero. For instance with $f=xy$, we have $\\frac{\\partial f}{\\partial y\\partial y}=0$, since $\\frac{\\partial f}{\\partial y}=1$. Or if we have $f=x$ we have $\\frac{\\partial f}{\\partial y\\partial x}=0$, since $\\frac{\\partial f}{\\partial y}=0$. If you do not include this argument, Tensorflow will return these values as `None` and you would have to fix them later."
      ]
    },
    {
      "cell_type": "code",
      "metadata": {
        "id": "YSRrWx-sTkGo"
      },
      "source": [
        "def get_double_derivatives(expression_fn,svars):\n",
        "    import tensorflow as tf\n",
        "    n = len(svars)\n",
        "    result = np.zeros((n,n))\n",
        "    d = []\n",
        "    with tf.GradientTape(persistent=True) as t:\n",
        "      with tf.GradientTape(persistent=True) as t2:\n",
        "        fn = expression_fn()\n",
        "      for i in svars:\n",
        "        d.append(t2.gradient(fn,i,unconnected_gradients=tf.UnconnectedGradients.ZERO))\n",
        "    for j in range ( 0,len(d)):\n",
        "      for k in range(0,len(d)):\n",
        "        result[j,k] = t.gradient(d[j],svars[k],unconnected_gradients=tf.UnconnectedGradients.ZERO).numpy()\n",
        "    \n",
        "    return result\n",
        "    "
      ],
      "execution_count": 10,
      "outputs": []
    },
    {
      "cell_type": "markdown",
      "metadata": {
        "id": "toGLjbZBTkGo"
      },
      "source": [
        "check your code. The following expression\n",
        "\n",
        "$$f = 2xy^2 + 3x\\cos{y}$$\n",
        "\n",
        "has as first derivatives:\n",
        "\n",
        "- $\\frac{\\partial f }{\\partial x} = 2y^2 +3\\cos{y}$\n",
        "- $\\frac{\\partial f }{\\partial y} = 4xy - 3x\\sin{y}$\n",
        "\n",
        "and as second derivatives:\n",
        "\n",
        "- $\\frac{\\partial f }{\\partial x \\partial x} = 0$\n",
        "- $\\frac{\\partial f }{\\partial x \\partial y} = 4y - 3\\sin{y}$\n",
        "- $\\frac{\\partial f }{\\partial y \\partial x} = 4y - 3\\sin{y}$\n",
        "- $\\frac{\\partial f }{\\partial y \\partial y} = 4x - 3x\\cos{y}$\n",
        "\n",
        "which, when evaluated at $x=2$ and $y=-3$ yields\n",
        "\n",
        "    [[  0     ,  -11.58],\n",
        "     [ -11.58 ,   13.94]]"
      ]
    },
    {
      "cell_type": "code",
      "metadata": {
        "colab": {
          "base_uri": "https://localhost:8080/"
        },
        "id": "8BvN1_aDTkGp",
        "outputId": "ad3a5044-e105-43f2-a927-6249785550d3"
      },
      "source": [
        "x = tf.Variable(2, dtype=tf.float32)\n",
        "y = tf.Variable(-3, dtype=tf.float32)\n",
        "expr = lambda: 2*x*y**2 + 3*x*tf.cos(y)\n",
        "\n",
        "get_double_derivatives(expr, [x,y])"
      ],
      "execution_count": 11,
      "outputs": [
        {
          "output_type": "execute_result",
          "data": {
            "text/plain": [
              "array([[  0.        , -11.57664013],\n",
              "       [-11.57664013,  13.93995476]])"
            ]
          },
          "metadata": {
            "tags": []
          },
          "execution_count": 11
        }
      ]
    },
    {
      "cell_type": "code",
      "metadata": {
        "id": "Mu723kYaTkGp"
      },
      "source": [
        ""
      ],
      "execution_count": null,
      "outputs": []
    },
    {
      "cell_type": "markdown",
      "metadata": {
        "id": "2zU1lIeXTkGp"
      },
      "source": [
        "**Registra tu solución en linea**"
      ]
    },
    {
      "cell_type": "code",
      "metadata": {
        "scrolled": false,
        "id": "xcMtZFUXTkGp",
        "colab": {
          "base_uri": "https://localhost:8080/",
          "height": 157
        },
        "outputId": "c87c37a0-ceb3-4908-8e4c-498d987d0782"
      },
      "source": [
        "student.submit_task(namespace=globals(), task_id='T3');"
      ],
      "execution_count": 12,
      "outputs": [
        {
          "output_type": "display_data",
          "data": {
            "text/html": [
              "\n",
              "                    <b>T3 submitted.</b> <b><font color=\"blue\">your grade is 5</font></b> \n",
              "                    <p/><pre>----- grader message -------</pre>testing your code with 100 random calls<br/><b>correct</b><pre>----------------------------</pre>\n",
              "                    <p/><p/>\n",
              "                    <div style=\"font-size:10px\"><b>SUBMISSION CODE</b> 0KqzE6FdMFlfZXRhsSwuprd9hAlVnGWwlLeaVE7mCtsmCsVCojCk61tHYi0WsJ6d6pc2uDVz9ruRWZeDvj27pH/7bqDd+0ZiEWkLcwKeUvhhJsg2dIF9j7lNdhZDHK7IKD0pXCzTBvxwLHaYbVpAXg==</div>\n",
              "                    "
            ],
            "text/plain": [
              "<IPython.core.display.HTML object>"
            ]
          },
          "metadata": {
            "tags": []
          }
        }
      ]
    },
    {
      "cell_type": "code",
      "metadata": {
        "id": "JjXcg5E6TkGp"
      },
      "source": [
        ""
      ],
      "execution_count": null,
      "outputs": []
    },
    {
      "cell_type": "code",
      "metadata": {
        "id": "SDK8qKXMTkGq"
      },
      "source": [
        ""
      ],
      "execution_count": null,
      "outputs": []
    }
  ]
}