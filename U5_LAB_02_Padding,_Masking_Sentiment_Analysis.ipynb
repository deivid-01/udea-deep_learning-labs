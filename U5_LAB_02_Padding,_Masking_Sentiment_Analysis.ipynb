{
  "nbformat": 4,
  "nbformat_minor": 0,
  "metadata": {
    "kernelspec": {
      "display_name": "Python 3",
      "language": "python",
      "name": "python3"
    },
    "language_info": {
      "codemirror_mode": {
        "name": "ipython",
        "version": 3
      },
      "file_extension": ".py",
      "mimetype": "text/x-python",
      "name": "python",
      "nbconvert_exporter": "python",
      "pygments_lexer": "ipython3",
      "version": "3.7.3"
    },
    "colab": {
      "name": "U5 LAB 02 - Padding, Masking - Sentiment Analysis.ipynb",
      "provenance": [],
      "collapsed_sections": []
    },
    "widgets": {
      "application/vnd.jupyter.widget-state+json": {
        "17a164f54fb04013b03f7c73983501be": {
          "model_module": "@jupyter-widgets/controls",
          "model_name": "HBoxModel",
          "state": {
            "_view_name": "HBoxView",
            "_dom_classes": [],
            "_model_name": "HBoxModel",
            "_view_module": "@jupyter-widgets/controls",
            "_model_module_version": "1.5.0",
            "_view_count": null,
            "_view_module_version": "1.5.0",
            "box_style": "",
            "layout": "IPY_MODEL_e077ebbec44a4f259eac38a8c477b2d3",
            "_model_module": "@jupyter-widgets/controls",
            "children": [
              "IPY_MODEL_1fa07aec42604d6283e19770e4d42833",
              "IPY_MODEL_e47178b9af7345a68e8d2a66c89c30f0",
              "IPY_MODEL_e20891d1cbb0444abda58d1c53cb4b82",
              "IPY_MODEL_f4e87c13a1144f118647d56ad4d99b30"
            ]
          }
        },
        "e077ebbec44a4f259eac38a8c477b2d3": {
          "model_module": "@jupyter-widgets/base",
          "model_name": "LayoutModel",
          "state": {
            "_view_name": "LayoutView",
            "grid_template_rows": null,
            "right": null,
            "justify_content": null,
            "_view_module": "@jupyter-widgets/base",
            "overflow": null,
            "_model_module_version": "1.2.0",
            "_view_count": null,
            "flex_flow": null,
            "width": null,
            "min_width": null,
            "border": null,
            "align_items": null,
            "bottom": null,
            "_model_module": "@jupyter-widgets/base",
            "top": null,
            "grid_column": null,
            "overflow_y": null,
            "overflow_x": null,
            "grid_auto_flow": null,
            "grid_area": null,
            "grid_template_columns": null,
            "flex": null,
            "_model_name": "LayoutModel",
            "justify_items": null,
            "grid_row": null,
            "max_height": null,
            "align_content": null,
            "visibility": null,
            "align_self": null,
            "height": null,
            "min_height": null,
            "padding": null,
            "grid_auto_rows": null,
            "grid_gap": null,
            "max_width": null,
            "order": null,
            "_view_module_version": "1.2.0",
            "grid_template_areas": null,
            "object_position": null,
            "object_fit": null,
            "grid_auto_columns": null,
            "margin": null,
            "display": null,
            "left": null
          }
        },
        "1fa07aec42604d6283e19770e4d42833": {
          "model_module": "@jupyter-widgets/controls",
          "model_name": "VBoxModel",
          "state": {
            "_view_name": "VBoxView",
            "_dom_classes": [],
            "_model_name": "VBoxModel",
            "_view_module": "@jupyter-widgets/controls",
            "_model_module_version": "1.5.0",
            "_view_count": null,
            "_view_module_version": "1.5.0",
            "box_style": "",
            "layout": "IPY_MODEL_3d7e1e5da94542a0a27de91ade591e86",
            "_model_module": "@jupyter-widgets/controls",
            "children": [
              "IPY_MODEL_31ac1cd76c424a69bea8f18e02e1c0a3",
              "IPY_MODEL_f2846a6d1e61464d856390b7c635f0d6"
            ]
          }
        },
        "e47178b9af7345a68e8d2a66c89c30f0": {
          "model_module": "@jupyter-widgets/controls",
          "model_name": "ButtonModel",
          "state": {
            "_view_name": "ButtonView",
            "style": "IPY_MODEL_47fb471d36e14a84acb095db1a8e244b",
            "_dom_classes": [
              "login_button"
            ],
            "description": "Login with email",
            "_model_name": "ButtonModel",
            "button_style": "",
            "_view_module": "@jupyter-widgets/controls",
            "_model_module_version": "1.5.0",
            "tooltip": "",
            "_view_count": null,
            "disabled": false,
            "_view_module_version": "1.5.0",
            "layout": "IPY_MODEL_aaea728b29ca47539e07a22461a2298d",
            "_model_module": "@jupyter-widgets/controls",
            "icon": ""
          }
        },
        "e20891d1cbb0444abda58d1c53cb4b82": {
          "model_module": "@jupyter-widgets/controls",
          "model_name": "HTMLModel",
          "state": {
            "_view_name": "HTMLView",
            "style": "IPY_MODEL_1b348e19047a415baf48a90c47c92b4a",
            "_dom_classes": [],
            "description": "",
            "_model_name": "HTMLModel",
            "placeholder": "​",
            "_view_module": "@jupyter-widgets/controls",
            "_model_module_version": "1.5.0",
            "value": "<center><big>or</big></center>",
            "_view_count": null,
            "_view_module_version": "1.5.0",
            "description_tooltip": null,
            "_model_module": "@jupyter-widgets/controls",
            "layout": "IPY_MODEL_bb7baefd832347cfa2dcfdb243e7a0bf"
          }
        },
        "f4e87c13a1144f118647d56ad4d99b30": {
          "model_module": "@jupyter-widgets/controls",
          "model_name": "ButtonModel",
          "state": {
            "_view_name": "ButtonView",
            "style": "IPY_MODEL_69c31ba9623640c393512eb8a4ea139a",
            "_dom_classes": [
              "google_button"
            ],
            "description": "Login with Google",
            "_model_name": "ButtonModel",
            "button_style": "",
            "_view_module": "@jupyter-widgets/controls",
            "_model_module_version": "1.5.0",
            "tooltip": "",
            "_view_count": null,
            "disabled": false,
            "_view_module_version": "1.5.0",
            "layout": "IPY_MODEL_5fa9de74e3264489be9ee1023b4ad2e9",
            "_model_module": "@jupyter-widgets/controls",
            "icon": ""
          }
        },
        "3d7e1e5da94542a0a27de91ade591e86": {
          "model_module": "@jupyter-widgets/base",
          "model_name": "LayoutModel",
          "state": {
            "_view_name": "LayoutView",
            "grid_template_rows": null,
            "right": null,
            "justify_content": null,
            "_view_module": "@jupyter-widgets/base",
            "overflow": null,
            "_model_module_version": "1.2.0",
            "_view_count": null,
            "flex_flow": null,
            "width": null,
            "min_width": null,
            "border": null,
            "align_items": null,
            "bottom": null,
            "_model_module": "@jupyter-widgets/base",
            "top": null,
            "grid_column": null,
            "overflow_y": null,
            "overflow_x": null,
            "grid_auto_flow": null,
            "grid_area": null,
            "grid_template_columns": null,
            "flex": null,
            "_model_name": "LayoutModel",
            "justify_items": null,
            "grid_row": null,
            "max_height": null,
            "align_content": null,
            "visibility": null,
            "align_self": null,
            "height": null,
            "min_height": null,
            "padding": null,
            "grid_auto_rows": null,
            "grid_gap": null,
            "max_width": null,
            "order": null,
            "_view_module_version": "1.2.0",
            "grid_template_areas": null,
            "object_position": null,
            "object_fit": null,
            "grid_auto_columns": null,
            "margin": null,
            "display": null,
            "left": null
          }
        },
        "31ac1cd76c424a69bea8f18e02e1c0a3": {
          "model_module": "@jupyter-widgets/controls",
          "model_name": "TextModel",
          "state": {
            "_view_name": "TextView",
            "style": "IPY_MODEL_e548c94279fe4d1ea463f933ff43afb8",
            "_dom_classes": [],
            "description": "email",
            "_model_name": "TextModel",
            "placeholder": "​",
            "_view_module": "@jupyter-widgets/controls",
            "_model_module_version": "1.5.0",
            "value": "",
            "_view_count": null,
            "disabled": false,
            "_view_module_version": "1.5.0",
            "continuous_update": true,
            "description_tooltip": null,
            "_model_module": "@jupyter-widgets/controls",
            "layout": "IPY_MODEL_ee9f977ffe27421cac5d25b934604bff"
          }
        },
        "f2846a6d1e61464d856390b7c635f0d6": {
          "model_module": "@jupyter-widgets/controls",
          "model_name": "PasswordModel",
          "state": {
            "_view_name": "PasswordView",
            "style": "IPY_MODEL_c1f98e2bf5334123bba49b161295cada",
            "_dom_classes": [],
            "description": "password",
            "_model_name": "PasswordModel",
            "placeholder": "​",
            "_view_module": "@jupyter-widgets/controls",
            "_model_module_version": "1.5.0",
            "value": "",
            "_view_count": null,
            "disabled": false,
            "_view_module_version": "1.5.0",
            "continuous_update": true,
            "description_tooltip": null,
            "_model_module": "@jupyter-widgets/controls",
            "layout": "IPY_MODEL_b6b31b06ddcf453dabe5785725b7e8b8"
          }
        },
        "47fb471d36e14a84acb095db1a8e244b": {
          "model_module": "@jupyter-widgets/controls",
          "model_name": "ButtonStyleModel",
          "state": {
            "_view_name": "StyleView",
            "_model_name": "ButtonStyleModel",
            "_view_module": "@jupyter-widgets/base",
            "_model_module_version": "1.5.0",
            "_view_count": null,
            "button_color": null,
            "font_weight": "",
            "_view_module_version": "1.2.0",
            "_model_module": "@jupyter-widgets/controls"
          }
        },
        "aaea728b29ca47539e07a22461a2298d": {
          "model_module": "@jupyter-widgets/base",
          "model_name": "LayoutModel",
          "state": {
            "_view_name": "LayoutView",
            "grid_template_rows": null,
            "right": null,
            "justify_content": null,
            "_view_module": "@jupyter-widgets/base",
            "overflow": null,
            "_model_module_version": "1.2.0",
            "_view_count": null,
            "flex_flow": null,
            "width": "150px",
            "min_width": null,
            "border": null,
            "align_items": null,
            "bottom": null,
            "_model_module": "@jupyter-widgets/base",
            "top": null,
            "grid_column": null,
            "overflow_y": null,
            "overflow_x": null,
            "grid_auto_flow": null,
            "grid_area": null,
            "grid_template_columns": null,
            "flex": null,
            "_model_name": "LayoutModel",
            "justify_items": null,
            "grid_row": null,
            "max_height": null,
            "align_content": null,
            "visibility": null,
            "align_self": null,
            "height": "53px",
            "min_height": null,
            "padding": null,
            "grid_auto_rows": null,
            "grid_gap": null,
            "max_width": null,
            "order": null,
            "_view_module_version": "1.2.0",
            "grid_template_areas": null,
            "object_position": null,
            "object_fit": null,
            "grid_auto_columns": null,
            "margin": null,
            "display": null,
            "left": null
          }
        },
        "1b348e19047a415baf48a90c47c92b4a": {
          "model_module": "@jupyter-widgets/controls",
          "model_name": "DescriptionStyleModel",
          "state": {
            "_view_name": "StyleView",
            "_model_name": "DescriptionStyleModel",
            "description_width": "",
            "_view_module": "@jupyter-widgets/base",
            "_model_module_version": "1.5.0",
            "_view_count": null,
            "_view_module_version": "1.2.0",
            "_model_module": "@jupyter-widgets/controls"
          }
        },
        "bb7baefd832347cfa2dcfdb243e7a0bf": {
          "model_module": "@jupyter-widgets/base",
          "model_name": "LayoutModel",
          "state": {
            "_view_name": "LayoutView",
            "grid_template_rows": null,
            "right": null,
            "justify_content": null,
            "_view_module": "@jupyter-widgets/base",
            "overflow": null,
            "_model_module_version": "1.2.0",
            "_view_count": null,
            "flex_flow": null,
            "width": "100px",
            "min_width": null,
            "border": null,
            "align_items": null,
            "bottom": null,
            "_model_module": "@jupyter-widgets/base",
            "top": null,
            "grid_column": null,
            "overflow_y": null,
            "overflow_x": null,
            "grid_auto_flow": null,
            "grid_area": null,
            "grid_template_columns": null,
            "flex": null,
            "_model_name": "LayoutModel",
            "justify_items": null,
            "grid_row": null,
            "max_height": null,
            "align_content": null,
            "visibility": null,
            "align_self": null,
            "height": null,
            "min_height": null,
            "padding": null,
            "grid_auto_rows": null,
            "grid_gap": null,
            "max_width": null,
            "order": null,
            "_view_module_version": "1.2.0",
            "grid_template_areas": null,
            "object_position": null,
            "object_fit": null,
            "grid_auto_columns": null,
            "margin": null,
            "display": null,
            "left": null
          }
        },
        "69c31ba9623640c393512eb8a4ea139a": {
          "model_module": "@jupyter-widgets/controls",
          "model_name": "ButtonStyleModel",
          "state": {
            "_view_name": "StyleView",
            "_model_name": "ButtonStyleModel",
            "_view_module": "@jupyter-widgets/base",
            "_model_module_version": "1.5.0",
            "_view_count": null,
            "button_color": null,
            "font_weight": "",
            "_view_module_version": "1.2.0",
            "_model_module": "@jupyter-widgets/controls"
          }
        },
        "5fa9de74e3264489be9ee1023b4ad2e9": {
          "model_module": "@jupyter-widgets/base",
          "model_name": "LayoutModel",
          "state": {
            "_view_name": "LayoutView",
            "grid_template_rows": null,
            "right": null,
            "justify_content": null,
            "_view_module": "@jupyter-widgets/base",
            "overflow": null,
            "_model_module_version": "1.2.0",
            "_view_count": null,
            "flex_flow": null,
            "width": "200px",
            "min_width": null,
            "border": null,
            "align_items": null,
            "bottom": null,
            "_model_module": "@jupyter-widgets/base",
            "top": null,
            "grid_column": null,
            "overflow_y": null,
            "overflow_x": null,
            "grid_auto_flow": null,
            "grid_area": null,
            "grid_template_columns": null,
            "flex": null,
            "_model_name": "LayoutModel",
            "justify_items": null,
            "grid_row": null,
            "max_height": null,
            "align_content": null,
            "visibility": null,
            "align_self": null,
            "height": "53px",
            "min_height": null,
            "padding": null,
            "grid_auto_rows": null,
            "grid_gap": null,
            "max_width": null,
            "order": null,
            "_view_module_version": "1.2.0",
            "grid_template_areas": null,
            "object_position": null,
            "object_fit": null,
            "grid_auto_columns": null,
            "margin": null,
            "display": null,
            "left": null
          }
        },
        "e548c94279fe4d1ea463f933ff43afb8": {
          "model_module": "@jupyter-widgets/controls",
          "model_name": "DescriptionStyleModel",
          "state": {
            "_view_name": "StyleView",
            "_model_name": "DescriptionStyleModel",
            "description_width": "",
            "_view_module": "@jupyter-widgets/base",
            "_model_module_version": "1.5.0",
            "_view_count": null,
            "_view_module_version": "1.2.0",
            "_model_module": "@jupyter-widgets/controls"
          }
        },
        "ee9f977ffe27421cac5d25b934604bff": {
          "model_module": "@jupyter-widgets/base",
          "model_name": "LayoutModel",
          "state": {
            "_view_name": "LayoutView",
            "grid_template_rows": null,
            "right": null,
            "justify_content": null,
            "_view_module": "@jupyter-widgets/base",
            "overflow": null,
            "_model_module_version": "1.2.0",
            "_view_count": null,
            "flex_flow": null,
            "width": "300px",
            "min_width": null,
            "border": null,
            "align_items": null,
            "bottom": null,
            "_model_module": "@jupyter-widgets/base",
            "top": null,
            "grid_column": null,
            "overflow_y": null,
            "overflow_x": null,
            "grid_auto_flow": null,
            "grid_area": null,
            "grid_template_columns": null,
            "flex": null,
            "_model_name": "LayoutModel",
            "justify_items": null,
            "grid_row": null,
            "max_height": null,
            "align_content": null,
            "visibility": null,
            "align_self": null,
            "height": "25px",
            "min_height": null,
            "padding": null,
            "grid_auto_rows": null,
            "grid_gap": null,
            "max_width": null,
            "order": null,
            "_view_module_version": "1.2.0",
            "grid_template_areas": null,
            "object_position": null,
            "object_fit": null,
            "grid_auto_columns": null,
            "margin": null,
            "display": null,
            "left": null
          }
        },
        "c1f98e2bf5334123bba49b161295cada": {
          "model_module": "@jupyter-widgets/controls",
          "model_name": "DescriptionStyleModel",
          "state": {
            "_view_name": "StyleView",
            "_model_name": "DescriptionStyleModel",
            "description_width": "",
            "_view_module": "@jupyter-widgets/base",
            "_model_module_version": "1.5.0",
            "_view_count": null,
            "_view_module_version": "1.2.0",
            "_model_module": "@jupyter-widgets/controls"
          }
        },
        "b6b31b06ddcf453dabe5785725b7e8b8": {
          "model_module": "@jupyter-widgets/base",
          "model_name": "LayoutModel",
          "state": {
            "_view_name": "LayoutView",
            "grid_template_rows": null,
            "right": null,
            "justify_content": null,
            "_view_module": "@jupyter-widgets/base",
            "overflow": null,
            "_model_module_version": "1.2.0",
            "_view_count": null,
            "flex_flow": null,
            "width": "300px",
            "min_width": null,
            "border": null,
            "align_items": null,
            "bottom": null,
            "_model_module": "@jupyter-widgets/base",
            "top": null,
            "grid_column": null,
            "overflow_y": null,
            "overflow_x": null,
            "grid_auto_flow": null,
            "grid_area": null,
            "grid_template_columns": null,
            "flex": null,
            "_model_name": "LayoutModel",
            "justify_items": null,
            "grid_row": null,
            "max_height": null,
            "align_content": null,
            "visibility": null,
            "align_self": null,
            "height": "24px",
            "min_height": null,
            "padding": null,
            "grid_auto_rows": null,
            "grid_gap": null,
            "max_width": null,
            "order": null,
            "_view_module_version": "1.2.0",
            "grid_template_areas": null,
            "object_position": null,
            "object_fit": null,
            "grid_auto_columns": null,
            "margin": null,
            "display": null,
            "left": null
          }
        }
      }
    }
  },
  "cells": [
    {
      "cell_type": "markdown",
      "metadata": {
        "id": "ylbFdcN9Qtjw"
      },
      "source": [
        "# LAB 5.2 - Padding - Masking"
      ]
    },
    {
      "cell_type": "code",
      "metadata": {
        "id": "Fc9Ko1S-Qtj4",
        "colab": {
          "base_uri": "https://localhost:8080/",
          "height": 73
        },
        "outputId": "1b026586-9d6d-46dd-a576-a5833cba67f2"
      },
      "source": [
        "!wget -nc --no-cache -O init.py -q https://raw.githubusercontent.com/rramosp/2021.deeplearning/main/content/init.py\n",
        "import init; init.init(force_download=False); init.get_weblink() "
      ],
      "execution_count": 1,
      "outputs": [
        {
          "output_type": "display_data",
          "data": {
            "text/html": [
              "\n",
              "<meta name=\"google-signin-client_id\"\n",
              "      content=\"461673936472-kdjosv61up3ac1ajeuq6qqu72upilmls.apps.googleusercontent.com\"/>\n",
              "<script src=\"https://apis.google.com/js/client:platform.js?onload=google_button_start\"></script>\n",
              "    "
            ],
            "text/plain": [
              "<IPython.core.display.HTML object>"
            ]
          },
          "metadata": {
            "tags": []
          }
        },
        {
          "output_type": "stream",
          "text": [
            "replicating local resources\n"
          ],
          "name": "stdout"
        },
        {
          "output_type": "execute_result",
          "data": {
            "text/html": [
              "<h3>See <a href='https://m5knaekxo6.execute-api.us-west-2.amazonaws.com/dev-v0001/rlxmooc/web/login' target='_blank'>my courses and progress</a></h2>"
            ],
            "text/plain": [
              "<IPython.core.display.HTML object>"
            ]
          },
          "metadata": {
            "tags": []
          },
          "execution_count": 1
        }
      ]
    },
    {
      "cell_type": "code",
      "metadata": {
        "id": "3U5dzJMzQtj7",
        "colab": {
          "base_uri": "https://localhost:8080/",
          "height": 202,
          "referenced_widgets": [
            "17a164f54fb04013b03f7c73983501be",
            "e077ebbec44a4f259eac38a8c477b2d3",
            "1fa07aec42604d6283e19770e4d42833",
            "e47178b9af7345a68e8d2a66c89c30f0",
            "e20891d1cbb0444abda58d1c53cb4b82",
            "f4e87c13a1144f118647d56ad4d99b30",
            "3d7e1e5da94542a0a27de91ade591e86",
            "31ac1cd76c424a69bea8f18e02e1c0a3",
            "f2846a6d1e61464d856390b7c635f0d6",
            "47fb471d36e14a84acb095db1a8e244b",
            "aaea728b29ca47539e07a22461a2298d",
            "1b348e19047a415baf48a90c47c92b4a",
            "bb7baefd832347cfa2dcfdb243e7a0bf",
            "69c31ba9623640c393512eb8a4ea139a",
            "5fa9de74e3264489be9ee1023b4ad2e9",
            "e548c94279fe4d1ea463f933ff43afb8",
            "ee9f977ffe27421cac5d25b934604bff",
            "c1f98e2bf5334123bba49b161295cada",
            "b6b31b06ddcf453dabe5785725b7e8b8"
          ]
        },
        "outputId": "814b8b6c-1be5-4a52-9bcd-04573e25b7ba"
      },
      "source": [
        "from local.lib.rlxmoocapi import submit, session\n",
        "import inspect\n",
        "session.LoginSequence(endpoint=init.endpoint, course_id=init.course_id, lab_id=\"L05.02\", varname=\"student\");"
      ],
      "execution_count": 32,
      "outputs": [
        {
          "output_type": "stream",
          "text": [
            "logging in as davida.torres@udea.edu.co... please wait\n",
            "using course session 2021.deeplearning::UDEA\n",
            "success!! you are logged in\n",
            "success!! you are logged in\n"
          ],
          "name": "stdout"
        }
      ]
    },
    {
      "cell_type": "code",
      "metadata": {
        "id": "JZJqOsUjQtj-",
        "colab": {
          "base_uri": "https://localhost:8080/",
          "height": 52
        },
        "outputId": "eb8f4d9d-500b-4734-a90e-563c617f0953"
      },
      "source": [
        "import sys\n",
        "if 'google.colab' in sys.modules:\n",
        "    print (\"setting tensorflow version in colab\")\n",
        "    %tensorflow_version 2.x\n",
        "import tensorflow as tf\n",
        "tf.__version__"
      ],
      "execution_count": 2,
      "outputs": [
        {
          "output_type": "stream",
          "text": [
            "setting tensorflow version in colab\n"
          ],
          "name": "stdout"
        },
        {
          "output_type": "execute_result",
          "data": {
            "application/vnd.google.colaboratory.intrinsic+json": {
              "type": "string"
            },
            "text/plain": [
              "'2.4.1'"
            ]
          },
          "metadata": {
            "tags": []
          },
          "execution_count": 2
        }
      ]
    },
    {
      "cell_type": "code",
      "metadata": {
        "id": "4uTk0Z9zQtkA"
      },
      "source": [
        "#Basic required libraries\n",
        "import numpy as np # linear algebra\n",
        "import pandas as pd # data processing, CSV file I/O (e.g. pd.read_csv)\n",
        "import matplotlib.pyplot as plt"
      ],
      "execution_count": 3,
      "outputs": []
    },
    {
      "cell_type": "markdown",
      "metadata": {
        "id": "aAFp70PrQtkB"
      },
      "source": [
        "#### The aim of this lab is to build a system for sentiment analysis on a dataset of tweets."
      ]
    },
    {
      "cell_type": "markdown",
      "metadata": {
        "id": "m31yfqO2QtkC"
      },
      "source": [
        "The data consist on passenger's reviews of U.S. airlines: https://www.kaggle.com/crowdflower/twitter-airline-sentiment "
      ]
    },
    {
      "cell_type": "code",
      "metadata": {
        "id": "kRVdbcRDQtkE"
      },
      "source": [
        "data = pd.read_csv('local/data/Tweets.csv')\n",
        "# Keeping only the neccessary columns\n",
        "data = data[['text','airline_sentiment']]"
      ],
      "execution_count": 4,
      "outputs": []
    },
    {
      "cell_type": "code",
      "metadata": {
        "id": "nOVWnNfJQtkF",
        "colab": {
          "base_uri": "https://localhost:8080/",
          "height": 404
        },
        "outputId": "28ed8504-bff3-4a58-9743-50964eed3210"
      },
      "source": [
        "data"
      ],
      "execution_count": 5,
      "outputs": [
        {
          "output_type": "execute_result",
          "data": {
            "text/html": [
              "<div>\n",
              "<style scoped>\n",
              "    .dataframe tbody tr th:only-of-type {\n",
              "        vertical-align: middle;\n",
              "    }\n",
              "\n",
              "    .dataframe tbody tr th {\n",
              "        vertical-align: top;\n",
              "    }\n",
              "\n",
              "    .dataframe thead th {\n",
              "        text-align: right;\n",
              "    }\n",
              "</style>\n",
              "<table border=\"1\" class=\"dataframe\">\n",
              "  <thead>\n",
              "    <tr style=\"text-align: right;\">\n",
              "      <th></th>\n",
              "      <th>text</th>\n",
              "      <th>airline_sentiment</th>\n",
              "    </tr>\n",
              "  </thead>\n",
              "  <tbody>\n",
              "    <tr>\n",
              "      <th>0</th>\n",
              "      <td>@VirginAmerica What @dhepburn said.</td>\n",
              "      <td>neutral</td>\n",
              "    </tr>\n",
              "    <tr>\n",
              "      <th>1</th>\n",
              "      <td>@VirginAmerica plus you've added commercials t...</td>\n",
              "      <td>positive</td>\n",
              "    </tr>\n",
              "    <tr>\n",
              "      <th>2</th>\n",
              "      <td>@VirginAmerica I didn't today... Must mean I n...</td>\n",
              "      <td>neutral</td>\n",
              "    </tr>\n",
              "    <tr>\n",
              "      <th>3</th>\n",
              "      <td>@VirginAmerica it's really aggressive to blast...</td>\n",
              "      <td>negative</td>\n",
              "    </tr>\n",
              "    <tr>\n",
              "      <th>4</th>\n",
              "      <td>@VirginAmerica and it's a really big bad thing...</td>\n",
              "      <td>negative</td>\n",
              "    </tr>\n",
              "    <tr>\n",
              "      <th>...</th>\n",
              "      <td>...</td>\n",
              "      <td>...</td>\n",
              "    </tr>\n",
              "    <tr>\n",
              "      <th>14635</th>\n",
              "      <td>@AmericanAir thank you we got on a different f...</td>\n",
              "      <td>positive</td>\n",
              "    </tr>\n",
              "    <tr>\n",
              "      <th>14636</th>\n",
              "      <td>@AmericanAir leaving over 20 minutes Late Flig...</td>\n",
              "      <td>negative</td>\n",
              "    </tr>\n",
              "    <tr>\n",
              "      <th>14637</th>\n",
              "      <td>@AmericanAir Please bring American Airlines to...</td>\n",
              "      <td>neutral</td>\n",
              "    </tr>\n",
              "    <tr>\n",
              "      <th>14638</th>\n",
              "      <td>@AmericanAir you have my money, you change my ...</td>\n",
              "      <td>negative</td>\n",
              "    </tr>\n",
              "    <tr>\n",
              "      <th>14639</th>\n",
              "      <td>@AmericanAir we have 8 ppl so we need 2 know h...</td>\n",
              "      <td>neutral</td>\n",
              "    </tr>\n",
              "  </tbody>\n",
              "</table>\n",
              "<p>14640 rows × 2 columns</p>\n",
              "</div>"
            ],
            "text/plain": [
              "                                                    text airline_sentiment\n",
              "0                    @VirginAmerica What @dhepburn said.           neutral\n",
              "1      @VirginAmerica plus you've added commercials t...          positive\n",
              "2      @VirginAmerica I didn't today... Must mean I n...           neutral\n",
              "3      @VirginAmerica it's really aggressive to blast...          negative\n",
              "4      @VirginAmerica and it's a really big bad thing...          negative\n",
              "...                                                  ...               ...\n",
              "14635  @AmericanAir thank you we got on a different f...          positive\n",
              "14636  @AmericanAir leaving over 20 minutes Late Flig...          negative\n",
              "14637  @AmericanAir Please bring American Airlines to...           neutral\n",
              "14638  @AmericanAir you have my money, you change my ...          negative\n",
              "14639  @AmericanAir we have 8 ppl so we need 2 know h...           neutral\n",
              "\n",
              "[14640 rows x 2 columns]"
            ]
          },
          "metadata": {
            "tags": []
          },
          "execution_count": 5
        }
      ]
    },
    {
      "cell_type": "code",
      "metadata": {
        "id": "rpdmj1vhQtkJ",
        "colab": {
          "base_uri": "https://localhost:8080/"
        },
        "outputId": "b2432c24-7d38-4693-8bb0-053ef4da4666"
      },
      "source": [
        "import re\n",
        "pd.options.mode.chained_assignment = None  # default='warn'\n",
        "#Remove neutral class\n",
        "data = data[data.airline_sentiment != \"neutral\"]\n",
        "\n",
        "#text normalization\n",
        "data['text'] = data['text'].apply(lambda x: x.lower())\n",
        "data['text'] = data['text'].apply((lambda x:re.sub('@[^\\s]+','',x)))#remove the name of the airline\n",
        "data['text'] = data['text'].apply((lambda x: re.sub('[^a-zA-z0-9\\s]','',x)))\n",
        "Np = np.sum(data['airline_sentiment'].values == 'positive')\n",
        "Nn = np.sum(data['airline_sentiment'].values == 'negative')\n",
        "print(f'Number of positive samples={Np}')\n",
        "print(f'Number of negative samples={Nn}')\n",
        "for idx,row in data.iterrows():\n",
        "    row[0] = row[0].replace('rt',' ')"
      ],
      "execution_count": 6,
      "outputs": [
        {
          "output_type": "stream",
          "text": [
            "Number of positive samples=2363\n",
            "Number of negative samples=9178\n"
          ],
          "name": "stdout"
        }
      ]
    },
    {
      "cell_type": "code",
      "metadata": {
        "id": "YDktXC7PQtkL",
        "colab": {
          "base_uri": "https://localhost:8080/",
          "height": 404
        },
        "outputId": "aa96e051-2bc9-44ee-fe06-7d25bc5fed4e"
      },
      "source": [
        "data"
      ],
      "execution_count": 7,
      "outputs": [
        {
          "output_type": "execute_result",
          "data": {
            "text/html": [
              "<div>\n",
              "<style scoped>\n",
              "    .dataframe tbody tr th:only-of-type {\n",
              "        vertical-align: middle;\n",
              "    }\n",
              "\n",
              "    .dataframe tbody tr th {\n",
              "        vertical-align: top;\n",
              "    }\n",
              "\n",
              "    .dataframe thead th {\n",
              "        text-align: right;\n",
              "    }\n",
              "</style>\n",
              "<table border=\"1\" class=\"dataframe\">\n",
              "  <thead>\n",
              "    <tr style=\"text-align: right;\">\n",
              "      <th></th>\n",
              "      <th>text</th>\n",
              "      <th>airline_sentiment</th>\n",
              "    </tr>\n",
              "  </thead>\n",
              "  <tbody>\n",
              "    <tr>\n",
              "      <th>1</th>\n",
              "      <td>plus youve added commercials to the experienc...</td>\n",
              "      <td>positive</td>\n",
              "    </tr>\n",
              "    <tr>\n",
              "      <th>3</th>\n",
              "      <td>its really aggressive to blast obnoxious ente...</td>\n",
              "      <td>negative</td>\n",
              "    </tr>\n",
              "    <tr>\n",
              "      <th>4</th>\n",
              "      <td>and its a really big bad thing about it</td>\n",
              "      <td>negative</td>\n",
              "    </tr>\n",
              "    <tr>\n",
              "      <th>5</th>\n",
              "      <td>seriously would pay 30 a flight for seats tha...</td>\n",
              "      <td>negative</td>\n",
              "    </tr>\n",
              "    <tr>\n",
              "      <th>6</th>\n",
              "      <td>yes nearly every time i fly vx this ear worm ...</td>\n",
              "      <td>positive</td>\n",
              "    </tr>\n",
              "    <tr>\n",
              "      <th>...</th>\n",
              "      <td>...</td>\n",
              "      <td>...</td>\n",
              "    </tr>\n",
              "    <tr>\n",
              "      <th>14633</th>\n",
              "      <td>my flight was cancelled flightled leaving tom...</td>\n",
              "      <td>negative</td>\n",
              "    </tr>\n",
              "    <tr>\n",
              "      <th>14634</th>\n",
              "      <td>right on cue with the delays</td>\n",
              "      <td>negative</td>\n",
              "    </tr>\n",
              "    <tr>\n",
              "      <th>14635</th>\n",
              "      <td>thank you we got on a different flight to chi...</td>\n",
              "      <td>positive</td>\n",
              "    </tr>\n",
              "    <tr>\n",
              "      <th>14636</th>\n",
              "      <td>leaving over 20 minutes late flight no warnin...</td>\n",
              "      <td>negative</td>\n",
              "    </tr>\n",
              "    <tr>\n",
              "      <th>14638</th>\n",
              "      <td>you have my money you change my flight and do...</td>\n",
              "      <td>negative</td>\n",
              "    </tr>\n",
              "  </tbody>\n",
              "</table>\n",
              "<p>11541 rows × 2 columns</p>\n",
              "</div>"
            ],
            "text/plain": [
              "                                                    text airline_sentiment\n",
              "1       plus youve added commercials to the experienc...          positive\n",
              "3       its really aggressive to blast obnoxious ente...          negative\n",
              "4                and its a really big bad thing about it          negative\n",
              "5       seriously would pay 30 a flight for seats tha...          negative\n",
              "6       yes nearly every time i fly vx this ear worm ...          positive\n",
              "...                                                  ...               ...\n",
              "14633   my flight was cancelled flightled leaving tom...          negative\n",
              "14634                       right on cue with the delays          negative\n",
              "14635   thank you we got on a different flight to chi...          positive\n",
              "14636   leaving over 20 minutes late flight no warnin...          negative\n",
              "14638   you have my money you change my flight and do...          negative\n",
              "\n",
              "[11541 rows x 2 columns]"
            ]
          },
          "metadata": {
            "tags": []
          },
          "execution_count": 7
        }
      ]
    },
    {
      "cell_type": "code",
      "metadata": {
        "id": "uJftRo-9QtkN",
        "colab": {
          "base_uri": "https://localhost:8080/"
        },
        "outputId": "737803c2-d13f-41fc-adea-da69dd854aaa"
      },
      "source": [
        "import nltk\n",
        "nltk.download('punkt')\n",
        "nltk.download('stopwords')"
      ],
      "execution_count": 8,
      "outputs": [
        {
          "output_type": "stream",
          "text": [
            "[nltk_data] Downloading package punkt to /root/nltk_data...\n",
            "[nltk_data]   Unzipping tokenizers/punkt.zip.\n",
            "[nltk_data] Downloading package stopwords to /root/nltk_data...\n",
            "[nltk_data]   Unzipping corpora/stopwords.zip.\n"
          ],
          "name": "stdout"
        },
        {
          "output_type": "execute_result",
          "data": {
            "text/plain": [
              "True"
            ]
          },
          "metadata": {
            "tags": []
          },
          "execution_count": 8
        }
      ]
    },
    {
      "cell_type": "code",
      "metadata": {
        "id": "k2t4WiJ2QtkO"
      },
      "source": [
        "# Removing Stop Words\n",
        "from nltk.corpus import stopwords\n",
        "all_sentences = data['text'].values\n",
        "all_words = [nltk.word_tokenize(sent) for sent in all_sentences]\n",
        "stop_words = stopwords.words('english')\n",
        "stop_words.append('')\n",
        "\n",
        "for i in range(len(all_words)):  \n",
        "    all_words[i] = [w for w in all_words[i] if (w not in stop_words) and (not w.isdigit())]"
      ],
      "execution_count": 9,
      "outputs": []
    },
    {
      "cell_type": "markdown",
      "metadata": {
        "id": "P_mtIrRxQtkP"
      },
      "source": [
        "## Task 1\n",
        "\n",
        "all_words is a list with all the tweets that are going to be used to train the model. Create a function 'get_preprocessed_seq' that build and apply a Tokenizer to the a list like all_words. Tokenizer must define a dictionary of 2000 words (remeber that position 0 is reserved). Once the sentences are tokenized, take into account that the length of every tweet is different so before they can be passed to the training step, the tweets must be **padded** in order to provide them with equal length. The function 'get_preprocessed_seq' must return the Tokenizer object and the padded dataset.\n",
        "\n",
        "Review the [padding function](https://www.tensorflow.org/api_docs/python/tf/keras/preprocessing/sequence/pad_sequences) in the preprocessing module of keras. "
      ]
    },
    {
      "cell_type": "code",
      "metadata": {
        "id": "ujo7TFVqbT1h",
        "colab": {
          "base_uri": "https://localhost:8080/"
        },
        "outputId": "6af76922-b715-49dd-c66f-1c7533665fb5"
      },
      "source": [
        "all_words[0]"
      ],
      "execution_count": 10,
      "outputs": [
        {
          "output_type": "execute_result",
          "data": {
            "text/plain": [
              "['plus', 'youve', 'added', 'commercials', 'experience', 'tacky']"
            ]
          },
          "metadata": {
            "tags": []
          },
          "execution_count": 10
        }
      ]
    },
    {
      "cell_type": "code",
      "metadata": {
        "id": "InVP3s2OQtkR"
      },
      "source": [
        "def get_preprocessed_seq(text_list):\n",
        "\n",
        "\n",
        "  from tensorflow.keras.preprocessing.text import Tokenizer\n",
        "  from keras.preprocessing.sequence import pad_sequences\n",
        "\n",
        "  max_fatures = 2001\n",
        "  tokenizer = Tokenizer(num_words=max_fatures, split=' ')\n",
        "  tokenizer.fit_on_texts(text_list)\n",
        "  X = tokenizer.texts_to_sequences(text_list)\n",
        "\n",
        "  return tokenizer, pad_sequences( X , padding = 'post' ) "
      ],
      "execution_count": 15,
      "outputs": []
    },
    {
      "cell_type": "markdown",
      "metadata": {
        "id": "yxUL58XQQtkS"
      },
      "source": [
        "**Submit your solution:**"
      ]
    },
    {
      "cell_type": "code",
      "metadata": {
        "id": "R6qhulQOQtkT",
        "colab": {
          "base_uri": "https://localhost:8080/",
          "height": 110
        },
        "outputId": "285ff7b9-68ed-43e1-e1fb-0631de7094e6"
      },
      "source": [
        "student.submit_task(namespace=globals(), task_id='T1');"
      ],
      "execution_count": null,
      "outputs": [
        {
          "output_type": "display_data",
          "data": {
            "text/html": [
              "\n",
              "                    <b>T1 submitted.</b> <b><font color=\"blue\">your grade is 5</font></b> \n",
              "                    <p/><pre>----- grader message -------</pre><b>correct</b><pre>----------------------------</pre>\n",
              "                    <p/><p/>\n",
              "                    <div style=\"font-size:10px\"><b>SUBMISSION CODE</b> Eo2Bf0DVHHVGDu26iFORjcbTLSoUwGnuzMEimNeGJccPHkKSxybk9xsXE+Q273upE+40zZUFnLXN/+AC/GpJ/EDuh9DrrFINdvKpUzToYpmO44qkpcciPzS6EI1orXVy9+7z95pMoDoTiRnPRcYeQw==</div>\n",
              "                    "
            ],
            "text/plain": [
              "<IPython.core.display.HTML object>"
            ]
          },
          "metadata": {
            "tags": []
          }
        }
      ]
    },
    {
      "cell_type": "markdown",
      "metadata": {
        "id": "HciuCMtYQtkU"
      },
      "source": [
        "## Task 2\n",
        "\n",
        "The previous step add 0's to some tweets in order to set them with the same length. Now it is necessary to define a model that be able to discard those 0's. Review the masking layer and masking option of the embedding layer of keras. Take a look to the TensorFlow [documentation](https://www.tensorflow.org/guide/keras/masking_and_padding).\n",
        "\n",
        "Create a function to define a RNN architecture for the sentiment analysis problem. Use the Embedding layer and its masking option to discard the 0's added during padding step. The architecture must consist of a RNN layer with a 'cells_number' of neurons, a dense hidden layer of 10 neurons and the output layer. Include a Dropout layer in between the dense layers with a drop rate of 0.3 . The type of RNN layer must be defined through a 'layer_type' parameter; the embedding dimension must also be set as an input parameter. "
      ]
    },
    {
      "cell_type": "code",
      "metadata": {
        "id": "cEc-fvRWQtkV"
      },
      "source": [
        "def Recurrent_Model(cells_number = 10, layer_type='SimpleRNN',Embeb_dim=32):#Options for layer_type: 'SimpleRNN', 'LSTM', 'GRU'\n",
        "    \n",
        "    \n",
        "    from tensorflow.keras.layers import SimpleRNN\n",
        "    from tensorflow.keras.layers import LSTM\n",
        "    from tensorflow.keras.layers import GRU\n",
        "    from tensorflow.keras.layers import Dense\n",
        "    from tensorflow.keras.layers import Embedding\n",
        "    from tensorflow.keras.layers import Dropout\n",
        "    from tensorflow.keras import Sequential\n",
        "\n",
        "    model = Sequential()\n",
        "    model.add(Embedding(input_dim=2001, output_dim = Embeb_dim, mask_zero =True))\n",
        "\n",
        "    if layer_type ==\"SimpleRNN\":\n",
        "      model.add(SimpleRNN(cells_number,activation = 'relu'))\n",
        "\n",
        "    elif layer_type ==\"LSTM\":\n",
        "      model.add(LSTM(cells_number))\n",
        "\n",
        "    elif layer_type ==\"GRU\":\n",
        "      model.add(GRU(cells_number))\n",
        "\n",
        "    model.add(Dense(10,activation =\"relu\"))\n",
        "    model.add(Dropout(0.3))\n",
        "    model.add(Dense(1,activation='sigmoid'))\n",
        "\n",
        "\n",
        "    return model"
      ],
      "execution_count": null,
      "outputs": []
    },
    {
      "cell_type": "markdown",
      "metadata": {
        "id": "Vn4P3NfjQtkW"
      },
      "source": [
        "**Submit your solution:**"
      ]
    },
    {
      "cell_type": "code",
      "metadata": {
        "id": "C9F3a2i1QtkX",
        "colab": {
          "base_uri": "https://localhost:8080/",
          "height": 110
        },
        "outputId": "fd086cdb-19b6-4789-ba4d-5bfbdd2a6293"
      },
      "source": [
        "student.submit_task(namespace=globals(), task_id='T2');"
      ],
      "execution_count": null,
      "outputs": [
        {
          "output_type": "display_data",
          "data": {
            "text/html": [
              "\n",
              "                    <b>T2 submitted.</b> <b><font color=\"blue\">your grade is 5</font></b> \n",
              "                    <p/><pre>----- grader message -------</pre><b>correct</b><pre>----------------------------</pre>\n",
              "                    <p/><p/>\n",
              "                    <div style=\"font-size:10px\"><b>SUBMISSION CODE</b> SgKjo+xmUqM1x59gWOWAN6txxveKUw+LOUbYcPQIenafyRgwlu2ca+w7h7lsudjualnegYZyaEd0uXovQvKAt/qRxkXwifP3AaV+fnCcddoVwc+ThCK3jA/0FBWuAgSVD1323aUPmUhQ9nxSCkjDvg==</div>\n",
              "                    "
            ],
            "text/plain": [
              "<IPython.core.display.HTML object>"
            ]
          },
          "metadata": {
            "tags": []
          }
        }
      ]
    },
    {
      "cell_type": "markdown",
      "metadata": {
        "id": "Yr2afuhhQtkY"
      },
      "source": [
        "### Let's test the model: \n",
        "\n",
        "**Warning**: Run this part only if you have already passed Tasks 1 and 2."
      ]
    },
    {
      "cell_type": "code",
      "metadata": {
        "id": "W8FsKUxFQtkZ"
      },
      "source": [
        "from sklearn.model_selection import train_test_split\n",
        "from sklearn.preprocessing import LabelEncoder\n",
        "from sklearn.metrics import recall_score, accuracy_score\n",
        "from sklearn.utils.class_weight import compute_class_weight\n",
        "\n",
        "tokenizer, NewX = get_preprocessed_seq(all_words)\n",
        "\n",
        "y = data['airline_sentiment'].values\n",
        "Encoder = LabelEncoder()\n",
        "Y = Encoder.fit_transform(y)\n",
        "#Y = Encoder.transform(y)\n",
        "\n",
        "\n",
        "X_tr, X_te, y_tr, y_te = train_test_split(NewX, Y, test_size=0.2, random_state=2018)"
      ],
      "execution_count": 16,
      "outputs": []
    },
    {
      "cell_type": "code",
      "metadata": {
        "colab": {
          "base_uri": "https://localhost:8080/"
        },
        "id": "-OYCx_20Fure",
        "outputId": "a5cee3f5-f349-4378-c47b-c94e18cc8583"
      },
      "source": [
        "NewX.shape"
      ],
      "execution_count": 17,
      "outputs": [
        {
          "output_type": "execute_result",
          "data": {
            "text/plain": [
              "(11541, 20)"
            ]
          },
          "metadata": {
            "tags": []
          },
          "execution_count": 17
        }
      ]
    },
    {
      "cell_type": "code",
      "metadata": {
        "id": "XSgHV01TQtkc"
      },
      "source": [
        "def especi_score(y_te,y_pred):\n",
        "    Ns = np.sum(y_te == 0)\n",
        "    return np.sum(y_te[y_te == 0] == y_pred[y_te == 0])/Ns"
      ],
      "execution_count": 30,
      "outputs": []
    },
    {
      "cell_type": "code",
      "metadata": {
        "id": "-zrkYNZ9Qtkd",
        "colab": {
          "base_uri": "https://localhost:8080/"
        },
        "outputId": "b6d9bb13-7a03-490c-b5be-a9d3607415f5"
      },
      "source": [
        "sensitivity = np.zeros((3,3))\n",
        "especificity = np.zeros((3,3))\n",
        "accuracy = np.zeros((3,3))\n",
        "for i, embed_dim in enumerate([32]):\n",
        "    for j,cells in enumerate([32]):\n",
        "        model = Recurrent_Model(cells_number= cells, layer_type='SimpleRNN', Embeb_dim=embed_dim)\n",
        "        #opt = optimizers.Adam(learning_rate=0.0001, beta_1=0.9, beta_2=0.999, amsgrad=False)\n",
        "        model.compile(optimizer='adam', loss=\"binary_crossentropy\", metrics=[\"accuracy\"])\n",
        "        print(model.summary())\n",
        "        ww=model.layers[0].get_weights()\n",
        "        print(y_tr.shape)\n",
        "        #model.fit(X_tr, y_tr, validation_split=0.1,batch_size=32, epochs=10, verbose=1)\n",
        "        #y_pred = np.round(model.predict(X_te))\n",
        "        #sensitivity[i,j] = recall_score(y_te,y_pred)\n",
        "        #accuracy[i,j] = accuracy_score(y_te,y_pred)\n",
        "        #especificity[i,j] = especi_score(y_te,y_pred.flatten())"
      ],
      "execution_count": null,
      "outputs": [
        {
          "output_type": "stream",
          "text": [
            "Model: \"sequential_42\"\n",
            "_________________________________________________________________\n",
            "Layer (type)                 Output Shape              Param #   \n",
            "=================================================================\n",
            "embedding_42 (Embedding)     (None, None, 32)          64032     \n",
            "_________________________________________________________________\n",
            "simple_rnn_41 (SimpleRNN)    (None, 32)                2080      \n",
            "_________________________________________________________________\n",
            "dense_82 (Dense)             (None, 10)                330       \n",
            "_________________________________________________________________\n",
            "dropout_41 (Dropout)         (None, 10)                0         \n",
            "_________________________________________________________________\n",
            "dense_83 (Dense)             (None, 1)                 11        \n",
            "=================================================================\n",
            "Total params: 66,453\n",
            "Trainable params: 66,453\n",
            "Non-trainable params: 0\n",
            "_________________________________________________________________\n",
            "None\n",
            "(9232,)\n"
          ],
          "name": "stdout"
        }
      ]
    },
    {
      "cell_type": "code",
      "metadata": {
        "id": "9zc10cceQtkf"
      },
      "source": [
        "from local.lib.DataPreparationRNN import Plot_sentiment_performance\n",
        "Plot_sentiment_performance(sensitivity,accuracy,especificity)"
      ],
      "execution_count": null,
      "outputs": []
    },
    {
      "cell_type": "markdown",
      "metadata": {
        "id": "7QIOaew2Qtkg"
      },
      "source": [
        "## Task 3\n",
        "\n",
        "Create a similar architecture to that of task 2, but in this case use global vectors (GloVe) from gensim library to set the Embedding weights. Set the Embedding layer as non trainable. If there is any missing word in the pre-trained GloVes, you can use the token 'unk' instead.\n",
        "\n",
        "**Note**: Take care on the tokenization of the words. Keras tokenizer does not assign the zero value to any word because of padding purposes. Make sure that the order of the vectors in the GloVe embedding matrix corresponds with the indexes in the dictionary. "
      ]
    },
    {
      "cell_type": "code",
      "metadata": {
        "id": "T3vVVV_AQtkh",
        "colab": {
          "base_uri": "https://localhost:8080/"
        },
        "outputId": "58ac7bb8-c40e-4a27-8f31-bb04edc87813"
      },
      "source": [
        "#Run this cell to get the pre-trained word embedding vectors\n",
        "import gensim.downloader\n",
        "glove_vectors = gensim.downloader.load('glove-twitter-50')"
      ],
      "execution_count": 19,
      "outputs": [
        {
          "output_type": "stream",
          "text": [
            "[==================================================] 100.0% 199.5/199.5MB downloaded\n"
          ],
          "name": "stdout"
        }
      ]
    },
    {
      "cell_type": "code",
      "metadata": {
        "id": "PggWz2bOQtki"
      },
      "source": [
        "#Run this cell to provide the grader with the word embedding vectors\n",
        "import pickle\n",
        "with open('GloVe.pkl', 'wb') as output:\n",
        "    pickle.dump(glove_vectors, output, pickle.HIGHEST_PROTOCOL)"
      ],
      "execution_count": 20,
      "outputs": []
    },
    {
      "cell_type": "code",
      "metadata": {
        "colab": {
          "base_uri": "https://localhost:8080/"
        },
        "id": "qmuNtnmcLanA",
        "outputId": "907645a9-9f55-43db-be98-f87acc90ba0a"
      },
      "source": [
        "len(glove_vectors.vocab)"
      ],
      "execution_count": null,
      "outputs": [
        {
          "output_type": "execute_result",
          "data": {
            "text/plain": [
              "1193514"
            ]
          },
          "metadata": {
            "tags": []
          },
          "execution_count": 158
        }
      ]
    },
    {
      "cell_type": "code",
      "metadata": {
        "id": "tlCMSXQsLMwv"
      },
      "source": [
        ""
      ],
      "execution_count": null,
      "outputs": []
    },
    {
      "cell_type": "code",
      "metadata": {
        "id": "OJwWg2m4Qtkj"
      },
      "source": [
        "def Recurrent_Model_TF(tokenizer,glove_vectors,cells_number = 10, layer_type='SimpleRNN'):#Options for layer_type: 'SimpleRNN', 'LSTM', 'GRU'\n",
        "    \n",
        "    from tensorflow.keras.layers import SimpleRNN\n",
        "    from tensorflow.keras.layers import LSTM\n",
        "    from tensorflow.keras.layers import GRU\n",
        "    from tensorflow.keras.layers import Dense\n",
        "    from tensorflow.keras.layers import Embedding\n",
        "    from tensorflow.keras.layers import Dropout\n",
        "    from tensorflow.keras import Sequential\n",
        "\n",
        "\n",
        "    embedding_matrix = np.zeros((2001,50))\n",
        "\n",
        "    for word,i  in tokenizer.word_index.items() :\n",
        "      if i > 2000:\n",
        "        break\n",
        "      try:\n",
        "        word_weights=glove_vectors.get_vector(word)\n",
        "        embedding_matrix[i,:] = word_weights\n",
        "      except KeyError:\n",
        "        word_weights=glove_vectors.get_vector(\"unk\")\n",
        "        embedding_matrix[i,:] = word_weights\n",
        "\n",
        "    model = Sequential()\n",
        "    model.add(Embedding(input_dim=2001, output_dim = 50, weights =[embedding_matrix],  mask_zero =True, trainable=False))\n",
        "\n",
        "    if layer_type ==\"SimpleRNN\":\n",
        "      model.add(SimpleRNN(cells_number,activation = 'relu'))\n",
        "\n",
        "    elif layer_type ==\"LSTM\":\n",
        "      model.add(LSTM(cells_number))\n",
        "\n",
        "    elif layer_type ==\"GRU\":\n",
        "      model.add(GRU(cells_number))\n",
        "\n",
        "    model.add(Dense(10,activation =\"relu\"))\n",
        "    model.add(Dropout(0.3))\n",
        "    model.add(Dense(1,activation='sigmoid'))\n",
        "\n",
        "    return model"
      ],
      "execution_count": null,
      "outputs": []
    },
    {
      "cell_type": "markdown",
      "metadata": {
        "id": "CteY2zJGQtkk"
      },
      "source": [
        "**Submit your solution:**"
      ]
    },
    {
      "cell_type": "code",
      "metadata": {
        "id": "wDydB-aFQtkk",
        "colab": {
          "base_uri": "https://localhost:8080/",
          "height": 110
        },
        "outputId": "3dd19259-cd5a-4eec-afe9-fb0bae4714fd"
      },
      "source": [
        "student.submit_task(namespace=globals(), task_id='T3');"
      ],
      "execution_count": null,
      "outputs": [
        {
          "output_type": "display_data",
          "data": {
            "text/html": [
              "\n",
              "                    <b>T3 submitted.</b> <b><font color=\"blue\">your grade is 5</font></b> \n",
              "                    <p/><pre>----- grader message -------</pre><b>correct</b><pre>----------------------------</pre>\n",
              "                    <p/><p/>\n",
              "                    <div style=\"font-size:10px\"><b>SUBMISSION CODE</b> usLkyLRal0wqF++vyFvkwnV433pfpCf9Auo8SOhrHbECK48WqnIhJNH0Utl78+Ru6lt2AzorBepWHCm7Xai7d6iZrqaip+JbEP7iVWlh6VataK/3uQenC9+i8gTgEcJo5X69hcz3Ymcw10PZzaIIqQ==</div>\n",
              "                    "
            ],
            "text/plain": [
              "<IPython.core.display.HTML object>"
            ]
          },
          "metadata": {
            "tags": []
          }
        }
      ]
    },
    {
      "cell_type": "markdown",
      "metadata": {
        "id": "CmUX4CYuQtkl"
      },
      "source": [
        "### Let's test the model: \n",
        "\n",
        "**Warning**: Run this part only if you have already passed Tasks 2 and 3."
      ]
    },
    {
      "cell_type": "code",
      "metadata": {
        "id": "YaOCKpmSQtkm",
        "colab": {
          "base_uri": "https://localhost:8080/"
        },
        "outputId": "1d3b548f-5e51-4d07-fdb0-a49e4231959c"
      },
      "source": [
        "sensitivity = np.zeros((3))\n",
        "especificity = np.zeros((3))\n",
        "accuracy = np.zeros((3))\n",
        "for j,cells in enumerate([32,64,128]):\n",
        "    model = Recurrent_Model_TF(tokenizer, glove_vectors, cells_number = cells, layer_type='LSTM')\n",
        "    model.compile(optimizer='adam', loss=\"binary_crossentropy\", metrics=[\"accuracy\"])\n",
        "    model.fit(X_tr, y_tr, validation_split=0.1,batch_size=32, epochs=10, verbose=1)\n",
        "    y_pred = np.round(model.predict(X_te))\n",
        "    sensitivity = recall_score(y_te,y_pred)\n",
        "    accuracy[j] = accuracy_score(y_te,y_pred)\n",
        "    especificity[j] = especi_score(y_te,y_pred.flatten())"
      ],
      "execution_count": null,
      "outputs": [
        {
          "output_type": "stream",
          "text": [
            "Epoch 1/10\n",
            "260/260 [==============================] - 9s 18ms/step - loss: 0.4390 - accuracy: 0.8136 - val_loss: 0.2732 - val_accuracy: 0.8896\n",
            "Epoch 2/10\n",
            "260/260 [==============================] - 3s 13ms/step - loss: 0.2689 - accuracy: 0.8995 - val_loss: 0.2754 - val_accuracy: 0.8842\n",
            "Epoch 3/10\n",
            "260/260 [==============================] - 3s 13ms/step - loss: 0.2483 - accuracy: 0.9036 - val_loss: 0.2612 - val_accuracy: 0.8918\n",
            "Epoch 4/10\n",
            "260/260 [==============================] - 3s 13ms/step - loss: 0.2344 - accuracy: 0.9114 - val_loss: 0.2674 - val_accuracy: 0.8939\n",
            "Epoch 5/10\n",
            "260/260 [==============================] - 3s 13ms/step - loss: 0.2356 - accuracy: 0.9119 - val_loss: 0.2903 - val_accuracy: 0.8896\n",
            "Epoch 6/10\n",
            "260/260 [==============================] - 3s 13ms/step - loss: 0.2241 - accuracy: 0.9158 - val_loss: 0.2709 - val_accuracy: 0.8929\n",
            "Epoch 7/10\n",
            "260/260 [==============================] - 3s 13ms/step - loss: 0.2110 - accuracy: 0.9180 - val_loss: 0.2763 - val_accuracy: 0.8939\n",
            "Epoch 8/10\n",
            "260/260 [==============================] - 3s 13ms/step - loss: 0.2055 - accuracy: 0.9246 - val_loss: 0.2723 - val_accuracy: 0.8972\n",
            "Epoch 9/10\n",
            "260/260 [==============================] - 3s 13ms/step - loss: 0.1997 - accuracy: 0.9247 - val_loss: 0.2915 - val_accuracy: 0.8961\n",
            "Epoch 10/10\n",
            "260/260 [==============================] - 3s 13ms/step - loss: 0.1910 - accuracy: 0.9263 - val_loss: 0.2826 - val_accuracy: 0.8950\n",
            "Epoch 1/10\n",
            "260/260 [==============================] - 10s 21ms/step - loss: 0.4231 - accuracy: 0.8282 - val_loss: 0.2764 - val_accuracy: 0.8983\n",
            "Epoch 2/10\n",
            "260/260 [==============================] - 4s 16ms/step - loss: 0.2523 - accuracy: 0.9031 - val_loss: 0.2656 - val_accuracy: 0.8950\n",
            "Epoch 3/10\n",
            "260/260 [==============================] - 4s 17ms/step - loss: 0.2520 - accuracy: 0.9013 - val_loss: 0.2605 - val_accuracy: 0.8983\n",
            "Epoch 4/10\n",
            "260/260 [==============================] - 4s 17ms/step - loss: 0.2333 - accuracy: 0.9048 - val_loss: 0.2665 - val_accuracy: 0.8994\n",
            "Epoch 5/10\n",
            "260/260 [==============================] - 4s 17ms/step - loss: 0.2255 - accuracy: 0.9110 - val_loss: 0.2683 - val_accuracy: 0.9026\n",
            "Epoch 6/10\n",
            "260/260 [==============================] - 4s 17ms/step - loss: 0.2076 - accuracy: 0.9176 - val_loss: 0.2693 - val_accuracy: 0.8961\n",
            "Epoch 7/10\n",
            "260/260 [==============================] - 4s 17ms/step - loss: 0.2038 - accuracy: 0.9187 - val_loss: 0.2731 - val_accuracy: 0.9004\n",
            "Epoch 8/10\n",
            "260/260 [==============================] - 4s 16ms/step - loss: 0.1873 - accuracy: 0.9217 - val_loss: 0.2822 - val_accuracy: 0.8961\n",
            "Epoch 9/10\n",
            "260/260 [==============================] - 4s 16ms/step - loss: 0.1835 - accuracy: 0.9250 - val_loss: 0.2767 - val_accuracy: 0.9004\n",
            "Epoch 10/10\n",
            "260/260 [==============================] - 4s 17ms/step - loss: 0.1745 - accuracy: 0.9284 - val_loss: 0.2824 - val_accuracy: 0.9026\n",
            "Epoch 1/10\n",
            "260/260 [==============================] - 13s 35ms/step - loss: 0.3774 - accuracy: 0.8406 - val_loss: 0.2655 - val_accuracy: 0.8961\n",
            "Epoch 2/10\n",
            "260/260 [==============================] - 8s 30ms/step - loss: 0.2656 - accuracy: 0.8970 - val_loss: 0.2646 - val_accuracy: 0.8864\n",
            "Epoch 3/10\n",
            "260/260 [==============================] - 8s 30ms/step - loss: 0.2459 - accuracy: 0.9042 - val_loss: 0.2603 - val_accuracy: 0.8972\n",
            "Epoch 4/10\n",
            "260/260 [==============================] - 8s 29ms/step - loss: 0.2405 - accuracy: 0.9051 - val_loss: 0.2591 - val_accuracy: 0.8885\n",
            "Epoch 5/10\n",
            "260/260 [==============================] - 8s 30ms/step - loss: 0.2161 - accuracy: 0.9123 - val_loss: 0.2639 - val_accuracy: 0.8983\n",
            "Epoch 6/10\n",
            "260/260 [==============================] - 8s 30ms/step - loss: 0.2180 - accuracy: 0.9087 - val_loss: 0.2799 - val_accuracy: 0.8983\n",
            "Epoch 7/10\n",
            "260/260 [==============================] - 8s 29ms/step - loss: 0.1976 - accuracy: 0.9231 - val_loss: 0.2689 - val_accuracy: 0.9015\n",
            "Epoch 8/10\n",
            "260/260 [==============================] - 8s 30ms/step - loss: 0.1847 - accuracy: 0.9240 - val_loss: 0.2988 - val_accuracy: 0.8994\n",
            "Epoch 9/10\n",
            "260/260 [==============================] - 8s 30ms/step - loss: 0.1746 - accuracy: 0.9294 - val_loss: 0.2733 - val_accuracy: 0.8972\n",
            "Epoch 10/10\n",
            "260/260 [==============================] - 8s 29ms/step - loss: 0.1599 - accuracy: 0.9296 - val_loss: 0.3089 - val_accuracy: 0.8972\n"
          ],
          "name": "stdout"
        }
      ]
    },
    {
      "cell_type": "code",
      "metadata": {
        "id": "wvlGwjxcQtkn",
        "colab": {
          "base_uri": "https://localhost:8080/",
          "height": 259
        },
        "outputId": "abb93946-c08b-4816-ef07-bba25313318b"
      },
      "source": [
        "fig, ax = plt.subplots(figsize=(5,3))\n",
        "X = np.arange(3)\n",
        "ax.bar(X + 0.00, accuracy, color = 'b', width = 0.25)\n",
        "ax.bar(X + 0.25, sensitivity, color = 'g', width = 0.25)\n",
        "ax.bar(X + 0.50, especificity, color = 'r', width = 0.25)\n",
        "ax.set_xticks([0.25, 1.25, 2.25])\n",
        "ax.set_xticklabels(['32','64', '128'])\n",
        "ax.set_title('Performance')\n",
        "ax.set_xlabel('Number of cells')\n",
        "ax.legend(labels=['accuracy','sensitivity','especificity'],bbox_to_anchor=(1.1, 1.05))\n",
        "print('Best accuracy= {}'.format(np.max(accuracy)))"
      ],
      "execution_count": null,
      "outputs": [
        {
          "output_type": "stream",
          "text": [
            "Best accuracy= 0.9042875703767865\n"
          ],
          "name": "stdout"
        },
        {
          "output_type": "display_data",
          "data": {
            "image/png": "[encoded data removed]",
            "text/plain": [
              "<Figure size 360x216 with 1 Axes>"
            ]
          },
          "metadata": {
            "tags": [],
            "needs_background": "light"
          }
        }
      ]
    },
    {
      "cell_type": "markdown",
      "metadata": {
        "id": "fQAKeK-8Qtko"
      },
      "source": [
        "## Task 4\n",
        "\n",
        "Create a function similar to that of task 3, but use a Conv1D layer instead of the LSTM one. The output of the Conv1D layer must keep the dimension related to the number of words per sentence unchanged. The number of filters (kernels) must be a functions' input parameter and define the kernels size in order for the model to use trigrams.  Let the rest of parameters with their default values. Use the GloVe embedding weights from the former task. To complete the architecture and shape correctly the tensors, you must use a GlobalMaxPooling1D layer after the CNN layer."
      ]
    },
    {
      "cell_type": "code",
      "metadata": {
        "id": "V0GfgGXPQtkp"
      },
      "source": [
        "def Con1D_Model_TF(tokenizer, glove_vectors, filters = 10):\n",
        "     \n",
        "    from tensorflow.keras import Sequential\n",
        "    from tensorflow.keras.layers import Conv1D\n",
        "    from tensorflow.keras.layers import GlobalMaxPooling1D\n",
        "    from tensorflow.keras.layers import Embedding\n",
        "    from tensorflow.keras.layers import Flatten\n",
        "    from tensorflow.keras.layers import Dense\n",
        "    from tensorflow.keras.layers import Dropout\n",
        "\n",
        "    embedding_matrix = np.zeros((2001,50))\n",
        "\n",
        "    for word,i  in tokenizer.word_index.items() :\n",
        "      if i > 2000:\n",
        "        break\n",
        "      try:\n",
        "        word_weights=glove_vectors.get_vector(word)\n",
        "        embedding_matrix[i,:] = word_weights\n",
        "      except KeyError:\n",
        "        word_weights=glove_vectors.get_vector(\"unk\")\n",
        "        embedding_matrix[i,:] = word_weights\n",
        "\n",
        "    model = Sequential()\n",
        "\n",
        "    model.add(Embedding(input_dim=2001, output_dim = 50, weights =[embedding_matrix],  mask_zero =True, trainable=False))\n",
        "\n",
        "    model.add( Conv1D ( filters = filters , kernel_size  = 3 , padding =\"same\" ) )  \n",
        "    \n",
        "    model.add( GlobalMaxPooling1D() )\n",
        "\n",
        "    model.add( Flatten() ) \n",
        "\n",
        "    model.add(Dense(10,activation =\"relu\"))\n",
        "    model.add(Dropout(0.3))\n",
        "    model.add(Dense(1,activation='sigmoid'))\n",
        "\n",
        "\n",
        "    return model"
      ],
      "execution_count": 49,
      "outputs": []
    },
    {
      "cell_type": "markdown",
      "metadata": {
        "id": "_OT8jJ_uQtkq"
      },
      "source": [
        "**Submit your solution:**"
      ]
    },
    {
      "cell_type": "code",
      "metadata": {
        "id": "snUBcZOxQtkr",
        "colab": {
          "base_uri": "https://localhost:8080/",
          "height": 108
        },
        "outputId": "1285a174-6095-4fee-f835-d1ce70f2b66c"
      },
      "source": [
        "student.submit_task(namespace=globals(), task_id='T4');"
      ],
      "execution_count": 50,
      "outputs": [
        {
          "output_type": "display_data",
          "data": {
            "text/html": [
              "\n",
              "                    <b>T4 submitted.</b> <b><font color=\"blue\">your grade is 5</font></b> \n",
              "                    <p/><pre>----- grader message -------</pre><b>correct</b><pre>----------------------------</pre>\n",
              "                    <p/><p/>\n",
              "                    <div style=\"font-size:10px\"><b>SUBMISSION CODE</b> tOepO2LUpKupwCzNSuQjXJheGJInY9Y/z1z4iZZHrDjw9DlVN5oi63FSZEXItyTwpiH/n6G/kUHKcuyMK0bNkdyg8vkxjW5lRXk3qWpCW0rpqEdNvoAoEye0hBeTCwcxz34pojBVSHOCu+vP1xSOaw==</div>\n",
              "                    "
            ],
            "text/plain": [
              "<IPython.core.display.HTML object>"
            ]
          },
          "metadata": {
            "tags": []
          }
        }
      ]
    },
    {
      "cell_type": "markdown",
      "metadata": {
        "id": "9EJpTso3Qtkr"
      },
      "source": [
        "### Let's test the model: \n",
        "\n",
        "**Warning**: Run this part only if you have already passed Tasks 3 and 4."
      ]
    },
    {
      "cell_type": "code",
      "metadata": {
        "id": "I-sskECNQtks",
        "colab": {
          "base_uri": "https://localhost:8080/"
        },
        "outputId": "f7a2566c-d7df-437a-8daa-e6dc681f84cf"
      },
      "source": [
        "sensitivity = np.zeros((3))\n",
        "especificity = np.zeros((3))\n",
        "accuracy = np.zeros((3))\n",
        "for j,cells in enumerate([6,12,24]):\n",
        "    model = Con1D_Model_TF(tokenizer, glove_vectors, filters = cells)\n",
        "    model.compile(optimizer='adam', loss=\"binary_crossentropy\", metrics=[\"accuracy\"])\n",
        "    model.fit(X_tr, y_tr, validation_split=0.1,batch_size=32, epochs=10, verbose=1)\n",
        "    y_pred = np.round(model.predict(X_te))\n",
        "    sensitivity = recall_score(y_te,y_pred)\n",
        "    accuracy[j] = accuracy_score(y_te,y_pred)\n",
        "    especificity[j] = especi_score(y_te,y_pred.flatten())"
      ],
      "execution_count": 51,
      "outputs": [
        {
          "output_type": "stream",
          "text": [
            "Epoch 1/10\n",
            "260/260 [==============================] - 2s 5ms/step - loss: 0.5878 - accuracy: 0.6503 - val_loss: 0.3424 - val_accuracy: 0.8745\n",
            "Epoch 2/10\n",
            "260/260 [==============================] - 1s 4ms/step - loss: 0.3837 - accuracy: 0.8628 - val_loss: 0.2903 - val_accuracy: 0.8864\n",
            "Epoch 3/10\n",
            "260/260 [==============================] - 1s 4ms/step - loss: 0.3402 - accuracy: 0.8604 - val_loss: 0.2737 - val_accuracy: 0.8907\n",
            "Epoch 4/10\n",
            "260/260 [==============================] - 1s 4ms/step - loss: 0.2992 - accuracy: 0.8800 - val_loss: 0.2673 - val_accuracy: 0.8918\n",
            "Epoch 5/10\n",
            "260/260 [==============================] - 1s 4ms/step - loss: 0.2823 - accuracy: 0.8933 - val_loss: 0.2654 - val_accuracy: 0.8961\n",
            "Epoch 6/10\n",
            "260/260 [==============================] - 1s 4ms/step - loss: 0.2787 - accuracy: 0.8896 - val_loss: 0.2650 - val_accuracy: 0.8929\n",
            "Epoch 7/10\n",
            "260/260 [==============================] - 1s 4ms/step - loss: 0.2575 - accuracy: 0.9025 - val_loss: 0.2663 - val_accuracy: 0.8907\n",
            "Epoch 8/10\n",
            "260/260 [==============================] - 1s 4ms/step - loss: 0.2661 - accuracy: 0.8998 - val_loss: 0.2645 - val_accuracy: 0.8939\n",
            "Epoch 9/10\n",
            "260/260 [==============================] - 1s 4ms/step - loss: 0.2461 - accuracy: 0.9040 - val_loss: 0.2660 - val_accuracy: 0.8929\n",
            "Epoch 10/10\n",
            "260/260 [==============================] - 1s 4ms/step - loss: 0.2554 - accuracy: 0.9015 - val_loss: 0.2687 - val_accuracy: 0.8950\n",
            "Epoch 1/10\n",
            "260/260 [==============================] - 2s 5ms/step - loss: 0.5060 - accuracy: 0.7550 - val_loss: 0.2993 - val_accuracy: 0.8885\n",
            "Epoch 2/10\n",
            "260/260 [==============================] - 1s 4ms/step - loss: 0.3045 - accuracy: 0.8833 - val_loss: 0.2741 - val_accuracy: 0.8929\n",
            "Epoch 3/10\n",
            "260/260 [==============================] - 1s 4ms/step - loss: 0.2673 - accuracy: 0.9054 - val_loss: 0.2865 - val_accuracy: 0.8810\n",
            "Epoch 4/10\n",
            "260/260 [==============================] - 1s 4ms/step - loss: 0.2648 - accuracy: 0.9094 - val_loss: 0.2709 - val_accuracy: 0.8983\n",
            "Epoch 5/10\n",
            "260/260 [==============================] - 1s 4ms/step - loss: 0.2492 - accuracy: 0.9107 - val_loss: 0.2829 - val_accuracy: 0.8961\n",
            "Epoch 6/10\n",
            "260/260 [==============================] - 1s 4ms/step - loss: 0.2317 - accuracy: 0.9167 - val_loss: 0.2792 - val_accuracy: 0.9004\n",
            "Epoch 7/10\n",
            "260/260 [==============================] - 1s 4ms/step - loss: 0.2256 - accuracy: 0.9198 - val_loss: 0.2747 - val_accuracy: 0.9004\n",
            "Epoch 8/10\n",
            "260/260 [==============================] - 1s 4ms/step - loss: 0.2262 - accuracy: 0.9243 - val_loss: 0.2777 - val_accuracy: 0.8874\n",
            "Epoch 9/10\n",
            "260/260 [==============================] - 1s 4ms/step - loss: 0.2001 - accuracy: 0.9317 - val_loss: 0.2801 - val_accuracy: 0.8885\n",
            "Epoch 10/10\n",
            "260/260 [==============================] - 1s 4ms/step - loss: 0.1971 - accuracy: 0.9305 - val_loss: 0.2835 - val_accuracy: 0.8885\n",
            "Epoch 1/10\n",
            "260/260 [==============================] - 2s 6ms/step - loss: 0.4628 - accuracy: 0.8005 - val_loss: 0.2861 - val_accuracy: 0.8864\n",
            "Epoch 2/10\n",
            "260/260 [==============================] - 2s 6ms/step - loss: 0.2845 - accuracy: 0.8926 - val_loss: 0.2689 - val_accuracy: 0.8994\n",
            "Epoch 3/10\n",
            "260/260 [==============================] - 2s 6ms/step - loss: 0.2695 - accuracy: 0.9002 - val_loss: 0.2645 - val_accuracy: 0.8907\n",
            "Epoch 4/10\n",
            "260/260 [==============================] - 2s 6ms/step - loss: 0.2320 - accuracy: 0.9152 - val_loss: 0.2606 - val_accuracy: 0.8885\n",
            "Epoch 5/10\n",
            "260/260 [==============================] - 2s 6ms/step - loss: 0.2290 - accuracy: 0.9151 - val_loss: 0.2683 - val_accuracy: 0.8950\n",
            "Epoch 6/10\n",
            "260/260 [==============================] - 2s 6ms/step - loss: 0.2137 - accuracy: 0.9236 - val_loss: 0.2777 - val_accuracy: 0.8831\n",
            "Epoch 7/10\n",
            "260/260 [==============================] - 2s 6ms/step - loss: 0.1999 - accuracy: 0.9296 - val_loss: 0.2768 - val_accuracy: 0.8918\n",
            "Epoch 8/10\n",
            "260/260 [==============================] - 2s 6ms/step - loss: 0.1824 - accuracy: 0.9344 - val_loss: 0.2757 - val_accuracy: 0.8853\n",
            "Epoch 9/10\n",
            "260/260 [==============================] - 2s 6ms/step - loss: 0.1857 - accuracy: 0.9335 - val_loss: 0.2874 - val_accuracy: 0.8972\n",
            "Epoch 10/10\n",
            "260/260 [==============================] - 2s 6ms/step - loss: 0.1694 - accuracy: 0.9395 - val_loss: 0.2874 - val_accuracy: 0.8939\n"
          ],
          "name": "stdout"
        }
      ]
    },
    {
      "cell_type": "code",
      "metadata": {
        "id": "kc_ZpC_0Qtkt"
      },
      "source": [
        "fig, ax = plt.subplots(figsize=(5,3))\n",
        "X = np.arange(3)\n",
        "ax.bar(X + 0.00, accuracy, color = 'b', width = 0.25)\n",
        "ax.bar(X + 0.25, sensitivity, color = 'g', width = 0.25)\n",
        "ax.bar(X + 0.50, especificity, color = 'r', width = 0.25)\n",
        "ax.set_xticks([0.25, 1.25, 2.25])\n",
        "ax.set_xticklabels(['6','12', '24'])\n",
        "ax.set_title('Performance')\n",
        "ax.set_xlabel('Number of filters')\n",
        "ax.legend(labels=['accuracy','sensitivity','especificity'],bbox_to_anchor=(1.1, 1.05))\n",
        "print('Best accuracy= {}'.format(np.max(accuracy)))"
      ],
      "execution_count": null,
      "outputs": []
    },
    {
      "cell_type": "code",
      "metadata": {
        "id": "gVMTHr52Qtku"
      },
      "source": [
        ""
      ],
      "execution_count": null,
      "outputs": []
    }
  ]
}