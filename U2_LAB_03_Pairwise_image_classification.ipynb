{
  "nbformat": 4,
  "nbformat_minor": 0,
  "metadata": {
    "kernelspec": {
      "display_name": "p38",
      "language": "python",
      "name": "p38"
    },
    "language_info": {
      "codemirror_mode": {
        "name": "ipython",
        "version": 3
      },
      "file_extension": ".py",
      "mimetype": "text/x-python",
      "name": "python",
      "nbconvert_exporter": "python",
      "pygments_lexer": "ipython3",
      "version": "3.8.5"
    },
    "colab": {
      "name": "U2 LAB 03 - Pairwise image classification.ipynb",
      "provenance": [],
      "collapsed_sections": [
        "7X1r030UeMVu"
      ]
    }
  },
  "cells": [
    {
      "cell_type": "markdown",
      "metadata": {
        "id": "YuMIRBoueMVd"
      },
      "source": [
        "# LAB 2.3 - Pairwise classification"
      ]
    },
    {
      "cell_type": "code",
      "metadata": {
        "colab": {
          "base_uri": "https://localhost:8080/",
          "height": 74
        },
        "id": "6rPnKqlFeMVj",
        "outputId": "209885d4-46a7-495a-d267-212d96abc920"
      },
      "source": [
        "!wget -nc --no-cache -O init.py -q https://raw.githubusercontent.com/rramosp/2021.deeplearning/main/content/init.py\n",
        "import init; init.init(force_download=False); init.get_weblink() "
      ],
      "execution_count": null,
      "outputs": [
        {
          "output_type": "stream",
          "text": [
            "replicating local resources\n"
          ],
          "name": "stdout"
        },
        {
          "output_type": "execute_result",
          "data": {
            "text/html": [
              "<h3>See <a href='https://m5knaekxo6.execute-api.us-west-2.amazonaws.com/dev-v0001/rlxmooc/web/login' target='_blank'>my courses and progress</a></h2>"
            ],
            "text/plain": [
              "<IPython.core.display.HTML object>"
            ]
          },
          "metadata": {
            "tags": []
          },
          "execution_count": 1
        }
      ]
    },
    {
      "cell_type": "code",
      "metadata": {
        "colab": {
          "base_uri": "https://localhost:8080/"
        },
        "id": "tWmthNtCeMVk",
        "outputId": "91031505-dc6a-4703-8e27-f1b01abd760a"
      },
      "source": [
        "from local.lib.rlxmoocapi import submit, session\n",
        "import inspect\n",
        "student = session.Session(init.endpoint).login( course_id=init.course_id, lab_id=\"L02.03\" )"
      ],
      "execution_count": 68,
      "outputs": [
        {
          "output_type": "stream",
          "text": [
            "username: davida.torres@udea.edu.co\n",
            "password: ··········\n",
            "using session UDEA\n"
          ],
          "name": "stdout"
        }
      ]
    },
    {
      "cell_type": "markdown",
      "metadata": {
        "id": "pIIMwCGWeMVk"
      },
      "source": [
        "## LAB SUMMARY\n",
        "\n",
        "In this lab we will use define a **slightly different** machine learning task. Given two MNIST images **as input** we want a network with a binary output: `1` if both images belong to the same MNIST class, and `0` otherwise.\n"
      ]
    },
    {
      "cell_type": "code",
      "metadata": {
        "id": "sStIIEoNeMVl"
      },
      "source": [
        "import pandas as pd\n",
        "import numpy as np\n",
        "import matplotlib.pyplot as plt\n",
        "from sklearn.model_selection import train_test_split\n",
        "import tensorflow as tf\n",
        "%matplotlib inline"
      ],
      "execution_count": null,
      "outputs": []
    },
    {
      "cell_type": "code",
      "metadata": {
        "colab": {
          "base_uri": "https://localhost:8080/"
        },
        "id": "rT_0H-Y3eMVl",
        "outputId": "9a1502f7-0139-44cf-8472-1a15a01cbe37"
      },
      "source": [
        "mnist = pd.read_csv(\"local/data/mnist1.5k.csv.gz\", compression=\"gzip\", header=None).values\n",
        "X=(mnist[:,1:785]/255.).astype(np.float32)\n",
        "y=(mnist[:,0]).astype(int)\n",
        "print(\"dimension de las imagenes y las clases\", X.shape, y.shape)"
      ],
      "execution_count": null,
      "outputs": [
        {
          "output_type": "stream",
          "text": [
            "dimension de las imagenes y las clases (1500, 784) (1500,)\n"
          ],
          "name": "stdout"
        }
      ]
    },
    {
      "cell_type": "code",
      "metadata": {
        "colab": {
          "base_uri": "https://localhost:8080/"
        },
        "id": "K4IwS76UeMVl",
        "outputId": "6b22f875-ba89-4cf5-8a37-0d7c745eccb2"
      },
      "source": [
        "Xtr, Xts, ytr, yts = train_test_split(X,y, test_size=0.3)\n",
        "Xtr.shape, ytr.shape, Xts.shape, yts.shape"
      ],
      "execution_count": 36,
      "outputs": [
        {
          "output_type": "execute_result",
          "data": {
            "text/plain": [
              "((1050, 784), (1050,), (450, 784), (450,))"
            ]
          },
          "metadata": {
            "tags": []
          },
          "execution_count": 36
        }
      ]
    },
    {
      "cell_type": "markdown",
      "metadata": {
        "id": "CB2C1g2seMVm"
      },
      "source": [
        "**FIRST**, observe how we build a labelled dataset for this task, so that each training example has:\n",
        "\n",
        "- two images selected randomly from the original dataset\n",
        "- label `0` if they belong to the same class, or `1` otherwise\n",
        "\n",
        "This way, the resulting data structures\n",
        "\n",
        "- `pXtr` and `pXts` contain the paired images, for train and for test\n",
        "- `pytr` and `pyts` contain the labels of the corresponding paired images, for train and for test\n",
        "- `eytr` and `eyts` contain the `0`/`1` new labels, one for each pair."
      ]
    },
    {
      "cell_type": "code",
      "metadata": {
        "id": "VHmo3BUteMVm"
      },
      "source": [
        "def pairup(X, y, n_pairs_per_class, same_class):\n",
        "    \n",
        "    idxs = None\n",
        "    labels = np.unique(y)\n",
        "    for i in labels:\n",
        "        idxs_p1 = np.argwhere(y==i)[:,0] if same_class else np.argwhere(y!=i)[:,0]\n",
        "        idxs_p2 = np.argwhere(y==i)[:,0]\n",
        "        c = np.vstack([\n",
        "                    np.random.choice(idxs_p1, size=n_pairs_per_class, replace=True),\n",
        "                    np.random.choice(idxs_p2, size=n_pairs_per_class, replace=True)\n",
        "            ]).T\n",
        "        \n",
        "        idxs = c if idxs is None else np.vstack((idxs,c))\n",
        "        \n",
        "    X_pairs = [X[idxs[:,0]],X[idxs[:,1]]]\n",
        "    y_pairs = [y[idxs[:,0]],y[idxs[:,1]]]\n",
        "    y_labels = y[idxs[:,0]]==y[idxs[:,1]]        \n",
        "        \n",
        "    return idxs, X_pairs, y_pairs, y_labels\n",
        "\n",
        "def build_image_pairs(X,y,n_pairs_per_class):\n",
        "    idxs0, pX0, py0, ey0 = pairup(X, y, n_pairs_per_class, same_class=False)\n",
        "    idxs1, pX1, py1, ey1 = pairup(X, y, n_pairs_per_class, same_class=True)\n",
        "    \n",
        "    pX = [np.vstack((i,j)) for i,j in zip(pX0, pX1)]\n",
        "    py = [np.hstack((i,j)) for i,j in zip(py0, py1)]\n",
        "    ey = np.hstack((ey0, ey1))\n",
        "    idxs = np.vstack((idxs0, idxs1))\n",
        "    \n",
        "    return idxs, pX, py, ey.astype(int)\n",
        "    "
      ],
      "execution_count": null,
      "outputs": []
    },
    {
      "cell_type": "code",
      "metadata": {
        "id": "x_iqrCL9eMVm"
      },
      "source": [
        "itr, pXtr, pytr, eytr = build_image_pairs(Xtr, ytr, n_pairs_per_class=100)\n",
        "its, pXts, pyts, eyts = build_image_pairs(Xts, yts, n_pairs_per_class=100)"
      ],
      "execution_count": null,
      "outputs": []
    },
    {
      "cell_type": "markdown",
      "metadata": {
        "id": "d2Itc8AteMVn"
      },
      "source": [
        "understand and inspect the structures created and observe how the function above creates a **balanced** dataset\n"
      ]
    },
    {
      "cell_type": "code",
      "metadata": {
        "colab": {
          "base_uri": "https://localhost:8080/"
        },
        "id": "6XfGPEAOeMVn",
        "outputId": "d1c28949-8cf5-48cc-a5f9-5a18029345fd"
      },
      "source": [
        "\n",
        "[i.shape for i in pXtr], [i.shape for i in pytr], itr.shape, eytr.shape\n"
      ],
      "execution_count": null,
      "outputs": [
        {
          "output_type": "execute_result",
          "data": {
            "text/plain": [
              "([(2000, 784), (2000, 784)], [(2000,), (2000,)], (2000, 2), (2000,))"
            ]
          },
          "metadata": {
            "tags": []
          },
          "execution_count": 8
        }
      ]
    },
    {
      "cell_type": "code",
      "metadata": {
        "colab": {
          "base_uri": "https://localhost:8080/"
        },
        "id": "3lUEb0RleMVo",
        "outputId": "47328ead-0c2a-4641-99c5-e2e30e62ac09"
      },
      "source": [
        "\n",
        "[i.shape for i in pXts], [i.shape for i in pyts], its.shape, eyts.shape\n"
      ],
      "execution_count": null,
      "outputs": [
        {
          "output_type": "execute_result",
          "data": {
            "text/plain": [
              "([(2000, 784), (2000, 784)], [(2000,), (2000,)], (2000, 2), (2000,))"
            ]
          },
          "metadata": {
            "tags": []
          },
          "execution_count": 9
        }
      ]
    },
    {
      "cell_type": "code",
      "metadata": {
        "colab": {
          "base_uri": "https://localhost:8080/"
        },
        "id": "4l2F84W0eMVo",
        "outputId": "0acbc6af-e17b-4406-d3bd-97eaa01cbb15"
      },
      "source": [
        "\n",
        "print (\"class distribution %.2f::%.2f\"%(np.mean(eytr), 1-np.mean(eytr)))\n",
        "\n"
      ],
      "execution_count": null,
      "outputs": [
        {
          "output_type": "stream",
          "text": [
            "class distribution 0.50::0.50\n"
          ],
          "name": "stdout"
        }
      ]
    },
    {
      "cell_type": "code",
      "metadata": {
        "colab": {
          "base_uri": "https://localhost:8080/",
          "height": 692
        },
        "id": "BhG9Anx_eMVp",
        "outputId": "63d907cf-7c27-419c-9cf3-54e10a61d7d0"
      },
      "source": [
        "\n",
        "for _ in range(5):\n",
        "    i = np.random.randint(len(pXtr[0]))\n",
        "    plt.figure(figsize=(4,2))\n",
        "    plt.subplot(121)\n",
        "    plt.imshow(pXtr[0][i].reshape(28,28), cmap=plt.cm.Greys_r); \n",
        "    plt.ylabel(\"CLASS %d\"%(eytr[i]));\n",
        "    plt.title(\"pair_0 :     %d\"%(pytr[0][i])); plt.xticks([],[]); plt.yticks([],[])\n",
        "    plt.subplot(122)\n",
        "    plt.imshow(pXtr[1][i].reshape(28,28), plt.cm.Greys_r); \n",
        "    plt.title(\"pair_1 :     %d\"%pytr[1][i]); plt.xticks([],[]); plt.yticks([],[])\n"
      ],
      "execution_count": null,
      "outputs": [
        {
          "output_type": "display_data",
          "data": {
            "image/png": "[encoded data removed]",
            "text/plain": [
              "<Figure size 288x144 with 2 Axes>"
            ]
          },
          "metadata": {
            "tags": []
          }
        },
        {
          "output_type": "display_data",
          "data": {
            "image/png": "[encoded data removed]",
            "text/plain": [
              "<Figure size 288x144 with 2 Axes>"
            ]
          },
          "metadata": {
            "tags": []
          }
        },
        {
          "output_type": "display_data",
          "data": {
            "image/png": "[encoded data removed]",
            "text/plain": [
              "<Figure size 288x144 with 2 Axes>"
            ]
          },
          "metadata": {
            "tags": []
          }
        },
        {
          "output_type": "display_data",
          "data": {
            "image/png": "[encoded data removed]",
            "text/plain": [
              "<Figure size 288x144 with 2 Axes>"
            ]
          },
          "metadata": {
            "tags": []
          }
        },
        {
          "output_type": "display_data",
          "data": {
            "image/png": "[encoded data removed]",
            "text/plain": [
              "<Figure size 288x144 with 2 Axes>"
            ]
          },
          "metadata": {
            "tags": []
          }
        }
      ]
    },
    {
      "cell_type": "markdown",
      "metadata": {
        "id": "oTc93SypeMVp"
      },
      "source": [
        "## TASK 1: Multi-input model\n",
        "\n",
        "Create a model with the architecture depicted in the following figure. "
      ]
    },
    {
      "cell_type": "code",
      "metadata": {
        "colab": {
          "base_uri": "https://localhost:8080/",
          "height": 594
        },
        "id": "a1R96hwLeMVp",
        "outputId": "6cbfb936-689c-405b-97ad-49b8af3fe9dc"
      },
      "source": [
        "\n",
        "from IPython.display import Image\n",
        "Image(filename='local/imgs/twoinputs.png', width=600)\n"
      ],
      "execution_count": null,
      "outputs": [
        {
          "output_type": "execute_result",
          "data": {
            "image/png": "[encoded data removed]",
            "text/plain": [
              "<IPython.core.display.Image object>"
            ]
          },
          "metadata": {
            "tags": [],
            "image/png": {
              "width": 600
            }
          },
          "execution_count": 12
        }
      ]
    },
    {
      "cell_type": "markdown",
      "metadata": {
        "id": "dcqn-9IHeMVq"
      },
      "source": [
        "Observe that \n",
        "\n",
        "- it will have **TWO** input layers with `input_dim=784` neurons each.\n",
        "- there is ony **ONE** output neuron.\n",
        "- the model summary should be as follows and **MUST NAME THE LAYERS ACCORDINGLY**:\n",
        "\n",
        "<pre>\n",
        "\n",
        "    __________________________________________________________________________________________________\n",
        "    Layer (type)                    Output Shape         Param #     Connected to                     \n",
        "    ==================================================================================================\n",
        "    input_img0 (InputLayer)         [(None, 784)]        0                                            \n",
        "    __________________________________________________________________________________________________\n",
        "    input_img1 (InputLayer)         [(None, 784)]        0                                            \n",
        "    __________________________________________________________________________________________________\n",
        "    layer1_img0 (Dense)             (None, 100)          78500       input_img0[0][0]                 \n",
        "    __________________________________________________________________________________________________\n",
        "    layer1_img1 (Dense)             (None, 100)          78500       input_img1[0][0]                 \n",
        "    __________________________________________________________________________________________________\n",
        "    tf_op_layer_concat_39 (TensorFl [(None, 200)]        0           layer1_img0[0][0]                \n",
        "                                                                     layer1_img1[0][0]                \n",
        "    __________________________________________________________________________________________________\n",
        "    layer2_common (Dense)           (None, 100)          20100       tf_op_layer_concat_39[0][0]      \n",
        "    __________________________________________________________________________________________________\n",
        "    output (Dense)                  (None, 1)            101         layer2_common[0][0]              \n",
        "    ==================================================================================================\n",
        "    Total params: 177,201\n",
        "    Trainable params: 177,201\n",
        "    Non-trainable params: 0\n",
        "    __________________________________________________________________________________________________\n",
        "</pre>"
      ]
    },
    {
      "cell_type": "code",
      "metadata": {
        "id": "2AQi7QpPeMVq"
      },
      "source": [
        "def get_model(input_dim):\n",
        "    \n",
        "    inputs1  = tf.keras.layers.Input(shape=input_dim, name=\"input_img0\")\n",
        "    inputs2  = tf.keras.layers.Input(shape=input_dim, name=\"input_img1\")\n",
        "    \n",
        "    layer1_img0 = tf.keras.layers.Dense(100,activation=\"softmax\",name = \"layer1_img0\")(inputs1)\n",
        "    layer1_img1 = tf.keras.layers.Dense(100,activation=\"softmax\",name = \"layer1_img1\")(inputs2)\n",
        "    \n",
        "    concat_layers = tf.concat([layer1_img0,layer1_img1],axis=1)\n",
        "\n",
        "    layer2_common = tf.keras.layers.Dense(100,activation=\"softmax\",name = \"layer2_common\")(concat_layers)\n",
        "    \n",
        "    output = tf.keras.layers.Dense(1, activation =\"softmax\",name=\"output\")(layer2_common)\n",
        "\n",
        "    model = tf.keras.Model(inputs=[inputs1, inputs2], outputs=output)    \n",
        "    \n",
        "    model.compile(optimizer='adam', loss='mse')\n",
        "    return model"
      ],
      "execution_count": 37,
      "outputs": []
    },
    {
      "cell_type": "code",
      "metadata": {
        "colab": {
          "base_uri": "https://localhost:8080/"
        },
        "id": "LJ2KFLoUeMVr",
        "outputId": "ecac4cb4-a8d3-4c57-9ef0-2676eb24d9ea"
      },
      "source": [
        "model = get_model(X.shape[1])\n",
        "model.summary()"
      ],
      "execution_count": 38,
      "outputs": [
        {
          "output_type": "stream",
          "text": [
            "Model: \"model_7\"\n",
            "__________________________________________________________________________________________________\n",
            "Layer (type)                    Output Shape         Param #     Connected to                     \n",
            "==================================================================================================\n",
            "input_img0 (InputLayer)         [(None, 784)]        0                                            \n",
            "__________________________________________________________________________________________________\n",
            "input_img1 (InputLayer)         [(None, 784)]        0                                            \n",
            "__________________________________________________________________________________________________\n",
            "layer1_img0 (Dense)             (None, 100)          78500       input_img0[0][0]                 \n",
            "__________________________________________________________________________________________________\n",
            "layer1_img1 (Dense)             (None, 100)          78500       input_img1[0][0]                 \n",
            "__________________________________________________________________________________________________\n",
            "tf.concat_7 (TFOpLambda)        (None, 200)          0           layer1_img0[0][0]                \n",
            "                                                                 layer1_img1[0][0]                \n",
            "__________________________________________________________________________________________________\n",
            "layer2_common (Dense)           (None, 100)          20100       tf.concat_7[0][0]                \n",
            "__________________________________________________________________________________________________\n",
            "output (Dense)                  (None, 1)            101         layer2_common[0][0]              \n",
            "==================================================================================================\n",
            "Total params: 177,201\n",
            "Trainable params: 177,201\n",
            "Non-trainable params: 0\n",
            "__________________________________________________________________________________________________\n"
          ],
          "name": "stdout"
        }
      ]
    },
    {
      "cell_type": "code",
      "metadata": {
        "id": "Ra_0fjNSeMVr"
      },
      "source": [
        ""
      ],
      "execution_count": null,
      "outputs": []
    },
    {
      "cell_type": "markdown",
      "metadata": {
        "id": "AtD8Xyx7eMVr"
      },
      "source": [
        "**Registra tu solución en linea**"
      ]
    },
    {
      "cell_type": "code",
      "metadata": {
        "scrolled": true,
        "colab": {
          "base_uri": "https://localhost:8080/",
          "height": 120
        },
        "id": "SxZAGWUIeMVs",
        "outputId": "53e2b7ff-d5dc-411c-a0f3-4852c9f18169"
      },
      "source": [
        "student.submit_task(namespace=globals(), task_id='T1');"
      ],
      "execution_count": null,
      "outputs": [
        {
          "output_type": "display_data",
          "data": {
            "text/html": [
              "\n",
              "                    <b>T1 submitted.</b> <b><font color=\"blue\">your grade is 5</font></b> \n",
              "                    <p/><pre>----- grader message -------</pre><b>correct</b><pre>----------------------------</pre>\n",
              "                    <p/><p/>\n",
              "                    <div style=\"font-size:10px\"><b>SUBMISSION CODE</b> 8qfObs+H9pTr1ZlOYfYLJuNT2MdfegWqn0FEMlKm1k1ImcFmcFOH1O8g9WuM+Ux2/HcElN05nl2rXImu4+rlRWBrRWUU9Btl6mVaykJcc5/eUKOFIKIc5WBJ0QWaksYismyvAd/92zRR5U3t/pYZbw==</div>\n",
              "                    "
            ],
            "text/plain": [
              "<IPython.core.display.HTML object>"
            ]
          },
          "metadata": {
            "tags": []
          }
        }
      ]
    },
    {
      "cell_type": "markdown",
      "metadata": {
        "id": "kRVz9x2CeMVs"
      },
      "source": [
        "**test your model**\n",
        "\n",
        "now we can test your model"
      ]
    },
    {
      "cell_type": "code",
      "metadata": {
        "id": "5Csj-JaweMVs",
        "colab": {
          "base_uri": "https://localhost:8080/"
        },
        "outputId": "9e2ffc26-edee-40b2-9073-f27137f3de50"
      },
      "source": [
        "model = get_model(X.shape[1])\n",
        "model.fit(pXtr, eytr, batch_size=16, epochs=20)"
      ],
      "execution_count": 39,
      "outputs": [
        {
          "output_type": "stream",
          "text": [
            "Epoch 1/20\n",
            "125/125 [==============================] - 1s 2ms/step - loss: 0.4904\n",
            "Epoch 2/20\n",
            "125/125 [==============================] - 0s 2ms/step - loss: 0.4974\n",
            "Epoch 3/20\n",
            "125/125 [==============================] - 0s 3ms/step - loss: 0.4972\n",
            "Epoch 4/20\n",
            "125/125 [==============================] - 0s 2ms/step - loss: 0.5119\n",
            "Epoch 5/20\n",
            "125/125 [==============================] - 0s 3ms/step - loss: 0.4930\n",
            "Epoch 6/20\n",
            "125/125 [==============================] - 0s 3ms/step - loss: 0.4945\n",
            "Epoch 7/20\n",
            "125/125 [==============================] - 0s 3ms/step - loss: 0.5038\n",
            "Epoch 8/20\n",
            "125/125 [==============================] - 0s 2ms/step - loss: 0.4800\n",
            "Epoch 9/20\n",
            "125/125 [==============================] - 0s 3ms/step - loss: 0.4979\n",
            "Epoch 10/20\n",
            "125/125 [==============================] - 0s 3ms/step - loss: 0.4830\n",
            "Epoch 11/20\n",
            "125/125 [==============================] - 0s 3ms/step - loss: 0.4951\n",
            "Epoch 12/20\n",
            "125/125 [==============================] - 0s 2ms/step - loss: 0.4933\n",
            "Epoch 13/20\n",
            "125/125 [==============================] - 0s 2ms/step - loss: 0.5073\n",
            "Epoch 14/20\n",
            "125/125 [==============================] - 0s 2ms/step - loss: 0.5014\n",
            "Epoch 15/20\n",
            "125/125 [==============================] - 0s 3ms/step - loss: 0.4962\n",
            "Epoch 16/20\n",
            "125/125 [==============================] - 0s 2ms/step - loss: 0.4997\n",
            "Epoch 17/20\n",
            "125/125 [==============================] - 0s 2ms/step - loss: 0.4894\n",
            "Epoch 18/20\n",
            "125/125 [==============================] - 0s 2ms/step - loss: 0.5159\n",
            "Epoch 19/20\n",
            "125/125 [==============================] - 0s 2ms/step - loss: 0.4881\n",
            "Epoch 20/20\n",
            "125/125 [==============================] - 0s 3ms/step - loss: 0.4912\n"
          ],
          "name": "stdout"
        },
        {
          "output_type": "execute_result",
          "data": {
            "text/plain": [
              "<tensorflow.python.keras.callbacks.History at 0x7febf74992d0>"
            ]
          },
          "metadata": {
            "tags": []
          },
          "execution_count": 39
        }
      ]
    },
    {
      "cell_type": "code",
      "metadata": {
        "id": "v2v2-E-FeMVs"
      },
      "source": [
        ""
      ],
      "execution_count": null,
      "outputs": []
    },
    {
      "cell_type": "code",
      "metadata": {
        "id": "2g1e9uPEeMVs"
      },
      "source": [
        "preds_ts = (model.predict(pXts)[:,0]>.5).astype(int)\n",
        "preds_tr = (model.predict(pXtr)[:,0]>.5).astype(int)"
      ],
      "execution_count": 41,
      "outputs": []
    },
    {
      "cell_type": "code",
      "metadata": {
        "id": "mWm9s8qoeMVt",
        "colab": {
          "base_uri": "https://localhost:8080/"
        },
        "outputId": "16ec2595-9fcb-49be-deec-32fd0be438f1"
      },
      "source": [
        "print (\"accuracy in train data %.2f\"%(np.mean(preds_tr==eytr)))\n",
        "print (\"accuracy in test data  %.2f\"%(np.mean(preds_ts==eyts)))"
      ],
      "execution_count": 42,
      "outputs": [
        {
          "output_type": "stream",
          "text": [
            "accuracy in train data 0.50\n",
            "accuracy in test data  0.50\n"
          ],
          "name": "stdout"
        }
      ]
    },
    {
      "cell_type": "markdown",
      "metadata": {
        "id": "f9JpYaPreMVt"
      },
      "source": [
        "inspect TEST predictions. Do you see any class getting more confused with others?"
      ]
    },
    {
      "cell_type": "code",
      "metadata": {
        "id": "D_Rkw_R3eMVt",
        "colab": {
          "base_uri": "https://localhost:8080/",
          "height": 1000
        },
        "outputId": "823646a7-dc14-4e06-ebfe-6f626f3e5ea6"
      },
      "source": [
        "for _ in range(20):\n",
        "    i = np.random.randint(len(pXts[0]))\n",
        "    plt.figure(figsize=(4,2))\n",
        "    plt.subplot(121)\n",
        "    plt.imshow(pXts[0][i].reshape(28,28), cmap=plt.cm.Greys_r)\n",
        "    plt.ylabel(\"PREDICTION %d\\nTARGET %d\"%(preds_ts[i], eyts[i]))\n",
        "    plt.subplot(122)\n",
        "    plt.imshow(pXts[1][i].reshape(28,28), cmap=plt.cm.Greys_r)"
      ],
      "execution_count": 43,
      "outputs": [
        {
          "output_type": "display_data",
          "data": {
            "image/png": "[encoded data removed]",
            "text/plain": [
              "<Figure size 288x144 with 2 Axes>"
            ]
          },
          "metadata": {
            "tags": [],
            "needs_background": "light"
          }
        },
        {
          "output_type": "display_data",
          "data": {
            "image/png": "[encoded data removed]",
            "text/plain": [
              "<Figure size 288x144 with 2 Axes>"
            ]
          },
          "metadata": {
            "tags": [],
            "needs_background": "light"
          }
        },
        {
          "output_type": "display_data",
          "data": {
            "image/png": "[encoded data removed]",
            "text/plain": [
              "<Figure size 288x144 with 2 Axes>"
            ]
          },
          "metadata": {
            "tags": [],
            "needs_background": "light"
          }
        },
        {
          "output_type": "display_data",
          "data": {
            "image/png": "[encoded data removed]",
            "text/plain": [
              "<Figure size 288x144 with 2 Axes>"
            ]
          },
          "metadata": {
            "tags": [],
            "needs_background": "light"
          }
        },
        {
          "output_type": "display_data",
          "data": {
            "image/png": "[encoded data removed]",
            "text/plain": [
              "<Figure size 288x144 with 2 Axes>"
            ]
          },
          "metadata": {
            "tags": [],
            "needs_background": "light"
          }
        },
        {
          "output_type": "display_data",
          "data": {
            "image/png": "[encoded data removed]",
            "text/plain": [
              "<Figure size 288x144 with 2 Axes>"
            ]
          },
          "metadata": {
            "tags": [],
            "needs_background": "light"
          }
        },
        {
          "output_type": "display_data",
          "data": {
            "image/png": "[encoded data removed]",
            "text/plain": [
              "<Figure size 288x144 with 2 Axes>"
            ]
          },
          "metadata": {
            "tags": [],
            "needs_background": "light"
          }
        },
        {
          "output_type": "display_data",
          "data": {
            "image/png": "[encoded data removed]",
            "text/plain": [
              "<Figure size 288x144 with 2 Axes>"
            ]
          },
          "metadata": {
            "tags": [],
            "needs_background": "light"
          }
        },
        {
          "output_type": "display_data",
          "data": {
            "image/png": "[encoded data removed]",
            "text/plain": [
              "<Figure size 288x144 with 2 Axes>"
            ]
          },
          "metadata": {
            "tags": [],
            "needs_background": "light"
          }
        },
        {
          "output_type": "display_data",
          "data": {
            "image/png": "[encoded data removed]",
            "text/plain": [
              "<Figure size 288x144 with 2 Axes>"
            ]
          },
          "metadata": {
            "tags": [],
            "needs_background": "light"
          }
        },
        {
          "output_type": "display_data",
          "data": {
            "image/png": "[encoded data removed]",
            "text/plain": [
              "<Figure size 288x144 with 2 Axes>"
            ]
          },
          "metadata": {
            "tags": [],
            "needs_background": "light"
          }
        },
        {
          "output_type": "display_data",
          "data": {
            "image/png": "[encoded data removed]",
            "text/plain": [
              "<Figure size 288x144 with 2 Axes>"
            ]
          },
          "metadata": {
            "tags": [],
            "needs_background": "light"
          }
        },
        {
          "output_type": "display_data",
          "data": {
            "image/png": "[encoded data removed]",
            "text/plain": [
              "<Figure size 288x144 with 2 Axes>"
            ]
          },
          "metadata": {
            "tags": [],
            "needs_background": "light"
          }
        },
        {
          "output_type": "display_data",
          "data": {
            "image/png": "[encoded data removed]",
            "text/plain": [
              "<Figure size 288x144 with 2 Axes>"
            ]
          },
          "metadata": {
            "tags": [],
            "needs_background": "light"
          }
        },
        {
          "output_type": "display_data",
          "data": {
            "image/png": "[encoded data removed]",
            "text/plain": [
              "<Figure size 288x144 with 2 Axes>"
            ]
          },
          "metadata": {
            "tags": [],
            "needs_background": "light"
          }
        },
        {
          "output_type": "display_data",
          "data": {
            "image/png": "[encoded data removed]",
            "text/plain": [
              "<Figure size 288x144 with 2 Axes>"
            ]
          },
          "metadata": {
            "tags": [],
            "needs_background": "light"
          }
        },
        {
          "output_type": "display_data",
          "data": {
            "image/png": "[encoded data removed]",
            "text/plain": [
              "<Figure size 288x144 with 2 Axes>"
            ]
          },
          "metadata": {
            "tags": [],
            "needs_background": "light"
          }
        },
        {
          "output_type": "display_data",
          "data": {
            "image/png": "[encoded data removed]",
            "text/plain": [
              "<Figure size 288x144 with 2 Axes>"
            ]
          },
          "metadata": {
            "tags": [],
            "needs_background": "light"
          }
        },
        {
          "output_type": "display_data",
          "data": {
            "image/png": "[encoded data removed]",
            "text/plain": [
              "<Figure size 288x144 with 2 Axes>"
            ]
          },
          "metadata": {
            "tags": [],
            "needs_background": "light"
          }
        },
        {
          "output_type": "display_data",
          "data": {
            "image/png": "[encoded data removed]",
            "text/plain": [
              "<Figure size 288x144 with 2 Axes>"
            ]
          },
          "metadata": {
            "tags": [],
            "needs_background": "light"
          }
        }
      ]
    },
    {
      "cell_type": "code",
      "metadata": {
        "id": "9BQcRUA8eMVu"
      },
      "source": [
        ""
      ],
      "execution_count": null,
      "outputs": []
    },
    {
      "cell_type": "markdown",
      "metadata": {
        "id": "7X1r030UeMVu"
      },
      "source": [
        "## TASK 2: Measure per-class accuracy\n",
        "\n",
        "For each class we want to measure what is the prediction accuracy for the binary task when it participates in a pair. Observe how we gather the labels of each pair together with the binary prediction and the true value."
      ]
    },
    {
      "cell_type": "code",
      "metadata": {
        "id": "K8PrvxwueMVu",
        "colab": {
          "base_uri": "https://localhost:8080/",
          "height": 195
        },
        "outputId": "1d723c4b-7334-425a-ac31-a54fe9e5be4a"
      },
      "source": [
        "\n",
        "ts = pd.DataFrame(np.vstack((pyts[0],pyts[1], eyts, preds_ts)).T, columns=[\"pair_0\", \"pair_1\", \"true\", \"pred\"])\n",
        "ts.head()\n"
      ],
      "execution_count": 44,
      "outputs": [
        {
          "output_type": "execute_result",
          "data": {
            "text/html": [
              "<div>\n",
              "<style scoped>\n",
              "    .dataframe tbody tr th:only-of-type {\n",
              "        vertical-align: middle;\n",
              "    }\n",
              "\n",
              "    .dataframe tbody tr th {\n",
              "        vertical-align: top;\n",
              "    }\n",
              "\n",
              "    .dataframe thead th {\n",
              "        text-align: right;\n",
              "    }\n",
              "</style>\n",
              "<table border=\"1\" class=\"dataframe\">\n",
              "  <thead>\n",
              "    <tr style=\"text-align: right;\">\n",
              "      <th></th>\n",
              "      <th>pair_0</th>\n",
              "      <th>pair_1</th>\n",
              "      <th>true</th>\n",
              "      <th>pred</th>\n",
              "    </tr>\n",
              "  </thead>\n",
              "  <tbody>\n",
              "    <tr>\n",
              "      <th>0</th>\n",
              "      <td>7</td>\n",
              "      <td>0</td>\n",
              "      <td>0</td>\n",
              "      <td>1</td>\n",
              "    </tr>\n",
              "    <tr>\n",
              "      <th>1</th>\n",
              "      <td>6</td>\n",
              "      <td>0</td>\n",
              "      <td>0</td>\n",
              "      <td>1</td>\n",
              "    </tr>\n",
              "    <tr>\n",
              "      <th>2</th>\n",
              "      <td>9</td>\n",
              "      <td>0</td>\n",
              "      <td>0</td>\n",
              "      <td>1</td>\n",
              "    </tr>\n",
              "    <tr>\n",
              "      <th>3</th>\n",
              "      <td>1</td>\n",
              "      <td>0</td>\n",
              "      <td>0</td>\n",
              "      <td>1</td>\n",
              "    </tr>\n",
              "    <tr>\n",
              "      <th>4</th>\n",
              "      <td>8</td>\n",
              "      <td>0</td>\n",
              "      <td>0</td>\n",
              "      <td>1</td>\n",
              "    </tr>\n",
              "  </tbody>\n",
              "</table>\n",
              "</div>"
            ],
            "text/plain": [
              "   pair_0  pair_1  true  pred\n",
              "0       7       0     0     1\n",
              "1       6       0     0     1\n",
              "2       9       0     0     1\n",
              "3       1       0     0     1\n",
              "4       8       0     0     1"
            ]
          },
          "metadata": {
            "tags": []
          },
          "execution_count": 44
        }
      ]
    },
    {
      "cell_type": "markdown",
      "metadata": {
        "id": "7a-Xc392eMVu"
      },
      "source": [
        "of course, the `true` value coincides with `pair_0` being equal or different from `pair_1`."
      ]
    },
    {
      "cell_type": "code",
      "metadata": {
        "id": "B36HIgW4eMVv",
        "colab": {
          "base_uri": "https://localhost:8080/"
        },
        "outputId": "db3cf4f7-a07d-4422-ddba-8750c77ab1c9"
      },
      "source": [
        "\n",
        "np.mean((ts.pair_0==ts.pair_1)==ts.true)\n"
      ],
      "execution_count": 45,
      "outputs": [
        {
          "output_type": "execute_result",
          "data": {
            "text/plain": [
              "1.0"
            ]
          },
          "metadata": {
            "tags": []
          },
          "execution_count": 45
        }
      ]
    },
    {
      "cell_type": "markdown",
      "metadata": {
        "id": "N142gsYVeMVv"
      },
      "source": [
        "To compute, per-class accuracy in this task, for instance for class 2:\n",
        "\n",
        "- select the rows where `pair_0` or `pair_1` is 2\n",
        "- measure the percentage of time in the selected rows where `true==pred`\n",
        "\n",
        "for instance, for the following DataFrame\n",
        "\n",
        "            pair_0  pair_1  true  pred\n",
        "        0        0       0     1     1\n",
        "        1        0       0     1     1\n",
        "        2        0       0     1     1\n",
        "        3        2       2     1     1\n",
        "        4        1       1     1     1\n",
        "        5        0       2     0     0\n",
        "        6        2       2     1     0\n",
        "        7        2       2     1     1\n",
        "        8        2       2     1     1\n",
        "        9        1       1     1     1\n",
        "        10       1       1     1     1\n",
        "        11       1       1     1     1\n",
        "        12       2       2     1     1\n",
        "        13       0       2     0     1\n",
        "        14       2       2     1     1\n",
        "        15       0       0     1     1\n",
        "        16       2       2     1     1\n",
        "        17       1       1     1     0\n",
        "        18       1       1     1     1\n",
        "        19       1       1     1     1\n",
        "        \n",
        "you must return this accuracies:\n",
        "\n",
        "        {0: 0.8333333333333334, 1: 0.8571428571428571, 2: 0.7777777777777778}\n",
        "\n",
        "\n",
        "the accuracies must be returned as a dictionary such as above. They keys are the original class labels, and the values the accuracy just described.\n",
        "\n",
        "The accuracies must be correct up to 3 decimal values."
      ]
    },
    {
      "cell_type": "code",
      "metadata": {
        "id": "eZqQg0GOeMVv"
      },
      "source": [
        "def perclass_bin_accuracy(ts):\n",
        "        \n",
        "    r = {}\n",
        "    for i in np.unique(ts.pair_0.tolist() + ts.pair_1.tolist()):\n",
        "        a=ts[(ts.pair_0==i) |(ts.pair_1==i) ] #Indexing rows  with columns with the value of i\n",
        "\n",
        "        r[i] = len(a[a.true==a.pred])/len(a)\n",
        "\n",
        "    return r"
      ],
      "execution_count": 70,
      "outputs": []
    },
    {
      "cell_type": "markdown",
      "metadata": {
        "id": "63dsHE_PeMVw"
      },
      "source": [
        "test your code with the example above"
      ]
    },
    {
      "cell_type": "code",
      "metadata": {
        "id": "DBWUU0wbeMVw",
        "colab": {
          "base_uri": "https://localhost:8080/"
        },
        "outputId": "7b7238b8-1bb5-4265-b1a2-ddac9a9603e9"
      },
      "source": [
        "t = pd.DataFrame(\n",
        "        np.array([[0, 0, 1, 1],[0, 0, 1, 1],[0, 0, 1, 1],[2, 2, 1, 1],[1, 1, 1, 1],\n",
        "                  [0, 2, 0, 0],[2, 2, 1, 0],[2, 2, 1, 1],[2, 2, 1, 1],[1, 1, 1, 1],[1, 1, 1, 1],[1, 1, 1, 1],\n",
        "                  [2, 2, 1, 1],[0, 2, 0, 1],[2, 2, 1, 1],[0, 0, 1, 1],[2, 2, 1, 1],[1, 1, 1, 0],[1, 1, 1, 1],\n",
        "                  [1, 1, 1, 1]]), \n",
        "    columns=[\"pair_0\", \"pair_1\", \"true\", \"pred\"])\n",
        "perclass_bin_accuracy(t)"
      ],
      "execution_count": 64,
      "outputs": [
        {
          "output_type": "execute_result",
          "data": {
            "text/plain": [
              "{0: 0.8333333333333334, 1: 0.8571428571428571, 2: 0.7777777777777778}"
            ]
          },
          "metadata": {
            "tags": []
          },
          "execution_count": 64
        }
      ]
    },
    {
      "cell_type": "code",
      "metadata": {
        "colab": {
          "base_uri": "https://localhost:8080/"
        },
        "id": "bibWVkxDycRG",
        "outputId": "89edc133-978b-4012-86af-d38ecb82e182"
      },
      "source": [
        ""
      ],
      "execution_count": 60,
      "outputs": [
        {
          "output_type": "execute_result",
          "data": {
            "text/plain": [
              "0.8333333333333334"
            ]
          },
          "metadata": {
            "tags": []
          },
          "execution_count": 60
        }
      ]
    },
    {
      "cell_type": "markdown",
      "metadata": {
        "id": "yTl-QLJIeMVw"
      },
      "source": [
        "test your code with other random examples"
      ]
    },
    {
      "cell_type": "code",
      "metadata": {
        "id": "BMUcFFV0zyiP"
      },
      "source": [
        "t"
      ],
      "execution_count": null,
      "outputs": []
    },
    {
      "cell_type": "code",
      "metadata": {
        "id": "FvAAsfNCeMVw",
        "colab": {
          "base_uri": "https://localhost:8080/",
          "height": 639
        },
        "outputId": "a02eeb7b-e133-4615-8261-82458f1594f1"
      },
      "source": [
        "n, n_classes = 20, 3\n",
        "p0 = np.random.randint(n_classes, size=n)\n",
        "p1 = np.random.randint(n_classes, size=n)\n",
        "dtrue = (p0==p1).astype(int)\n",
        "preds = np.random.randint(2, size=n)\n",
        "td = pd.DataFrame([p0,p1,dtrue,preds], index=[\"pair_0\", \"pair_1\", \"true\", \"pred\"]).T\n",
        "\n",
        "td"
      ],
      "execution_count": 65,
      "outputs": [
        {
          "output_type": "execute_result",
          "data": {
            "text/html": [
              "<div>\n",
              "<style scoped>\n",
              "    .dataframe tbody tr th:only-of-type {\n",
              "        vertical-align: middle;\n",
              "    }\n",
              "\n",
              "    .dataframe tbody tr th {\n",
              "        vertical-align: top;\n",
              "    }\n",
              "\n",
              "    .dataframe thead th {\n",
              "        text-align: right;\n",
              "    }\n",
              "</style>\n",
              "<table border=\"1\" class=\"dataframe\">\n",
              "  <thead>\n",
              "    <tr style=\"text-align: right;\">\n",
              "      <th></th>\n",
              "      <th>pair_0</th>\n",
              "      <th>pair_1</th>\n",
              "      <th>true</th>\n",
              "      <th>pred</th>\n",
              "    </tr>\n",
              "  </thead>\n",
              "  <tbody>\n",
              "    <tr>\n",
              "      <th>0</th>\n",
              "      <td>2</td>\n",
              "      <td>1</td>\n",
              "      <td>0</td>\n",
              "      <td>0</td>\n",
              "    </tr>\n",
              "    <tr>\n",
              "      <th>1</th>\n",
              "      <td>2</td>\n",
              "      <td>1</td>\n",
              "      <td>0</td>\n",
              "      <td>0</td>\n",
              "    </tr>\n",
              "    <tr>\n",
              "      <th>2</th>\n",
              "      <td>0</td>\n",
              "      <td>1</td>\n",
              "      <td>0</td>\n",
              "      <td>0</td>\n",
              "    </tr>\n",
              "    <tr>\n",
              "      <th>3</th>\n",
              "      <td>0</td>\n",
              "      <td>1</td>\n",
              "      <td>0</td>\n",
              "      <td>0</td>\n",
              "    </tr>\n",
              "    <tr>\n",
              "      <th>4</th>\n",
              "      <td>2</td>\n",
              "      <td>0</td>\n",
              "      <td>0</td>\n",
              "      <td>1</td>\n",
              "    </tr>\n",
              "    <tr>\n",
              "      <th>5</th>\n",
              "      <td>0</td>\n",
              "      <td>0</td>\n",
              "      <td>1</td>\n",
              "      <td>1</td>\n",
              "    </tr>\n",
              "    <tr>\n",
              "      <th>6</th>\n",
              "      <td>0</td>\n",
              "      <td>2</td>\n",
              "      <td>0</td>\n",
              "      <td>0</td>\n",
              "    </tr>\n",
              "    <tr>\n",
              "      <th>7</th>\n",
              "      <td>0</td>\n",
              "      <td>2</td>\n",
              "      <td>0</td>\n",
              "      <td>1</td>\n",
              "    </tr>\n",
              "    <tr>\n",
              "      <th>8</th>\n",
              "      <td>0</td>\n",
              "      <td>1</td>\n",
              "      <td>0</td>\n",
              "      <td>1</td>\n",
              "    </tr>\n",
              "    <tr>\n",
              "      <th>9</th>\n",
              "      <td>1</td>\n",
              "      <td>2</td>\n",
              "      <td>0</td>\n",
              "      <td>1</td>\n",
              "    </tr>\n",
              "    <tr>\n",
              "      <th>10</th>\n",
              "      <td>0</td>\n",
              "      <td>2</td>\n",
              "      <td>0</td>\n",
              "      <td>1</td>\n",
              "    </tr>\n",
              "    <tr>\n",
              "      <th>11</th>\n",
              "      <td>2</td>\n",
              "      <td>0</td>\n",
              "      <td>0</td>\n",
              "      <td>0</td>\n",
              "    </tr>\n",
              "    <tr>\n",
              "      <th>12</th>\n",
              "      <td>2</td>\n",
              "      <td>2</td>\n",
              "      <td>1</td>\n",
              "      <td>0</td>\n",
              "    </tr>\n",
              "    <tr>\n",
              "      <th>13</th>\n",
              "      <td>1</td>\n",
              "      <td>2</td>\n",
              "      <td>0</td>\n",
              "      <td>1</td>\n",
              "    </tr>\n",
              "    <tr>\n",
              "      <th>14</th>\n",
              "      <td>1</td>\n",
              "      <td>2</td>\n",
              "      <td>0</td>\n",
              "      <td>1</td>\n",
              "    </tr>\n",
              "    <tr>\n",
              "      <th>15</th>\n",
              "      <td>2</td>\n",
              "      <td>0</td>\n",
              "      <td>0</td>\n",
              "      <td>1</td>\n",
              "    </tr>\n",
              "    <tr>\n",
              "      <th>16</th>\n",
              "      <td>1</td>\n",
              "      <td>1</td>\n",
              "      <td>1</td>\n",
              "      <td>1</td>\n",
              "    </tr>\n",
              "    <tr>\n",
              "      <th>17</th>\n",
              "      <td>1</td>\n",
              "      <td>0</td>\n",
              "      <td>0</td>\n",
              "      <td>0</td>\n",
              "    </tr>\n",
              "    <tr>\n",
              "      <th>18</th>\n",
              "      <td>0</td>\n",
              "      <td>2</td>\n",
              "      <td>0</td>\n",
              "      <td>1</td>\n",
              "    </tr>\n",
              "    <tr>\n",
              "      <th>19</th>\n",
              "      <td>2</td>\n",
              "      <td>2</td>\n",
              "      <td>1</td>\n",
              "      <td>1</td>\n",
              "    </tr>\n",
              "  </tbody>\n",
              "</table>\n",
              "</div>"
            ],
            "text/plain": [
              "    pair_0  pair_1  true  pred\n",
              "0        2       1     0     0\n",
              "1        2       1     0     0\n",
              "2        0       1     0     0\n",
              "3        0       1     0     0\n",
              "4        2       0     0     1\n",
              "5        0       0     1     1\n",
              "6        0       2     0     0\n",
              "7        0       2     0     1\n",
              "8        0       1     0     1\n",
              "9        1       2     0     1\n",
              "10       0       2     0     1\n",
              "11       2       0     0     0\n",
              "12       2       2     1     0\n",
              "13       1       2     0     1\n",
              "14       1       2     0     1\n",
              "15       2       0     0     1\n",
              "16       1       1     1     1\n",
              "17       1       0     0     0\n",
              "18       0       2     0     1\n",
              "19       2       2     1     1"
            ]
          },
          "metadata": {
            "tags": []
          },
          "execution_count": 65
        }
      ]
    },
    {
      "cell_type": "code",
      "metadata": {
        "id": "AQJlwiDueMVw",
        "colab": {
          "base_uri": "https://localhost:8080/"
        },
        "outputId": "a80d9de3-362f-4b20-8818-6240b3e2f1db"
      },
      "source": [
        "perclass_bin_accuracy(td)"
      ],
      "execution_count": 66,
      "outputs": [
        {
          "output_type": "execute_result",
          "data": {
            "text/plain": [
              "{0: 0.8333333333333334, 1: 0.8, 2: 0.8571428571428571}"
            ]
          },
          "metadata": {
            "tags": []
          },
          "execution_count": 66
        }
      ]
    },
    {
      "cell_type": "code",
      "metadata": {
        "id": "EEjp81RgeMVx"
      },
      "source": [
        ""
      ],
      "execution_count": null,
      "outputs": []
    },
    {
      "cell_type": "markdown",
      "metadata": {
        "id": "5eoy_h-jeMVx"
      },
      "source": [
        "**Registra tu solución en linea**"
      ]
    },
    {
      "cell_type": "code",
      "metadata": {
        "scrolled": false,
        "id": "g3lnNxX9eMVx",
        "colab": {
          "base_uri": "https://localhost:8080/",
          "height": 125
        },
        "outputId": "aaa1c573-398b-44ed-ca84-5fdaec318c55"
      },
      "source": [
        "student.submit_task(namespace=globals(), task_id='T2');"
      ],
      "execution_count": 71,
      "outputs": [
        {
          "output_type": "display_data",
          "data": {
            "text/html": [
              "\n",
              "                    <b>T2 submitted.</b> <b><font color=\"blue\">your grade is 5</font></b> \n",
              "                    <p/><pre>----- grader message -------</pre>testing your code with 100 random data points<br/><b>correct</b><pre>----------------------------</pre>\n",
              "                    <p/><p/>\n",
              "                    <div style=\"font-size:10px\"><b>SUBMISSION CODE</b> y3WSGLBprlOD5gaLl0lsXE9dOg9B7URT+QEmTgRLJudr7vHXd7qJ6x/A+/wa+5YykhqxeTp+Lc/AsMtMGGunJgcqydml/4sGxJYI36ZD3nHOldFj8/xHVKvXTkCy7XPE/Ex5GmgK9sVySt4cnfIsLg==</div>\n",
              "                    "
            ],
            "text/plain": [
              "<IPython.core.display.HTML object>"
            ]
          },
          "metadata": {
            "tags": []
          }
        }
      ]
    },
    {
      "cell_type": "code",
      "metadata": {
        "id": "akvqXeqdeMVx"
      },
      "source": [
        ""
      ],
      "execution_count": null,
      "outputs": []
    },
    {
      "cell_type": "code",
      "metadata": {
        "id": "Qf17VbEIeMVy"
      },
      "source": [
        ""
      ],
      "execution_count": null,
      "outputs": []
    }
  ]
}