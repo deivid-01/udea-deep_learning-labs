{
  "nbformat": 4,
  "nbformat_minor": 0,
  "metadata": {
    "kernelspec": {
      "display_name": "p38",
      "language": "python",
      "name": "p38"
    },
    "language_info": {
      "codemirror_mode": {
        "name": "ipython",
        "version": 3
      },
      "file_extension": ".py",
      "mimetype": "text/x-python",
      "name": "python",
      "nbconvert_exporter": "python",
      "pygments_lexer": "ipython3",
      "version": "3.7.3"
    },
    "colab": {
      "name": "U1 LAB 01 - WARMUP.ipynb",
      "provenance": [],
      "collapsed_sections": []
    }
  },
  "cells": [
    {
      "cell_type": "markdown",
      "metadata": {
        "id": "kjRae1nMTQVJ"
      },
      "source": [
        "# LAB 01.01 - WARM UP"
      ]
    },
    {
      "cell_type": "code",
      "metadata": {
        "colab": {
          "base_uri": "https://localhost:8080/",
          "height": 74
        },
        "id": "IOh5d-YwTQVQ",
        "outputId": "83d2c29b-d999-4e10-9f84-aee93c4aa6db"
      },
      "source": [
        "!wget -nc --no-cache -O init.py -q https://raw.githubusercontent.com/rramosp/2021.deeplearning/main/content/init.py\n",
        "import init; init.init(force_download=False); init.get_weblink()"
      ],
      "execution_count": 1,
      "outputs": [
        {
          "output_type": "stream",
          "text": [
            "replicating local resources\n"
          ],
          "name": "stdout"
        },
        {
          "output_type": "execute_result",
          "data": {
            "text/html": [
              "<h3>See <a href='https://m5knaekxo6.execute-api.us-west-2.amazonaws.com/dev-v0001/rlxmooc/web/login' target='_blank'>my courses and progress</a></h2>"
            ],
            "text/plain": [
              "<IPython.core.display.HTML object>"
            ]
          },
          "metadata": {
            "tags": []
          },
          "execution_count": 1
        }
      ]
    },
    {
      "cell_type": "code",
      "metadata": {
        "colab": {
          "base_uri": "https://localhost:8080/"
        },
        "id": "2dsGzLJXTQVR",
        "outputId": "e67abda2-c939-418e-9959-a5ee8a2d23fc"
      },
      "source": [
        "from local.lib.rlxmoocapi import submit, session\n",
        "import inspect\n",
        "student = session.Session(init.endpoint).login( course_id=init.course_id, lab_id=\"L01.01\" )"
      ],
      "execution_count": 46,
      "outputs": [
        {
          "output_type": "stream",
          "text": [
            "username: davida.torres@udea.edu.co\n",
            "password: ··········\n",
            "using session UDEA\n"
          ],
          "name": "stdout"
        }
      ]
    },
    {
      "cell_type": "markdown",
      "metadata": {
        "id": "ErI08Z_UTQVR"
      },
      "source": [
        "## Task 1: An operation with matrices\n",
        "\n",
        "Given the following matrices and vectors:\n",
        "\n",
        "- $X \\in \\mathbb{R}^{m\\times n}$\n",
        "- $y \\in \\mathbb{R}^m$\n",
        "- $W \\in \\mathbb{R}^{n\\times 1}$\n",
        "- $b \\in \\mathbb{R}$\n",
        "\n",
        "Complete the following function so that it computes the following value:\n",
        "\n",
        "$$\\text{mean}\\big(\\text{relu}(X \\times W + b) - y)^2\\big)$$\n",
        "\n",
        "observe that:\n",
        "\n",
        "- $X\\times W \\in \\mathbb{R}^m$ and $b \\in \\mathbb{R}$, so $b$ gets added (_broadcasted_) to all elements of $X \\times W$\n",
        "- $\\text{mean}$ is the mean of the elements of an vector with $m$ elements.\n",
        "- The result is a number $\\in \\mathbb{R}$\n",
        "- $\\text{relu}(z)=\\text{max}(0,z)$ is a function $\\mathbb{R}\\rightarrow\\mathbb{R}$ that when applied to a vector is also **broadcasted** (applied individually to each element of the vector)\n",
        "\n",
        "**CHALLENGE**: Solve it with a single line of Python code (not counting the `relu` function definition)."
      ]
    },
    {
      "cell_type": "code",
      "metadata": {
        "id": "F9nObG1gTQVS"
      },
      "source": [
        "import numpy as np\n",
        "\n",
        "def operation(X,y,W,b):\n",
        "    relu = lambda x: x*(x>0)\n",
        "    return np.mean ( (relu(X@W+b)-y)**2)"
      ],
      "execution_count": 5,
      "outputs": []
    },
    {
      "cell_type": "markdown",
      "metadata": {
        "id": "zfnuLrN9TQVS"
      },
      "source": [
        "test your code with the following case, which should result in `0.15848`"
      ]
    },
    {
      "cell_type": "code",
      "metadata": {
        "id": "TnnO7nSmTQVS"
      },
      "source": [
        "X = np.array([[-0.09348275, -0.17182042, -0.29143506],\n",
        "              [ 0.34581753,  0.37816707,  0.39850916],\n",
        "              [ 0.23478876, -0.07832256,  0.10793716],\n",
        "              [-0.1746856 , -0.10240038, -0.27959607]])\n",
        "\n",
        "y = np.array([[-0.47312685],\n",
        "              [ 0.42086142],\n",
        "              [ 0.44194868],\n",
        "              [ 0.46536898]])\n",
        "W = np.array([[0.12650597],\n",
        "              [0.49952987],\n",
        "              [0.34470552]])\n",
        "\n",
        "b = -0.02"
      ],
      "execution_count": null,
      "outputs": []
    },
    {
      "cell_type": "code",
      "metadata": {
        "colab": {
          "base_uri": "https://localhost:8080/"
        },
        "id": "6FbFOvUuTQVT",
        "outputId": "c5e27210-4964-4fea-f8cb-fcb6c29518c5"
      },
      "source": [
        "operation(X,y,W,b)"
      ],
      "execution_count": null,
      "outputs": [
        {
          "output_type": "execute_result",
          "data": {
            "text/plain": [
              "0.15848356715672943"
            ]
          },
          "metadata": {
            "tags": []
          },
          "execution_count": 8
        }
      ]
    },
    {
      "cell_type": "markdown",
      "metadata": {
        "id": "QSwBs05lTQVT"
      },
      "source": [
        "test your code with random input values. This is actually what the **automatic grader** does"
      ]
    },
    {
      "cell_type": "code",
      "metadata": {
        "colab": {
          "base_uri": "https://localhost:8080/"
        },
        "id": "aTLQgO6eTQVT",
        "outputId": "b822555f-6f09-4f14-f929-6a91c7d91efe"
      },
      "source": [
        "m,n = np.random.randint(5, size=2)+2\n",
        "X = np.random.random(size=(m,n))-0.5\n",
        "W = np.random.random(size=(n,1))-0.5\n",
        "b = np.random.random()-0.5\n",
        "y = np.random.random(size=n)-0.5\n",
        "print (\"X=\\n\", X)\n",
        "print (\"y=\\n\", y)\n",
        "print (\"W=\\n\", W)\n",
        "print (\"b=\\n\", b)\n",
        "print (\"an_operation=\", operation(X,y,W,b))"
      ],
      "execution_count": null,
      "outputs": [
        {
          "output_type": "stream",
          "text": [
            "X=\n",
            " [[-0.26719251 -0.47442624]\n",
            " [ 0.36101301  0.12588389]\n",
            " [-0.18500106 -0.05288603]]\n",
            "y=\n",
            " [-0.45871233 -0.19395269]\n",
            "W=\n",
            " [[ 0.09117982]\n",
            " [-0.36020186]]\n",
            "b=\n",
            " 0.42428032161915596\n",
            "an_operation= 0.6563501702685793\n"
          ],
          "name": "stdout"
        }
      ]
    },
    {
      "cell_type": "markdown",
      "metadata": {
        "id": "VmLdycb6TQVU"
      },
      "source": [
        "**Submit your solution**"
      ]
    },
    {
      "cell_type": "code",
      "metadata": {
        "colab": {
          "base_uri": "https://localhost:8080/",
          "height": 108
        },
        "id": "SePTk0bUTQVU",
        "outputId": "2ecdec6a-fd88-4f2d-f28e-dfbe0fcf946b"
      },
      "source": [
        "student.submit_task(namespace=globals(), task_id='T1');"
      ],
      "execution_count": null,
      "outputs": [
        {
          "output_type": "display_data",
          "data": {
            "text/html": [
              "\n",
              "                    <b>T1 submitted.</b> <b><font color=\"blue\">your grade is 5</font></b> \n",
              "                    <p/><pre>----- grader message -------</pre><b>correct</b><pre>----------------------------</pre>\n",
              "                    <p/><p/>\n",
              "                    <div style=\"font-size:10px\"><b>SUBMISSION CODE</b> mQ7ODCRLHhvqxKt+PNfyDqaioroFfwFKM80PQ50c38I0CRshmD+ba0zEozNY43L4ejjXHXvIgGCg4K+g/yBnCuk3f7twVomuLx7/LBRR4//RlImXVNZoSCtnkx4WXKGi1oIFgWK6dBTdHF7WbuPSKA==</div>\n",
              "                    "
            ],
            "text/plain": [
              "<IPython.core.display.HTML object>"
            ]
          },
          "metadata": {
            "tags": []
          }
        }
      ]
    },
    {
      "cell_type": "markdown",
      "metadata": {
        "id": "P05v6jghTQVU"
      },
      "source": [
        "## Task 2: Function `argmax`\n",
        "\n",
        "Complete the following function such that when, given as argument a function `f(x)` with $x\\in\\mathbb{R}$, returns the value of $x$ which maximizes `f(x)`. If there is more than one value that maximizes the function, just return any one of those. \n",
        "\n",
        "Your return value must be exact up to 1 decimal position, and must be a number of type `float` (not a `numpy` array or any other type of object)\n",
        "\n",
        "**HINT**: Use [`scipy.optimize.minimize`](https://docs.scipy.org/doc/scipy/reference/generated/scipy.optimize.minimize.html) with the `BFGS` method, with a `lambda` function.\n",
        "\n",
        "**CHALLENGE**: Solve it with one single line of code (not counting the `import`)"
      ]
    },
    {
      "cell_type": "code",
      "metadata": {
        "id": "ALTuBLKLTQVV"
      },
      "source": [
        "def argmax(f):\n",
        "    from scipy.optimize import minimize\n",
        "    return round(minimize(lambda x:-f(x),0,method='BFGS').x[0],1)"
      ],
      "execution_count": 44,
      "outputs": []
    },
    {
      "cell_type": "markdown",
      "metadata": {
        "id": "7AO8S36bTQVV"
      },
      "source": [
        "Test your code, the following two functions must have their max on `x=1` and `x=-2` approx."
      ]
    },
    {
      "cell_type": "code",
      "metadata": {
        "id": "D4cnPqzFTQVV"
      },
      "source": [
        "def A(x):\n",
        "    return -(x-1)**2\n",
        "\n",
        "B = lambda x: -(x+2)**4"
      ],
      "execution_count": 31,
      "outputs": []
    },
    {
      "cell_type": "code",
      "metadata": {
        "colab": {
          "base_uri": "https://localhost:8080/",
          "height": 190
        },
        "id": "MbXzolTtTQVV",
        "outputId": "39579110-7572-4530-c66d-27745f672bbd"
      },
      "source": [
        "import matplotlib.pyplot as plt\n",
        "%matplotlib inline\n",
        "\n",
        "x = np.linspace(-6,4, 100)\n",
        "plt.figure(figsize=(10,2))\n",
        "plt.subplot(121); plt.plot(x, A(x)); plt.title(\"A(X)\")\n",
        "plt.subplot(122); plt.plot(x, B(x)); plt.title(\"B(X)\")"
      ],
      "execution_count": 32,
      "outputs": [
        {
          "output_type": "execute_result",
          "data": {
            "text/plain": [
              "Text(0.5, 1.0, 'B(X)')"
            ]
          },
          "metadata": {
            "tags": []
          },
          "execution_count": 32
        },
        {
          "output_type": "display_data",
          "data": {
            "image/png": "[encoded data removed]",
            "text/plain": [
              "<Figure size 720x144 with 2 Axes>"
            ]
          },
          "metadata": {
            "tags": [],
            "needs_background": "light"
          }
        }
      ]
    },
    {
      "cell_type": "code",
      "metadata": {
        "colab": {
          "base_uri": "https://localhost:8080/"
        },
        "id": "2OMZNN12TQVW",
        "outputId": "907c3110-ac96-40fc-b4e9-b7249e6da5d3"
      },
      "source": [
        "argmax(A),argmax(B)"
      ],
      "execution_count": 45,
      "outputs": [
        {
          "output_type": "execute_result",
          "data": {
            "text/plain": [
              "(1.0, -2.0)"
            ]
          },
          "metadata": {
            "tags": []
          },
          "execution_count": 45
        }
      ]
    },
    {
      "cell_type": "markdown",
      "metadata": {
        "id": "MUuXxftUTQVW"
      },
      "source": [
        "**Submit your solution**"
      ]
    },
    {
      "cell_type": "code",
      "metadata": {
        "id": "J5Mhs2XsTQVW",
        "colab": {
          "base_uri": "https://localhost:8080/",
          "height": 125
        },
        "outputId": "9961d9f0-b83d-4efb-db0c-4b1a3961161b"
      },
      "source": [
        "student.submit_task(namespace=globals(), task_id='T2');"
      ],
      "execution_count": 47,
      "outputs": [
        {
          "output_type": "display_data",
          "data": {
            "text/html": [
              "\n",
              "                    <b>T2 submitted.</b> <b><font color=\"blue\">your grade is 5</font></b> \n",
              "                    <p/><pre>----- grader message -------</pre>testing your code with 100 random data functions<br/><b>correct</b><pre>----------------------------</pre>\n",
              "                    <p/><p/>\n",
              "                    <div style=\"font-size:10px\"><b>SUBMISSION CODE</b> OE3vE1e3f/aRJdTbuEWMQTC+INGoyK/Q9ODhd3OZBpSqOnqCuh8ZWf8fkT6+F6vtACpn5BcS4QmseQrJ7hoIfXoifQEAxqywFq/b5w+OM60wENu3d5Z79EGx0fkNIEGkgtAXBu1qT7pWbJhHskFGAA==</div>\n",
              "                    "
            ],
            "text/plain": [
              "<IPython.core.display.HTML object>"
            ]
          },
          "metadata": {
            "tags": []
          }
        }
      ]
    },
    {
      "cell_type": "code",
      "metadata": {
        "id": "1FIGJBCjTQVW"
      },
      "source": [
        ""
      ],
      "execution_count": null,
      "outputs": []
    },
    {
      "cell_type": "code",
      "metadata": {
        "id": "KUvz1TVgTQVX"
      },
      "source": [
        ""
      ],
      "execution_count": null,
      "outputs": []
    },
    {
      "cell_type": "code",
      "metadata": {
        "id": "LM1fsCH_TQVX"
      },
      "source": [
        ""
      ],
      "execution_count": null,
      "outputs": []
    }
  ]
}