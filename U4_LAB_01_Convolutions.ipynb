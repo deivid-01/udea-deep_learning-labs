{
  "nbformat": 4,
  "nbformat_minor": 0,
  "metadata": {
    "kernelspec": {
      "display_name": "p38",
      "language": "python",
      "name": "p38"
    },
    "language_info": {
      "codemirror_mode": {
        "name": "ipython",
        "version": 3
      },
      "file_extension": ".py",
      "mimetype": "text/x-python",
      "name": "python",
      "nbconvert_exporter": "python",
      "pygments_lexer": "ipython3",
      "version": "3.8.3"
    },
    "colab": {
      "name": "Copy of U4 LAB 01 - Convolutions.ipynb",
      "provenance": []
    }
  },
  "cells": [
    {
      "cell_type": "markdown",
      "metadata": {
        "id": "LVtK3eqAA0Hh"
      },
      "source": [
        "# LAB 4.1 - Convolutions"
      ]
    },
    {
      "cell_type": "code",
      "metadata": {
        "id": "9lR_W4HjA0Hn",
        "colab": {
          "base_uri": "https://localhost:8080/"
        },
        "outputId": "03e432bd-daf7-4c1e-8a31-3155746f17bd"
      },
      "source": [
        "!wget -nc --no-cache -O init.py -q https://raw.githubusercontent.com/rramosp/2021.deeplearning/main/content/init.py\n",
        "import init; init.init(force_download=False); "
      ],
      "execution_count": 1,
      "outputs": [
        {
          "output_type": "stream",
          "text": [
            "replicating local resources\n"
          ],
          "name": "stdout"
        }
      ]
    },
    {
      "cell_type": "code",
      "metadata": {
        "scrolled": true,
        "id": "i724v0EJA0Ho",
        "colab": {
          "base_uri": "https://localhost:8080/"
        },
        "outputId": "fb6e6255-f420-4758-d92f-24a0dd5e028b"
      },
      "source": [
        "from local.lib.rlxmoocapi import submit, session\n",
        "student = session.Session(init.endpoint).login( course_id=init.course_id, lab_id=\"L04.01\" )"
      ],
      "execution_count": 188,
      "outputs": [
        {
          "output_type": "stream",
          "text": [
            "username: davida.torres@udea.edu.co\n",
            "password: ··········\n",
            "using session UDEA\n"
          ],
          "name": "stdout"
        }
      ]
    },
    {
      "cell_type": "code",
      "metadata": {
        "id": "q6gBDaZkA0Hp",
        "colab": {
          "base_uri": "https://localhost:8080/",
          "height": 35
        },
        "outputId": "5ffa3c4c-bae2-4c89-85ef-4ebf39425c9a"
      },
      "source": [
        "import numpy as np\n",
        "import os\n",
        "import tensorflow as tf\n",
        "import matplotlib.pyplot as plt\n",
        "%matplotlib inline\n",
        "tf.__version__"
      ],
      "execution_count": 2,
      "outputs": [
        {
          "output_type": "execute_result",
          "data": {
            "application/vnd.google.colaboratory.intrinsic+json": {
              "type": "string"
            },
            "text/plain": [
              "'2.4.1'"
            ]
          },
          "metadata": {
            "tags": []
          },
          "execution_count": 2
        }
      ]
    },
    {
      "cell_type": "markdown",
      "metadata": {
        "id": "7QcMLFwwA0Hp"
      },
      "source": [
        "## TASK 1: Implement convolutions\n",
        "\n",
        "Complete the following function so that it implements a convolution in a set of `for` loops. **YOU CANNOT USE TENSORFLOW**\n",
        "\n",
        "The parameters of the function are as follow:\n",
        "\n",
        "- `img`: the images, an array of size [1,y,x,k], where:\n",
        "    - `1`: you will be receiving only one image\n",
        "    - `x`, `y`: the size of the image\n",
        "    - `k` : the number of channels\n",
        "    \n",
        "- `f`: the filters, an array of size [fy,fx,k,n], where:\n",
        "    - `fx`, `fy`: the size of the filters\n",
        "    - `k` : the number of channels (**must be the same as in images**)\n",
        "    - `n`: the number of filters\n",
        "- `activation`: the activation function to use (such as `sigmoid` or `linear` as shown below)\n",
        "\n",
        "\n",
        "the resulting activation map must be of shape `[1, x-fx+1, y-fy+1, n]` which is equivalent to a `Conv2D`  Keras layer with `padding='VALID'`"
      ]
    },
    {
      "cell_type": "code",
      "metadata": {
        "id": "pG-dxTjLA0Hq"
      },
      "source": [
        "sigmoid = lambda x: 1/(1+np.exp(-x))\n",
        "linear  = lambda x: x\n",
        "\n",
        "def convolution_byhand(img, f, activation=sigmoid):\n",
        "    assert f.shape[2]==img.shape[3]\n",
        "    fy = f.shape[0]\n",
        "    fx = f.shape[1]\n",
        "    r = np.zeros( (1, img.shape[1]-fy+1, img.shape[2]-fx+1, f.shape[3] ))\n",
        "    for filter_nb in range(f.shape[3]):      \n",
        "        for y in range(r.shape[1]):\n",
        "            for x in range(r.shape[2]):\n",
        "              y_idx = fy+y\n",
        "              x_idx = fx+x\n",
        "              r[0,y,x,filter_nb] = activation((img[0,y:y_idx,x:x_idx]*f[:,:,:,filter_nb]).sum());\n",
        "    return r"
      ],
      "execution_count": 141,
      "outputs": []
    },
    {
      "cell_type": "markdown",
      "metadata": {
        "id": "n070n8VvA0Hq"
      },
      "source": [
        "with the following 5x5x1 image and 2 filters of size 3x3x1 you should get this result\n",
        "\n",
        "        >> convolution_byhand(img, f, activation=sigmoid)\n",
        "        array([[[[0.7109495 , 0.37754067],\n",
        "                 [0.40131234, 0.35434369],\n",
        "                 [0.40131234, 0.40131234]],\n",
        "\n",
        "                [[0.450166  , 0.5       ],\n",
        "                 [0.59868766, 0.40131234],\n",
        "                 [0.2890505 , 0.42555748]],\n",
        "\n",
        "                [[0.19781611, 0.64565631],\n",
        "                 [0.81757448, 0.75026011],\n",
        "                 [0.2890505 , 0.66818777]]]])"
      ]
    },
    {
      "cell_type": "code",
      "metadata": {
        "id": "fppZR5kgA0Hq",
        "colab": {
          "base_uri": "https://localhost:8080/"
        },
        "outputId": "a824bdc2-1cfb-43ab-a856-f2853a02721b"
      },
      "source": [
        "img = np.r_[[[0, 8, 5, 9, 7],\n",
        "             [0, 6, 4, 6, 9],\n",
        "             [6, 3, 8, 4, 5],\n",
        "             [8, 7, 7, 4, 5],\n",
        "             [7, 2, 5, 0, 2]]].reshape((1,5,5,1))/10 - 0.5\n",
        "f = np.r_[[-1., -1.,  1., -1., -1., -1., -1.,  1.,  1.],\n",
        "          [ 1., -1.,  1., -1., -1.,  1., -1., -1., -1.]].reshape(3,3,1,2)\n",
        "convolution_byhand(img, f, activation=sigmoid)"
      ],
      "execution_count": 132,
      "outputs": [
        {
          "output_type": "stream",
          "text": [
            "(1, 5, 5, 1)\n",
            "(1, 3, 3, 2)\n"
          ],
          "name": "stdout"
        },
        {
          "output_type": "execute_result",
          "data": {
            "text/plain": [
              "array([[[[0.7109495 , 0.37754067],\n",
              "         [0.40131234, 0.35434369],\n",
              "         [0.40131234, 0.40131234]],\n",
              "\n",
              "        [[0.450166  , 0.5       ],\n",
              "         [0.59868766, 0.40131234],\n",
              "         [0.2890505 , 0.42555748]],\n",
              "\n",
              "        [[0.19781611, 0.64565631],\n",
              "         [0.81757448, 0.75026011],\n",
              "         [0.2890505 , 0.66818777]]]])"
            ]
          },
          "metadata": {
            "tags": []
          },
          "execution_count": 132
        }
      ]
    },
    {
      "cell_type": "markdown",
      "metadata": {
        "id": "JjKkZQMmA0Hr"
      },
      "source": [
        "which should yield the same result as simply applying a keras `Conv2D` layer"
      ]
    },
    {
      "cell_type": "code",
      "metadata": {
        "id": "0bjzQoysA0Hr",
        "colab": {
          "base_uri": "https://localhost:8080/"
        },
        "outputId": "30ad3d2e-cf6a-4abd-aff3-678f07602978"
      },
      "source": [
        "c = tf.keras.layers.Conv2D(filters=f.shape[-1], kernel_size=f.shape[:2], activation=\"sigmoid\", padding='VALID', dtype=tf.float64)\n",
        "c.build(input_shape=(1,7,7,f.shape[2]))   # any shape would do here, just initializing weights\n",
        "c.set_weights([f, np.zeros(2)])\n",
        "c(img).numpy()"
      ],
      "execution_count": 133,
      "outputs": [
        {
          "output_type": "execute_result",
          "data": {
            "text/plain": [
              "array([[[[0.7109495 , 0.37754067],\n",
              "         [0.40131234, 0.35434369],\n",
              "         [0.40131234, 0.40131234]],\n",
              "\n",
              "        [[0.450166  , 0.5       ],\n",
              "         [0.59868766, 0.40131234],\n",
              "         [0.2890505 , 0.42555748]],\n",
              "\n",
              "        [[0.19781611, 0.64565631],\n",
              "         [0.81757448, 0.75026011],\n",
              "         [0.2890505 , 0.66818777]]]])"
            ]
          },
          "metadata": {
            "tags": []
          },
          "execution_count": 133
        }
      ]
    },
    {
      "cell_type": "markdown",
      "metadata": {
        "id": "1KnU95WlA0Hr"
      },
      "source": [
        "you can also check the effect of the filters in a sample image"
      ]
    },
    {
      "cell_type": "code",
      "metadata": {
        "id": "LU2yoi-ZA0Hs",
        "colab": {
          "base_uri": "https://localhost:8080/",
          "height": 406
        },
        "outputId": "9d995f97-61ed-4e02-8a9f-24cf1edc1c0f"
      },
      "source": [
        "\n",
        "from skimage import io\n",
        "img = io.imread(\"local/imgs/sample_img.png\")\n",
        "img = img.reshape(1,*img.shape, 1)\n",
        "img = (img-np.min(img))/(np.max(img)-np.min(img))\n",
        "a1 = convolution_byhand(img, f)\n",
        "a2 = c(img).numpy()\n",
        "\n",
        "plt.figure(figsize=(10,6))\n",
        "plt.subplot(231); plt.imshow(img[0,:,:,0], cmap=plt.cm.Greys_r); plt.axis(\"off\"); plt.title(\"original\")\n",
        "plt.subplot(232); plt.imshow(a1[0,:,:,0], cmap=plt.cm.Greys_r); plt.axis(\"off\"); plt.title(\"your conv filter 0\")\n",
        "plt.subplot(233); plt.imshow(a2[0,:,:,0], cmap=plt.cm.Greys_r); plt.axis(\"off\"); plt.title(\"keras conv2D filter 0\")\n",
        "plt.subplot(235); plt.imshow(a1[0,:,:,1], cmap=plt.cm.Greys_r); plt.axis(\"off\"); plt.title(\"your conv filter 1\")\n",
        "plt.subplot(236); plt.imshow(a2[0,:,:,1], cmap=plt.cm.Greys_r); plt.axis(\"off\"); plt.title(\"keras conv2D filter 1\");\n"
      ],
      "execution_count": 135,
      "outputs": [
        {
          "output_type": "stream",
          "text": [
            "(1, 32, 32, 1)\n",
            "(1, 30, 30, 2)\n"
          ],
          "name": "stdout"
        },
        {
          "output_type": "display_data",
          "data": {
            "image/png": "[encoded data removed]",
            "text/plain": [
              "<Figure size 720x432 with 5 Axes>"
            ]
          },
          "metadata": {
            "tags": [],
            "needs_background": "light"
          }
        }
      ]
    },
    {
      "cell_type": "markdown",
      "metadata": {
        "id": "9alo_vDyA0Ht"
      },
      "source": [
        "**Registra tu solución en linea**"
      ]
    },
    {
      "cell_type": "code",
      "metadata": {
        "scrolled": false,
        "id": "lIE7mKw8A0Ht",
        "colab": {
          "base_uri": "https://localhost:8080/",
          "height": 125
        },
        "outputId": "866845fc-0bdd-405e-b780-6478af47e4ee"
      },
      "source": [
        "student.submit_task(namespace=globals(), task_id='T1');"
      ],
      "execution_count": 136,
      "outputs": [
        {
          "output_type": "display_data",
          "data": {
            "text/html": [
              "\n",
              "                    <b>T1 submitted.</b> <b><font color=\"blue\">your grade is 5</font></b> \n",
              "                    <p/><pre>----- grader message -------</pre>testing your code with 100 random calls<br/><b>correct</b><pre>----------------------------</pre>\n",
              "                    <p/><p/>\n",
              "                    <div style=\"font-size:10px\"><b>SUBMISSION CODE</b> VwgZIqqeOOU1TSwLmwGyRU7mX2Zh7UUC9R/W8iz/Vpy0XunOtFqbbxErVKoX/nno01njz2j67hsRqVoqH51dfbaEZZzfCmAeJeVVmSo+4YPC3cqXFWb/EpXWUKjGKpsIkahvN9fcOlxuU128qpSYFQ==</div>\n",
              "                    "
            ],
            "text/plain": [
              "<IPython.core.display.HTML object>"
            ]
          },
          "metadata": {
            "tags": []
          }
        }
      ]
    },
    {
      "cell_type": "code",
      "metadata": {
        "id": "7zJuMEM8A0Ht"
      },
      "source": [
        ""
      ],
      "execution_count": null,
      "outputs": []
    },
    {
      "cell_type": "code",
      "metadata": {
        "id": "XVIO0hKPA0Hu"
      },
      "source": [
        ""
      ],
      "execution_count": null,
      "outputs": []
    },
    {
      "cell_type": "code",
      "metadata": {
        "id": "wXrtChr1A0Hu"
      },
      "source": [
        ""
      ],
      "execution_count": null,
      "outputs": []
    },
    {
      "cell_type": "code",
      "metadata": {
        "id": "1UHEHzsIA0Hu"
      },
      "source": [
        ""
      ],
      "execution_count": null,
      "outputs": []
    },
    {
      "cell_type": "markdown",
      "metadata": {
        "id": "ZNn_QCzUA0Hu"
      },
      "source": [
        "## TASK 2: Prepare image for one-shot convolution\n",
        "\n",
        "We will prepare images to do the convolution with one dot product operation for each filter and each image. This will use more memory but will increase performance, specially if we have many filters.\n",
        "\n",
        "For instance, assume we have the following 1x8x6x1 images (only one image, one channel) and 2x3x1x2 filters (one channel, two filters)"
      ]
    },
    {
      "cell_type": "code",
      "metadata": {
        "id": "kPMZTtgqA0Hu",
        "colab": {
          "base_uri": "https://localhost:8080/"
        },
        "outputId": "7c395bbf-b591-408c-cc77-dcacfcd9e833"
      },
      "source": [
        "img = np.r_[[9, 4, 9, 6, 7, 1, 2, 2, 8, 0, 8, 6, 8, 6, 5, 5, 1, 4, 3, 4, 4, 4,\n",
        "             3, 6, 5, 1, 7, 9, 1, 4, 0, 3, 1, 4, 3, 5, 1, 5, 5, 4, 9, 6, 3, 2,\n",
        "             8, 9, 0, 6]].reshape(1,8,6,1)\n",
        "f = np.r_[[6, 7, 8, 5, 2, 9, 6, 4, 9, 7, 9, 7]].reshape(2,3,1,2)\n",
        "print (\"images\", img.shape)\n",
        "print (img[0,:,:,0])\n",
        "print (\"--\")\n",
        "print (\"filters\", f.shape)\n",
        "print (f[:,:,0,0])\n",
        "print (f[:,:,0,1])"
      ],
      "execution_count": 144,
      "outputs": [
        {
          "output_type": "stream",
          "text": [
            "images (1, 8, 6, 1)\n",
            "[[9 4 9 6 7 1]\n",
            " [2 2 8 0 8 6]\n",
            " [8 6 5 5 1 4]\n",
            " [3 4 4 4 3 6]\n",
            " [5 1 7 9 1 4]\n",
            " [0 3 1 4 3 5]\n",
            " [1 5 5 4 9 6]\n",
            " [3 2 8 9 0 6]]\n",
            "--\n",
            "filters (2, 3, 1, 2)\n",
            "[[6 8 2]\n",
            " [6 9 9]]\n",
            "[[7 5 9]\n",
            " [4 7 7]]\n"
          ],
          "name": "stdout"
        }
      ]
    },
    {
      "cell_type": "markdown",
      "metadata": {
        "id": "9jTQStyjA0Hv"
      },
      "source": [
        "observe that if we repeat and rearrange `img` in the following way"
      ]
    },
    {
      "cell_type": "code",
      "metadata": {
        "id": "jsDwuPdQA0Hv"
      },
      "source": [
        "pimg = np.array([[[[9., 4., 9., 2., 2., 8.],\n",
        "         [4., 9., 6., 2., 8., 0.],\n",
        "         [9., 6., 7., 8., 0., 8.],\n",
        "         [6., 7., 1., 0., 8., 6.]],\n",
        "\n",
        "        [[2., 2., 8., 8., 6., 5.],\n",
        "         [2., 8., 0., 6., 5., 5.],\n",
        "         [8., 0., 8., 5., 5., 1.],\n",
        "         [0., 8., 6., 5., 1., 4.]],\n",
        "\n",
        "        [[8., 6., 5., 3., 4., 4.],\n",
        "         [6., 5., 5., 4., 4., 4.],\n",
        "         [5., 5., 1., 4., 4., 3.],\n",
        "         [5., 1., 4., 4., 3., 6.]],\n",
        "\n",
        "        [[3., 4., 4., 5., 1., 7.],\n",
        "         [4., 4., 4., 1., 7., 9.],\n",
        "         [4., 4., 3., 7., 9., 1.],\n",
        "         [4., 3., 6., 9., 1., 4.]],\n",
        "\n",
        "        [[5., 1., 7., 0., 3., 1.],\n",
        "         [1., 7., 9., 3., 1., 4.],\n",
        "         [7., 9., 1., 1., 4., 3.],\n",
        "         [9., 1., 4., 4., 3., 5.]],\n",
        "\n",
        "        [[0., 3., 1., 1., 5., 5.],\n",
        "         [3., 1., 4., 5., 5., 4.],\n",
        "         [1., 4., 3., 5., 4., 9.],\n",
        "         [4., 3., 5., 4., 9., 6.]],\n",
        "\n",
        "        [[1., 5., 5., 3., 2., 8.],\n",
        "         [5., 5., 4., 2., 8., 9.],\n",
        "         [5., 4., 9., 8., 9., 0.],\n",
        "         [4., 9., 6., 9., 0., 6.]]]])\n"
      ],
      "execution_count": 138,
      "outputs": []
    },
    {
      "cell_type": "code",
      "metadata": {
        "colab": {
          "base_uri": "https://localhost:8080/"
        },
        "id": "Nwf844NKk12s",
        "outputId": "183a178b-e845-4695-89b9-444f9601986f"
      },
      "source": [
        "print(pimg.shape)\n",
        "print(\n",
        "    img.shape)\n"
      ],
      "execution_count": 143,
      "outputs": [
        {
          "output_type": "stream",
          "text": [
            "(1, 7, 4, 6)\n",
            "(1, 8, 6, 1)\n"
          ],
          "name": "stdout"
        }
      ]
    },
    {
      "cell_type": "markdown",
      "metadata": {
        "id": "w-tMg7FTA0Hw"
      },
      "source": [
        "we only need one `dot` operation to obtain the convolution"
      ]
    },
    {
      "cell_type": "code",
      "metadata": {
        "id": "Qhd8Gr7VA0Hw",
        "colab": {
          "base_uri": "https://localhost:8080/"
        },
        "outputId": "eab7e6f1-4c09-4cf3-9240-ff79c76106c6"
      },
      "source": [
        "\n",
        "pimg[0].dot(f[:,:,:,0].flatten())\n"
      ],
      "execution_count": 139,
      "outputs": [
        {
          "output_type": "execute_result",
          "data": {
            "text/plain": [
              "array([[206., 192., 236., 220.],\n",
              "       [191., 202., 148., 151.],\n",
              "       [196., 182., 159., 151.],\n",
              "       [160., 214., 194., 159.],\n",
              "       [ 88., 143., 185., 166.],\n",
              "       [122., 145., 191., 217.],\n",
              "       [164., 243., 209., 216.]])"
            ]
          },
          "metadata": {
            "tags": []
          },
          "execution_count": 139
        }
      ]
    },
    {
      "cell_type": "markdown",
      "metadata": {
        "id": "QiqgDFlQA0Hw"
      },
      "source": [
        "which we can compare with your previous function"
      ]
    },
    {
      "cell_type": "code",
      "metadata": {
        "id": "gFBfqQJoA0Hx",
        "colab": {
          "base_uri": "https://localhost:8080/"
        },
        "outputId": "19484fe4-88b1-4984-a9a8-fda76b5095f0"
      },
      "source": [
        "\n",
        "convolution_byhand(img, f, activation=linear)[0,:,:,0]\n"
      ],
      "execution_count": 140,
      "outputs": [
        {
          "output_type": "stream",
          "text": [
            "(1, 8, 6, 1)\n",
            "(1, 7, 4, 2)\n"
          ],
          "name": "stdout"
        },
        {
          "output_type": "execute_result",
          "data": {
            "text/plain": [
              "array([[206., 192., 236., 220.],\n",
              "       [191., 202., 148., 151.],\n",
              "       [196., 182., 159., 151.],\n",
              "       [160., 214., 194., 159.],\n",
              "       [ 88., 143., 185., 166.],\n",
              "       [122., 145., 191., 217.],\n",
              "       [164., 243., 209., 216.]])"
            ]
          },
          "metadata": {
            "tags": []
          },
          "execution_count": 140
        }
      ]
    },
    {
      "cell_type": "markdown",
      "metadata": {
        "id": "ujFPabvWA0Hx"
      },
      "source": [
        "observe that:\n",
        "\n",
        "- resulting images in this example after convolution with any filter will have size 7x4\n",
        "- the resulting structure `pimg` has at each pixel (in the 7x4 grid) a vector of six elements associated with it.\n",
        "- this vector is the flattened contents of 2x3x1 image fragment located at that pixel that would by multiplied element by element by any filter located at that pixel during the convolution.\n",
        "- the first row in `pimg` corresponds to the flattened 2x3 fragment located at the top left corner of `img`\n",
        "- the second row contains the 2x3 fragment after shifting one pixel to the right.\n",
        "- we use the [`np.flatten`](https://docs.scipy.org/doc/numpy/reference/generated/numpy.ndarray.flatten.html) operation. \n",
        "\n",
        "\n",
        "**COMPLETE** the following function such that it prepares an image in this way, so that the convolution with a filter is just a `dot` operation. Where:\n",
        "\n",
        "- `img` is the images array (assume we only have one image)\n",
        "- `fy` and `fx` are the filter dimensions (2,3 in the example just above)\n"
      ]
    },
    {
      "cell_type": "code",
      "metadata": {
        "id": "UXZmQj-tA0Hx"
      },
      "source": [
        "def prepare_img(img, fy, fx):\n",
        "    r = np.zeros( (1, img.shape[1]-fy+1, img.shape[2]-fx+1, fy*fx*img.shape[3] ))\n",
        "    for y in range(img.shape[1]-fy+1):\n",
        "        for x in range(img.shape[2]-fx+1):\n",
        "            r[0,y,x,:] = img[0,y:fy+y,x:fx+x,:].flatten()\n",
        "    return r"
      ],
      "execution_count": 152,
      "outputs": []
    },
    {
      "cell_type": "markdown",
      "metadata": {
        "id": "NlSy_w4gA0Hy"
      },
      "source": [
        "test your code manually"
      ]
    },
    {
      "cell_type": "code",
      "metadata": {
        "scrolled": false,
        "id": "LGGaE1hfA0Hy"
      },
      "source": [
        "pimg = prepare_img(img, *f.shape[:2])\n",
        "pimg"
      ],
      "execution_count": null,
      "outputs": []
    },
    {
      "cell_type": "code",
      "metadata": {
        "id": "eQIudXm_A0Hy",
        "colab": {
          "base_uri": "https://localhost:8080/"
        },
        "outputId": "426071c4-39d2-4604-fe5c-e532848d0e49"
      },
      "source": [
        "pimg[0].dot(f[:,:,:,0].flatten())"
      ],
      "execution_count": 151,
      "outputs": [
        {
          "output_type": "execute_result",
          "data": {
            "text/plain": [
              "array([[206., 192., 236., 220.],\n",
              "       [191., 202., 148., 151.],\n",
              "       [196., 182., 159., 151.],\n",
              "       [160., 214., 194., 159.],\n",
              "       [ 88., 143., 185., 166.],\n",
              "       [122., 145., 191., 217.],\n",
              "       [164., 243., 209., 216.]])"
            ]
          },
          "metadata": {
            "tags": []
          },
          "execution_count": 151
        }
      ]
    },
    {
      "cell_type": "markdown",
      "metadata": {
        "id": "vL0hZ_v5A0Hy"
      },
      "source": [
        "**Registra tu solución en linea**"
      ]
    },
    {
      "cell_type": "code",
      "metadata": {
        "scrolled": false,
        "id": "k-2ZbwXSA0Hy",
        "colab": {
          "base_uri": "https://localhost:8080/",
          "height": 0
        },
        "outputId": "0f90f141-7725-4c37-d044-73ad3d432541"
      },
      "source": [
        "student.submit_task(namespace=globals(), task_id='T2');"
      ],
      "execution_count": 154,
      "outputs": [
        {
          "output_type": "display_data",
          "data": {
            "text/html": [
              "\n",
              "                    <b>T2 submitted.</b> <b><font color=\"blue\">your grade is 5</font></b> \n",
              "                    <p/><pre>----- grader message -------</pre>testing your code with 100 random calls<br/><b>correct</b><pre>----------------------------</pre>\n",
              "                    <p/><p/>\n",
              "                    <div style=\"font-size:10px\"><b>SUBMISSION CODE</b> 0DjupCYvHVrSlZ9ZXrs+QwITGIX2XnbtdKe8dA9kK3SGbmAZZPurH51clwkYpiUjHejxm3ocaJ7Sq530BZsnnjks0BAe70l9hGx36HI/uqbp7XdxIirp02yNbnbHQDus1IIgzvCGk8GTx0EKqVgElA==</div>\n",
              "                    "
            ],
            "text/plain": [
              "<IPython.core.display.HTML object>"
            ]
          },
          "metadata": {
            "tags": []
          }
        }
      ]
    },
    {
      "cell_type": "code",
      "metadata": {
        "id": "229nj0bnA0Hz"
      },
      "source": [
        ""
      ],
      "execution_count": null,
      "outputs": []
    },
    {
      "cell_type": "code",
      "metadata": {
        "id": "e0WWec6BA0Hz"
      },
      "source": [
        ""
      ],
      "execution_count": null,
      "outputs": []
    },
    {
      "cell_type": "markdown",
      "metadata": {
        "id": "1jWoBrQUA0Hz"
      },
      "source": [
        "## TASK 3: Compute number of weights\n",
        "\n",
        "Complete the following function so that it computes the number of weights of a convolutional architecture as specified in the arguments.\n",
        "\n",
        "- `input_shape`:  the shape of the input image\n",
        "- `filters`: a list of dictionaries, with one dictionary per convolutional layer specifying the number and size of the filters of the layer.\n",
        "- `dense_shapes`: a list of integers, with one integer per dense layer specifying the number of neurons of the layer.\n",
        "\n",
        "see the example below. **YOU CANNOT USE TENSORFLOW** in your implementation. Use the function `tf_build_model` below to understand the function arguments and check your implementation.\n",
        "\n",
        "use `VALID` padding for the convolutional layers."
      ]
    },
    {
      "cell_type": "code",
      "metadata": {
        "id": "8Ss0nlcUA0Hz"
      },
      "source": [
        "def compute_nb_weights(input_shape, filters, dense_shapes):\n",
        "    r = 0\n",
        "    input_shape = list(input_shape)\n",
        "    for filter in  filters:\n",
        "         r += filter['size']*filter['size']*input_shape[2]*filter['n_filters']+filter['n_filters'] \n",
        "         pastCh = filter['n_filters']\n",
        "         input_shape[0]= input_shape[0]-filter['size']+1\n",
        "         input_shape[1]= input_shape[1]-filter['size']+1\n",
        "         input_shape[2]= filter['n_filters']\n",
        "    input_shape = input_shape[0]* input_shape[1]* input_shape[2]\n",
        "    for d in dense_shapes:\n",
        "        r+= input_shape*d + d\n",
        "        input_shape = d\n",
        "    return r"
      ],
      "execution_count": 185,
      "outputs": []
    },
    {
      "cell_type": "code",
      "metadata": {
        "id": "dnPdp8fbA0Hz"
      },
      "source": [
        "fs = [ {'n_filters': 90, 'size': 5}, {'n_filters': 15, 'size': 4}]\n",
        "ds = [100,20,3]\n",
        "input_shape = (100,100,3)"
      ],
      "execution_count": 186,
      "outputs": []
    },
    {
      "cell_type": "code",
      "metadata": {
        "colab": {
          "base_uri": "https://localhost:8080/"
        },
        "id": "8SysUI5l_R-D",
        "outputId": "3a919eb0-3c1c-4b34-8a6a-14c0c7ba52e3"
      },
      "source": [
        "compute_nb_weights(input_shape,fs,ds)"
      ],
      "execution_count": 187,
      "outputs": [
        {
          "output_type": "execute_result",
          "data": {
            "text/plain": [
              "13004138"
            ]
          },
          "metadata": {
            "tags": []
          },
          "execution_count": 187
        }
      ]
    },
    {
      "cell_type": "code",
      "metadata": {
        "id": "4ueQqtL4A0H0"
      },
      "source": [
        "from tensorflow.keras.models import Sequential\n",
        "from tensorflow.keras.layers import Dense, Conv2D, Input, Flatten\n",
        "\n",
        "def tf_build_model(input_shape, filters, dense_shapes):\n",
        "    \n",
        "    model = Sequential()\n",
        "    model.add(Input(shape=input_shape))  # 250x250 RGB images\n",
        "    for f in filters:\n",
        "        model.add(Conv2D(f['n_filters'], f['size'], strides=1, padding='VALID', activation=\"relu\"))\n",
        "    model.add(Flatten())\n",
        "    for n in dense_shapes:\n",
        "        model.add(Dense(n))\n",
        "        \n",
        "    return model"
      ],
      "execution_count": 156,
      "outputs": []
    },
    {
      "cell_type": "code",
      "metadata": {
        "id": "aTAWKFJHA0H0"
      },
      "source": [
        ""
      ],
      "execution_count": null,
      "outputs": []
    },
    {
      "cell_type": "code",
      "metadata": {
        "scrolled": true,
        "id": "fFznEeUxA0H0",
        "colab": {
          "base_uri": "https://localhost:8080/"
        },
        "outputId": "9d79b4e1-cef4-42f5-bae3-075998e788f4"
      },
      "source": [
        "m = tf_build_model(input_shape, fs, ds)\n",
        "m.summary()"
      ],
      "execution_count": 157,
      "outputs": [
        {
          "output_type": "stream",
          "text": [
            "Model: \"sequential\"\n",
            "_________________________________________________________________\n",
            "Layer (type)                 Output Shape              Param #   \n",
            "=================================================================\n",
            "conv2d_17 (Conv2D)           (None, 96, 96, 90)        6840      \n",
            "_________________________________________________________________\n",
            "conv2d_18 (Conv2D)           (None, 93, 93, 15)        21615     \n",
            "_________________________________________________________________\n",
            "flatten (Flatten)            (None, 129735)            0         \n",
            "_________________________________________________________________\n",
            "dense (Dense)                (None, 100)               12973600  \n",
            "_________________________________________________________________\n",
            "dense_1 (Dense)              (None, 20)                2020      \n",
            "_________________________________________________________________\n",
            "dense_2 (Dense)              (None, 3)                 63        \n",
            "=================================================================\n",
            "Total params: 13,004,138\n",
            "Trainable params: 13,004,138\n",
            "Non-trainable params: 0\n",
            "_________________________________________________________________\n"
          ],
          "name": "stdout"
        }
      ]
    },
    {
      "cell_type": "markdown",
      "metadata": {
        "id": "b6KXlcZmA0H0"
      },
      "source": [
        "**Registra tu solución en linea**"
      ]
    },
    {
      "cell_type": "code",
      "metadata": {
        "scrolled": false,
        "id": "5QFgopsyA0H1",
        "colab": {
          "base_uri": "https://localhost:8080/",
          "height": 125
        },
        "outputId": "265470b2-0d58-4f46-f765-0d587dc6906d"
      },
      "source": [
        "student.submit_task(namespace=globals(), task_id='T3');"
      ],
      "execution_count": 189,
      "outputs": [
        {
          "output_type": "display_data",
          "data": {
            "text/html": [
              "\n",
              "                    <b>T3 submitted.</b> <b><font color=\"blue\">your grade is 5</font></b> \n",
              "                    <p/><pre>----- grader message -------</pre>testing your code with 100 random calls<br/><b>correct</b><pre>----------------------------</pre>\n",
              "                    <p/><p/>\n",
              "                    <div style=\"font-size:10px\"><b>SUBMISSION CODE</b> cdK5gZUhUrGq/eGgG1rLxxySgrySp78fg5B65zHK42nEu3xdgTxJ/2iyWgQId5JFNKaKRXvI2MEN88R/+2LORNowSYoSMXF6mwH926aMPvUw4qGlpDiyfyjwNDUYbKMeA0CqbkQDN15jHbVzDLcIPA==</div>\n",
              "                    "
            ],
            "text/plain": [
              "<IPython.core.display.HTML object>"
            ]
          },
          "metadata": {
            "tags": []
          }
        }
      ]
    },
    {
      "cell_type": "code",
      "metadata": {
        "id": "iJ7QUfB8A0H1"
      },
      "source": [
        ""
      ],
      "execution_count": null,
      "outputs": []
    }
  ]
}